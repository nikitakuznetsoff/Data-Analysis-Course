{
  "nbformat": 4,
  "nbformat_minor": 0,
  "metadata": {
    "anaconda-cloud": {},
    "kernelspec": {
      "display_name": "Python 3",
      "language": "python",
      "name": "python3"
    },
    "language_info": {
      "codemirror_mode": {
        "name": "ipython",
        "version": 3
      },
      "file_extension": ".py",
      "mimetype": "text/x-python",
      "name": "python",
      "nbconvert_exporter": "python",
      "pygments_lexer": "ipython3",
      "version": "3.7.3"
    },
    "nav_menu": {},
    "toc": {
      "base_numbering": 1,
      "nav_menu": {
        "height": "254px",
        "width": "253px"
      },
      "number_sections": false,
      "sideBar": true,
      "skip_h1_title": false,
      "title_cell": "Table of Contents",
      "title_sidebar": "Contents",
      "toc_cell": false,
      "toc_position": {},
      "toc_section_display": "block",
      "toc_window_display": false
    },
    "colab": {
      "name": "seminar13-homework.ipynb",
      "provenance": [],
      "collapsed_sections": []
    }
  },
  "cells": [
    {
      "cell_type": "markdown",
      "metadata": {
        "id": "QKx8nWi7xy0A",
        "colab_type": "text"
      },
      "source": [
        "<center><img src=\"img/logo_hse_black.jpg\"></center>\n",
        "\n",
        "<h1><center>Data Analysis</center></h1>\n",
        "<h2><center>Homewrok: Neural Networks 2</center></h2>"
      ]
    },
    {
      "cell_type": "code",
      "metadata": {
        "id": "zeoB1X4gxy0J",
        "colab_type": "code",
        "colab": {}
      },
      "source": [
        "import numpy as np\n",
        "import pandas as pd\n",
        "import matplotlib.pyplot as plt\n",
        "import tensorflow as tf\n",
        "\n",
        "RND_SEED = 7\n",
        "np.random.seed(RND_SEED)\n",
        "\n",
        "%matplotlib inline"
      ],
      "execution_count": 0,
      "outputs": []
    },
    {
      "cell_type": "markdown",
      "metadata": {
        "id": "o15u7mtYxy0U",
        "colab_type": "text"
      },
      "source": [
        "# Intro\n",
        "\n",
        "For this homework you are propossed to \n",
        "1. implement autoencoder model based on Keras library using MNIST sample.\n",
        "2. set up your own dataset for transfer learning and apply pretrained model"
      ]
    },
    {
      "cell_type": "markdown",
      "metadata": {
        "id": "v_10W6rZxy0X",
        "colab_type": "text"
      },
      "source": [
        "# Autoencoders"
      ]
    },
    {
      "cell_type": "markdown",
      "metadata": {
        "id": "Mh71YBUzxy0a",
        "colab_type": "text"
      },
      "source": [
        "\n",
        "Idea of autoencoders is illustrated in the following figure:\n",
        "<center><img src='img/autoencoder_schema.jpg'></center>\n",
        "\n",
        "Autoencoder consists of two parts: encoder and decoder.\n",
        "Encoder takes an image and encodes it into another image or vector with smaller size. In other words, it compresses the image. On the other hand, decoder takes the compressed image and reconstructs the original image. If the autoencoder is designed and fitted properly, the original and reconstructed images will be similar. "
      ]
    },
    {
      "cell_type": "markdown",
      "metadata": {
        "id": "8vIZ0v3Xxy0c",
        "colab_type": "text"
      },
      "source": [
        "# Fully-connected Autoencoder"
      ]
    },
    {
      "cell_type": "markdown",
      "metadata": {
        "id": "bRpNGsfgxy0e",
        "colab_type": "text"
      },
      "source": [
        "Consider an autoencoder which consists only fully-connected layers (no convolutions, no pooling et al.) as it is show in figure:\n",
        "\n",
        "<center><img src='img/ae.png'></center>\n",
        "\n",
        "This autoencoder takes an image as a vector and encodes it into a vector of smaller size. Its output is a reconstructed image represented as a vector of the same size as the input. "
      ]
    },
    {
      "cell_type": "markdown",
      "metadata": {
        "id": "uxRpGWQjxy0f",
        "colab_type": "text"
      },
      "source": [
        "## Task 1 (1 point)\n",
        "\n",
        "Download and read MNIST sample. Plot several images. Do all preprocessing steps needed for the autoencoder.\n",
        "\n",
        "Hint: use `from tensorflow.keras.datasets import mnist`"
      ]
    },
    {
      "cell_type": "code",
      "metadata": {
        "id": "KosnZQ7rxy0g",
        "colab_type": "code",
        "colab": {}
      },
      "source": [
        "from tensorflow.keras.datasets import mnist\n",
        "(X_train, y_train), (X_test, y_test) = mnist.load_data()"
      ],
      "execution_count": 0,
      "outputs": []
    },
    {
      "cell_type": "code",
      "metadata": {
        "id": "-iiJh-04yvUJ",
        "colab_type": "code",
        "outputId": "7be700e4-b816-4c49-b145-9b8c3e390f60",
        "colab": {
          "base_uri": "https://localhost:8080/",
          "height": 35
        }
      },
      "source": [
        "n_train, _, _ = X_train.shape\n",
        "n_test, _, _ = X_test.shape\n",
        "\n",
        "n_train, n_test"
      ],
      "execution_count": 4,
      "outputs": [
        {
          "output_type": "execute_result",
          "data": {
            "text/plain": [
              "(60000, 10000)"
            ]
          },
          "metadata": {
            "tags": []
          },
          "execution_count": 4
        }
      ]
    },
    {
      "cell_type": "code",
      "metadata": {
        "id": "rvi0-8w-y7xo",
        "colab_type": "code",
        "outputId": "6b57e16d-a1ed-4126-ec68-3dca1c14dfd8",
        "colab": {
          "base_uri": "https://localhost:8080/",
          "height": 369
        }
      },
      "source": [
        "plt.figure(figsize=(5,5))\n",
        "x, y = 3, 3\n",
        "for i in range(x*y):  \n",
        "    plt.subplot(y, x, i+1)\n",
        "    plt.imshow(X_train[i], cmap=plt.cm.pink, interpolation='nearest')\n",
        "plt.tight_layout()\n",
        "plt.show()"
      ],
      "execution_count": 5,
      "outputs": [
        {
          "output_type": "display_data",
          "data": {
            "image/png": "[encoded data removed]",
            "text/plain": [
              "<Figure size 360x360 with 9 Axes>"
            ]
          },
          "metadata": {
            "tags": [],
            "needs_background": "light"
          }
        }
      ]
    },
    {
      "cell_type": "code",
      "metadata": {
        "id": "E-teCn9Gzt8H",
        "colab_type": "code",
        "colab": {}
      },
      "source": [
        "# Scale X\n",
        "X_train = X_train.astype('float32')\n",
        "X_test = X_test.astype('float32')\n",
        "\n",
        "X_train /= 255\n",
        "X_test /= 255"
      ],
      "execution_count": 0,
      "outputs": []
    },
    {
      "cell_type": "markdown",
      "metadata": {
        "id": "tU5nTYydxy0m",
        "colab_type": "text"
      },
      "source": [
        "## Task 2 (3 points)\n",
        "\n",
        "Implement your autoencoder using Keras library with the following structure:\n",
        "- **Encoder** has one fully-connected layer, that compresses an input image into a vector of size 49.\n",
        "- **Decoder** has one fully-connected layer, that reconstructs the original image. \n",
        "\n",
        "Fit your autoencoder during 5 epochs. Use **mse** error function.\n",
        "\n",
        "Hint: see Keras examples from your seminars."
      ]
    },
    {
      "cell_type": "code",
      "metadata": {
        "id": "5Ykzr9cLxy0o",
        "colab_type": "code",
        "outputId": "dc4c9393-24fb-4ab9-a116-56f508a286aa",
        "colab": {
          "base_uri": "https://localhost:8080/",
          "height": 52
        }
      },
      "source": [
        "X_train_nn = X_train.reshape((n_train, -1, ))\n",
        "X_test_nn = X_test.reshape((n_test, -1, ))\n",
        "print('X_train:    ', X_train.shape)\n",
        "print('X_train_nn: ', X_train_nn.shape)"
      ],
      "execution_count": 7,
      "outputs": [
        {
          "output_type": "stream",
          "text": [
            "X_train:     (60000, 28, 28)\n",
            "X_train_nn:  (60000, 784)\n"
          ],
          "name": "stdout"
        }
      ]
    },
    {
      "cell_type": "code",
      "metadata": {
        "id": "XLvmavhg0Kk8",
        "colab_type": "code",
        "outputId": "655e2953-2f95-424d-fef4-4e159fcbfba1",
        "colab": {
          "base_uri": "https://localhost:8080/",
          "height": 229
        }
      },
      "source": [
        "from tensorflow.keras.models import Sequential\n",
        "from tensorflow.keras.layers import Dense, Activation, Dropout, Flatten, Convolution2D, MaxPooling2D\n",
        "from tensorflow.keras import backend as K\n",
        "from tensorflow.keras import initializers\n",
        "\n",
        "model = Sequential() \n",
        "model.add(Dense(units=49, \n",
        "                input_shape=X_train_nn[0].shape,\n",
        "                activation='sigmoid'))\n",
        "\n",
        "model.add(Dense(units=X_train_nn.shape[1], \n",
        "                activation='sigmoid'))\n",
        "\n",
        "model.compile(loss='mse', optimizer='adam')\n",
        "model.summary()"
      ],
      "execution_count": 8,
      "outputs": [
        {
          "output_type": "stream",
          "text": [
            "Model: \"sequential\"\n",
            "_________________________________________________________________\n",
            "Layer (type)                 Output Shape              Param #   \n",
            "=================================================================\n",
            "dense (Dense)                (None, 49)                38465     \n",
            "_________________________________________________________________\n",
            "dense_1 (Dense)              (None, 784)               39200     \n",
            "=================================================================\n",
            "Total params: 77,665\n",
            "Trainable params: 77,665\n",
            "Non-trainable params: 0\n",
            "_________________________________________________________________\n"
          ],
          "name": "stdout"
        }
      ]
    },
    {
      "cell_type": "code",
      "metadata": {
        "id": "uzQUxeEb0uHo",
        "colab_type": "code",
        "outputId": "e2b273a1-8cf4-4acc-f017-01b5fc0dc4ca",
        "colab": {
          "base_uri": "https://localhost:8080/",
          "height": 211
        }
      },
      "source": [
        "model.fit(X_train_nn, \n",
        "          X_train_nn, \n",
        "          epochs=5, \n",
        "          validation_data=(X_train_nn, X_train_nn))"
      ],
      "execution_count": 9,
      "outputs": [
        {
          "output_type": "stream",
          "text": [
            "Epoch 1/5\n",
            "1875/1875 [==============================] - 6s 3ms/step - loss: 0.0647 - val_loss: 0.0513\n",
            "Epoch 2/5\n",
            "1875/1875 [==============================] - 6s 3ms/step - loss: 0.0427 - val_loss: 0.0367\n",
            "Epoch 3/5\n",
            "1875/1875 [==============================] - 6s 3ms/step - loss: 0.0336 - val_loss: 0.0311\n",
            "Epoch 4/5\n",
            "1875/1875 [==============================] - 6s 3ms/step - loss: 0.0295 - val_loss: 0.0281\n",
            "Epoch 5/5\n",
            "1875/1875 [==============================] - 6s 3ms/step - loss: 0.0273 - val_loss: 0.0265\n"
          ],
          "name": "stdout"
        },
        {
          "output_type": "execute_result",
          "data": {
            "text/plain": [
              "<tensorflow.python.keras.callbacks.History at 0x7fa47321f588>"
            ]
          },
          "metadata": {
            "tags": []
          },
          "execution_count": 9
        }
      ]
    },
    {
      "cell_type": "markdown",
      "metadata": {
        "id": "dnQcDIWtxy0u",
        "colab_type": "text"
      },
      "source": [
        "## Task 3 (1 point)\n",
        "\n",
        "Test your autoencoder. Calculate MSE error between inputs and outputs of the autoencoder. Plot several input and output images. Are they similar? "
      ]
    },
    {
      "cell_type": "markdown",
      "metadata": {
        "id": "kqXY4gQ6CbRU",
        "colab_type": "text"
      },
      "source": [
        "#### MSE"
      ]
    },
    {
      "cell_type": "code",
      "metadata": {
        "id": "AqeftsoYBaQd",
        "colab_type": "code",
        "colab": {}
      },
      "source": [
        "from sklearn.metrics import mean_squared_error"
      ],
      "execution_count": 0,
      "outputs": []
    },
    {
      "cell_type": "code",
      "metadata": {
        "id": "uretJE6Wxy0u",
        "colab_type": "code",
        "outputId": "e546ab7f-ccbe-41cb-e871-66925dc09b18",
        "colab": {
          "base_uri": "https://localhost:8080/",
          "height": 35
        }
      },
      "source": [
        "pred = model.predict(X_test_nn)\n",
        "print(\"MSE: \", mean_squared_error(X_test_nn, pred))"
      ],
      "execution_count": 11,
      "outputs": [
        {
          "output_type": "stream",
          "text": [
            "MSE:  0.026216557\n"
          ],
          "name": "stdout"
        }
      ]
    },
    {
      "cell_type": "markdown",
      "metadata": {
        "id": "dE1lKmMUCd5-",
        "colab_type": "text"
      },
      "source": [
        "#### Images"
      ]
    },
    {
      "cell_type": "code",
      "metadata": {
        "id": "NUSk9qHXCg8w",
        "colab_type": "code",
        "outputId": "cc2c6ec4-ddaa-4fce-88e8-19bd6b0e2959",
        "colab": {
          "base_uri": "https://localhost:8080/",
          "height": 811
        }
      },
      "source": [
        "pred_img = pred.reshape(X_test.shape)\n",
        "\n",
        "rows, columns = 8, 2\n",
        "_, ax = plt.subplots(rows, columns, sharex=True, figsize=(7, 14))\n",
        "\n",
        "for i in range(rows):\n",
        "  ax[i, 0].imshow(X_test[i])\n",
        "  ax[i, 1].imshow(pred_img[i])\n",
        "plt.show()"
      ],
      "execution_count": 12,
      "outputs": [
        {
          "output_type": "display_data",
          "data": {
            "image/png": "[encoded data removed]",
            "text/plain": [
              "<Figure size 504x1008 with 16 Axes>"
            ]
          },
          "metadata": {
            "tags": [],
            "needs_background": "light"
          }
        }
      ]
    },
    {
      "cell_type": "markdown",
      "metadata": {
        "id": "E_pKPtw0xy0z",
        "colab_type": "text"
      },
      "source": [
        "# Transfer Learning"
      ]
    },
    {
      "cell_type": "markdown",
      "metadata": {
        "id": "ryIAWnwVxy00",
        "colab_type": "text"
      },
      "source": [
        "In this task you should construct your own dataset to perform classification or regression task.\n",
        "For instance you can\n",
        "* Predict age (age group) given face image\n",
        "* Classify different types of vehicles on the image\n",
        "* Classify smartphone models\n",
        "* [Your Idea Here]"
      ]
    },
    {
      "cell_type": "markdown",
      "metadata": {
        "id": "Dfw2Tdlgxy01",
        "colab_type": "raw"
      },
      "source": [
        "Write down your task: Классифицировать изображения на аккордеоны и баяны"
      ]
    },
    {
      "cell_type": "markdown",
      "metadata": {
        "id": "_PweQ4VDxy02",
        "colab_type": "text"
      },
      "source": [
        "## Task 4 (3 points)\n",
        "\n",
        "Construct your dataset\n",
        "* It should be you handmade raw dataset (not loaded completely in the web by someone else)\n",
        "* It should contain at least 500 images (the more - the better)\n",
        "* Once collected it should be downloadable via `wget` command in terminal (if you have windows you can check it in Google Collab) - for instance use dropbox or Yandex.Disk to get the link\n",
        "\n",
        "Helpful links: [1](https://www.pyimagesearch.com/2018/04/09/how-to-quickly-build-a-deep-learning-image-dataset/), [2](https://www.pyimagesearch.com/2017/12/04/how-to-create-a-deep-learning-dataset-using-google-images/)"
      ]
    },
    {
      "cell_type": "code",
      "metadata": {
        "id": "EesupyP_KWeZ",
        "colab_type": "code",
        "colab": {}
      },
      "source": [
        "import cv2\n",
        "import glob\n",
        "import numpy as np\n",
        "from sklearn.model_selection import train_test_split\n",
        "from tensorflow.keras.preprocessing.image import ImageDataGenerator"
      ],
      "execution_count": 0,
      "outputs": []
    },
    {
      "cell_type": "code",
      "metadata": {
        "id": "0x6A7vJXxy03",
        "colab_type": "code",
        "outputId": "e3fc3cf8-384b-493a-aa60-49c06c75bafd",
        "colab": {
          "base_uri": "https://localhost:8080/",
          "height": 461
        }
      },
      "source": [
        "!wget \"https://www.dropbox.com/s/hsm97hbzzi5s0vp/images.zip?dl=0\" -O images.zip"
      ],
      "execution_count": 70,
      "outputs": [
        {
          "output_type": "stream",
          "text": [
            "--2020-05-27 16:58:15--  https://www.dropbox.com/s/hsm97hbzzi5s0vp/images.zip?dl=0\n",
            "Resolving www.dropbox.com (www.dropbox.com)... 162.125.8.1, 2620:100:6021:1::a27d:4101\n",
            "Connecting to www.dropbox.com (www.dropbox.com)|162.125.8.1|:443... connected.\n",
            "HTTP request sent, awaiting response... 301 Moved Permanently\n",
            "Location: /s/raw/hsm97hbzzi5s0vp/images.zip [following]\n",
            "--2020-05-27 16:58:15--  https://www.dropbox.com/s/raw/hsm97hbzzi5s0vp/images.zip\n",
            "Reusing existing connection to www.dropbox.com:443.\n",
            "HTTP request sent, awaiting response... 302 Found\n",
            "Location: https://uc3c23bbdb2428a33e7e115aba70.dl.dropboxusercontent.com/cd/0/inline/A4imy7Rjk8V3pa_-6FY1TP62V2RkiAGBvKxfiw6Zi4fOdOCHJK6DJYEbG6Cajx1LMWDsa-SWF0Os1SftJOurGCDROWYCpYsDVsBZC1AaJlxhJteulGF0iujR2sYvwaACjkk/file# [following]\n",
            "--2020-05-27 16:58:16--  https://uc3c23bbdb2428a33e7e115aba70.dl.dropboxusercontent.com/cd/0/inline/A4imy7Rjk8V3pa_-6FY1TP62V2RkiAGBvKxfiw6Zi4fOdOCHJK6DJYEbG6Cajx1LMWDsa-SWF0Os1SftJOurGCDROWYCpYsDVsBZC1AaJlxhJteulGF0iujR2sYvwaACjkk/file\n",
            "Resolving uc3c23bbdb2428a33e7e115aba70.dl.dropboxusercontent.com (uc3c23bbdb2428a33e7e115aba70.dl.dropboxusercontent.com)... 162.125.65.6, 2620:100:6021:6::a27d:4106\n",
            "Connecting to uc3c23bbdb2428a33e7e115aba70.dl.dropboxusercontent.com (uc3c23bbdb2428a33e7e115aba70.dl.dropboxusercontent.com)|162.125.65.6|:443... connected.\n",
            "HTTP request sent, awaiting response... 302 FOUND\n",
            "Location: /cd/0/inline2/A4jBN_sNdB1xyZT5O4kgEgNfRP34hx5xedsRSYbLgDxQNls_lyYW2b7n3CWqeNFYDs_Ddc0AW7w8o4X0DI_3z9MLXaj-RZbO3RFqSTJ3k5DRylETsKF0ypAHmklWpQYSndh1ff6h3L6LEHxOcQE-3dweu5Ep90fQNlsxKCxCj2n0MhgL2Q7sOdrUsbu4ZROqWARegSjq8lo5fNpg3kQbv39_iYET1EULw1yv2JcJXSnKWznsZ-Tdp4ynZ6fs5WdXdL85AxOOHn5T0Gxc0whA-KdutMS-DDxzjXwUwCB5DtthdaFMlCt7yiRcHILr_Y1VTBJpIwbnD-7oViNCr5AKFl1_PTRgmBH0RKE61tHelp0mEQ/file [following]\n",
            "--2020-05-27 16:58:16--  https://uc3c23bbdb2428a33e7e115aba70.dl.dropboxusercontent.com/cd/0/inline2/A4jBN_sNdB1xyZT5O4kgEgNfRP34hx5xedsRSYbLgDxQNls_lyYW2b7n3CWqeNFYDs_Ddc0AW7w8o4X0DI_3z9MLXaj-RZbO3RFqSTJ3k5DRylETsKF0ypAHmklWpQYSndh1ff6h3L6LEHxOcQE-3dweu5Ep90fQNlsxKCxCj2n0MhgL2Q7sOdrUsbu4ZROqWARegSjq8lo5fNpg3kQbv39_iYET1EULw1yv2JcJXSnKWznsZ-Tdp4ynZ6fs5WdXdL85AxOOHn5T0Gxc0whA-KdutMS-DDxzjXwUwCB5DtthdaFMlCt7yiRcHILr_Y1VTBJpIwbnD-7oViNCr5AKFl1_PTRgmBH0RKE61tHelp0mEQ/file\n",
            "Reusing existing connection to uc3c23bbdb2428a33e7e115aba70.dl.dropboxusercontent.com:443.\n",
            "HTTP request sent, awaiting response... 200 OK\n",
            "Length: 233935588 (223M) [application/zip]\n",
            "Saving to: ‘images.zip’\n",
            "\n",
            "images.zip          100%[===================>] 223.10M  9.64MB/s    in 23s     \n",
            "\n",
            "2020-05-27 16:58:40 (9.86 MB/s) - ‘images.zip’ saved [233935588/233935588]\n",
            "\n"
          ],
          "name": "stdout"
        }
      ]
    },
    {
      "cell_type": "code",
      "metadata": {
        "id": "0Zg3Lx1Bpfer",
        "colab_type": "code",
        "outputId": "1bd2cc24-195e-49ad-e324-c0c9fcc7363d",
        "colab": {
          "base_uri": "https://localhost:8080/",
          "height": 1000
        }
      },
      "source": [
        "!unzip images.zip"
      ],
      "execution_count": 71,
      "outputs": [
        {
          "output_type": "stream",
          "text": [
            "Archive:  images.zip\n",
            "replace images/bayan/00000000.jpg? [y]es, [n]o, [A]ll, [N]one, [r]ename: A\n",
            "  inflating: images/bayan/00000000.jpg  \n",
            "  inflating: images/bayan/00000001.jpg  \n",
            "  inflating: images/bayan/00000002.jpg  \n",
            "  inflating: images/bayan/00000003.jpg  \n",
            "  inflating: images/bayan/00000004.jpg  \n",
            "  inflating: images/bayan/00000005.jpg  \n",
            "  inflating: images/bayan/00000006.jpg  \n",
            "  inflating: images/bayan/00000007.jpg  \n",
            "  inflating: images/bayan/00000008.jpg  \n",
            "  inflating: images/bayan/00000009.jpg  \n",
            "  inflating: images/bayan/00000010.jpg  \n",
            "  inflating: images/bayan/00000011.jpg  \n",
            "  inflating: images/bayan/00000012.jpg  \n",
            "  inflating: images/bayan/00000013.jpg  \n",
            "  inflating: images/bayan/00000014.jpg  \n",
            "  inflating: images/bayan/00000015.jpg  \n",
            "  inflating: images/bayan/00000016.jpg  \n",
            "  inflating: images/bayan/00000017.jpg  \n",
            "  inflating: images/bayan/00000018.jpg  \n",
            "  inflating: images/bayan/00000019.jpg  \n",
            "  inflating: images/bayan/00000020.jpg  \n",
            "  inflating: images/bayan/00000021.jpg  \n",
            "  inflating: images/bayan/00000022.jpg  \n",
            "  inflating: images/bayan/00000023.jpg  \n",
            "  inflating: images/bayan/00000024.jpg  \n",
            "  inflating: images/bayan/00000025.jpg  \n",
            "  inflating: images/bayan/00000026.jpg  \n",
            "  inflating: images/bayan/00000027.jpg  \n",
            "  inflating: images/bayan/00000028.jpg  \n",
            "  inflating: images/bayan/00000029.jpg  \n",
            "  inflating: images/bayan/00000030.jpg  \n",
            "  inflating: images/bayan/00000031.jpg  \n",
            "  inflating: images/bayan/00000033.jpg  \n",
            "  inflating: images/bayan/00000034.jpg  \n",
            "  inflating: images/bayan/00000035.jpg  \n",
            "  inflating: images/bayan/00000037.jpg  \n",
            "  inflating: images/bayan/00000038.jpg  \n",
            "  inflating: images/bayan/00000039.jpg  \n",
            "  inflating: images/bayan/00000040.jpg  \n",
            "  inflating: images/bayan/00000041.jpg  \n",
            "  inflating: images/bayan/00000042.jpg  \n",
            "  inflating: images/bayan/00000043.jpg  \n",
            "  inflating: images/bayan/00000044.jpg  \n",
            "  inflating: images/bayan/00000045.jpg  \n",
            "  inflating: images/bayan/00000046.jpg  \n",
            "  inflating: images/bayan/00000047.jpg  \n",
            "  inflating: images/bayan/00000048.jpg  \n",
            "  inflating: images/bayan/00000049.jpg  \n",
            "  inflating: images/bayan/00000050.jpg  \n",
            "  inflating: images/bayan/00000051.jpg  \n",
            "  inflating: images/bayan/00000052.jpg  \n",
            "  inflating: images/bayan/00000053.jpg  \n",
            "  inflating: images/bayan/00000054.jpg  \n",
            "  inflating: images/bayan/00000055.jpg  \n",
            "  inflating: images/bayan/00000056.jpg  \n",
            "  inflating: images/bayan/00000057.jpg  \n",
            "  inflating: images/bayan/00000058.jpg  \n",
            "  inflating: images/bayan/00000059.jpg  \n",
            "  inflating: images/bayan/00000060.jpg  \n",
            "  inflating: images/bayan/00000061.jpg  \n",
            "  inflating: images/bayan/00000062.jpg  \n",
            "  inflating: images/bayan/00000063.jpg  \n",
            "  inflating: images/bayan/00000064.jpg  \n",
            "  inflating: images/bayan/00000065.jpg  \n",
            "  inflating: images/bayan/00000066.jpg  \n",
            "  inflating: images/bayan/00000067.jpg  \n",
            "  inflating: images/bayan/00000068.jpg  \n",
            "  inflating: images/bayan/00000069.jpg  \n",
            "  inflating: images/bayan/00000070.jpg  \n",
            "  inflating: images/bayan/00000071.jpg  \n",
            "  inflating: images/bayan/00000072.jpg  \n",
            "  inflating: images/bayan/00000073.jpg  \n",
            "  inflating: images/bayan/00000074.jpg  \n",
            "  inflating: images/bayan/00000075.jpg  \n",
            "  inflating: images/bayan/00000076.jpg  \n",
            "  inflating: images/bayan/00000077.jpg  \n",
            "  inflating: images/bayan/00000078.jpg  \n",
            "  inflating: images/bayan/00000079.jpg  \n",
            "  inflating: images/bayan/00000080.jpg  \n",
            "  inflating: images/bayan/00000081.jpg  \n",
            "  inflating: images/bayan/00000082.jpg  \n",
            "  inflating: images/bayan/00000140.jpg  \n",
            "  inflating: images/bayan/00000141.jpg  \n",
            "  inflating: images/bayan/00000142.jpg  \n",
            "  inflating: images/bayan/00000083.jpg  \n",
            "  inflating: images/bayan/00000084.jpg  \n",
            "  inflating: images/bayan/00000085.jpg  \n",
            "  inflating: images/bayan/00000086.jpg  \n",
            "  inflating: images/bayan/00000087.jpg  \n",
            "  inflating: images/bayan/00000088.jpg  \n",
            "  inflating: images/bayan/00000090.jpg  \n",
            "  inflating: images/bayan/00000091.jpg  \n",
            "  inflating: images/bayan/00000092.jpg  \n",
            "  inflating: images/bayan/00000093.jpg  \n",
            "  inflating: images/bayan/00000094.jpg  \n",
            "  inflating: images/bayan/00000095.jpg  \n",
            "  inflating: images/bayan/00000096.jpg  \n",
            "  inflating: images/bayan/00000097.jpg  \n",
            "  inflating: images/bayan/00000098.jpg  \n",
            "  inflating: images/bayan/00000099.jpg  \n",
            "  inflating: images/bayan/00000100.jpg  \n",
            "  inflating: images/bayan/00000101.jpg  \n",
            "  inflating: images/bayan/00000102.jpg  \n",
            "  inflating: images/bayan/00000103.jpg  \n",
            "  inflating: images/bayan/00000104.jpg  \n",
            "  inflating: images/bayan/00000105.jpg  \n",
            "  inflating: images/bayan/00000106.jpg  \n",
            "  inflating: images/bayan/00000107.jpg  \n",
            "  inflating: images/bayan/00000108.jpg  \n",
            "  inflating: images/bayan/00000109.jpg  \n",
            "  inflating: images/bayan/00000110.jpg  \n",
            "  inflating: images/bayan/00000111.jpg  \n",
            "  inflating: images/bayan/00000112.jpg  \n",
            "  inflating: images/bayan/00000113.jpg  \n",
            "  inflating: images/bayan/00000114.jpg  \n",
            "  inflating: images/bayan/00000115.jpg  \n",
            "  inflating: images/bayan/00000116.jpg  \n",
            "  inflating: images/bayan/00000117.jpg  \n",
            "  inflating: images/bayan/00000118.jpg  \n",
            "  inflating: images/bayan/00000119.jpg  \n",
            "  inflating: images/bayan/00000120.jpg  \n",
            "  inflating: images/bayan/00000121.jpg  \n",
            "  inflating: images/bayan/00000122.jpg  \n",
            "  inflating: images/bayan/00000123.jpg  \n",
            "  inflating: images/bayan/00000124.jpg  \n",
            "  inflating: images/bayan/00000125.jpg  \n",
            "  inflating: images/bayan/00000126.jpg  \n",
            "  inflating: images/bayan/00000127.jpg  \n",
            "  inflating: images/bayan/00000128.jpg  \n",
            "  inflating: images/bayan/00000129.jpg  \n",
            "  inflating: images/bayan/00000130.jpg  \n",
            "  inflating: images/bayan/00000131.jpg  \n",
            "  inflating: images/bayan/00000132.jpg  \n",
            "  inflating: images/bayan/00000133.jpg  \n",
            "  inflating: images/bayan/00000134.jpg  \n",
            "  inflating: images/bayan/00000135.jpg  \n",
            "  inflating: images/bayan/00000136.jpg  \n",
            "  inflating: images/bayan/00000137.jpg  \n",
            "  inflating: images/bayan/00000138.jpg  \n",
            "  inflating: images/bayan/00000139.jpg  \n",
            "  inflating: images/bayan/00000143.jpg  \n",
            "  inflating: images/bayan/00000144.jpg  \n",
            "  inflating: images/bayan/00000145.jpg  \n",
            "  inflating: images/bayan/00000146.jpg  \n",
            "  inflating: images/bayan/00000147.jpg  \n",
            "  inflating: images/bayan/00000148.jpg  \n",
            "  inflating: images/bayan/00000149.jpg  \n",
            "  inflating: images/bayan/00000150.jpg  \n",
            "  inflating: images/bayan/00000151.jpg  \n",
            "  inflating: images/bayan/00000152.jpg  \n",
            "  inflating: images/bayan/00000153.jpg  \n",
            "  inflating: images/bayan/00000154.jpg  \n",
            "  inflating: images/bayan/00000155.jpg  \n",
            "  inflating: images/bayan/00000156.jpg  \n",
            "  inflating: images/bayan/00000157.jpg  \n",
            "  inflating: images/bayan/00000158.jpg  \n",
            "  inflating: images/bayan/00000159.jpg  \n",
            "  inflating: images/bayan/00000160.jpg  \n",
            "  inflating: images/bayan/00000161.jpg  \n",
            "  inflating: images/bayan/00000162.jpg  \n",
            "  inflating: images/bayan/00000163.jpg  \n",
            "  inflating: images/bayan/00000164.jpg  \n",
            "  inflating: images/bayan/00000165.jpg  \n",
            "  inflating: images/bayan/00000166.jpg  \n",
            "  inflating: images/bayan/00000167.jpg  \n",
            "  inflating: images/bayan/00000168.jpg  \n",
            "  inflating: images/bayan/00000169.jpg  \n",
            "  inflating: images/bayan/00000170.jpg  \n",
            "  inflating: images/bayan/00000171.jpg  \n",
            "  inflating: images/bayan/00000172.jpg  \n",
            "  inflating: images/bayan/00000173.jpg  \n",
            "  inflating: images/bayan/00000174.jpg  \n",
            "  inflating: images/bayan/00000175.jpg  \n",
            "  inflating: images/bayan/00000176.jpg  \n",
            "  inflating: images/bayan/00000177.jpg  \n",
            "  inflating: images/bayan/00000178.jpg  \n",
            "  inflating: images/bayan/00000179.jpg  \n",
            "  inflating: images/bayan/00000180.jpg  \n",
            "  inflating: images/bayan/00000181.jpg  \n",
            "  inflating: images/bayan/00000182.jpg  \n",
            "  inflating: images/bayan/00000183.jpg  \n",
            "  inflating: images/bayan/00000184.jpg  \n",
            "  inflating: images/bayan/00000185.jpg  \n",
            "  inflating: images/bayan/00000187.jpg  \n",
            "  inflating: images/bayan/00000188.jpg  \n",
            "  inflating: images/bayan/00000189.jpg  \n",
            "  inflating: images/bayan/00000190.jpg  \n",
            "  inflating: images/bayan/00000191.jpg  \n",
            "  inflating: images/bayan/00000192.jpg  \n",
            "  inflating: images/bayan/00000193.jpg  \n",
            "  inflating: images/bayan/00000194.jpg  \n",
            "  inflating: images/bayan/00000195.jpg  \n",
            "  inflating: images/bayan/00000196.jpg  \n",
            "  inflating: images/bayan/00000197.jpg  \n",
            "  inflating: images/bayan/00000198.jpg  \n",
            "  inflating: images/bayan/00000199.jpg  \n",
            "  inflating: images/bayan/00000200.jpg  \n",
            "  inflating: images/bayan/00000201.jpg  \n",
            "  inflating: images/bayan/00000202.jpg  \n",
            "  inflating: images/bayan/00000203.jpg  \n",
            "  inflating: images/bayan/00000204.jpg  \n",
            "  inflating: images/bayan/00000205.jpg  \n",
            "  inflating: images/bayan/00000206.jpg  \n",
            "  inflating: images/bayan/00000208.jpg  \n",
            "  inflating: images/bayan/00000209.jpg  \n",
            "  inflating: images/bayan/00000210.jpg  \n",
            "  inflating: images/bayan/00000211.jpg  \n",
            "  inflating: images/bayan/00000212.jpg  \n",
            "  inflating: images/bayan/00000213.jpg  \n",
            "  inflating: images/bayan/00000214.jpg  \n",
            "  inflating: images/bayan/00000215.jpg  \n",
            "  inflating: images/bayan/00000216.jpg  \n",
            "  inflating: images/bayan/00000217.jpg  \n",
            "  inflating: images/bayan/00000218.jpg  \n",
            "  inflating: images/bayan/00000219.jpg  \n",
            "  inflating: images/bayan/00000220.jpg  \n",
            "  inflating: images/bayan/00000221.jpg  \n",
            "  inflating: images/bayan/00000222.jpg  \n",
            "  inflating: images/bayan/00000223.jpg  \n",
            "  inflating: images/bayan/00000224.jpg  \n",
            "  inflating: images/bayan/00000225.jpg  \n",
            "  inflating: images/bayan/00000227.jpg  \n",
            "  inflating: images/bayan/00000228.jpg  \n",
            "  inflating: images/bayan/00000229.jpg  \n",
            "  inflating: images/bayan/00000230.jpg  \n",
            "  inflating: images/bayan/00000231.jpg  \n",
            "  inflating: images/bayan/00000232.jpg  \n",
            "  inflating: images/bayan/00000233.jpg  \n",
            "  inflating: images/bayan/00000234.jpg  \n",
            "  inflating: images/bayan/00000235.jpg  \n",
            "  inflating: images/bayan/00000236.jpg  \n",
            "  inflating: images/bayan/00000237.jpg  \n",
            "  inflating: images/bayan/00000238.jpg  \n",
            "  inflating: images/bayan/00000239.jpg  \n",
            "  inflating: images/bayan/00000240.jpg  \n",
            "  inflating: images/bayan/00000241.jpg  \n",
            "  inflating: images/bayan/00000242.jpg  \n",
            "  inflating: images/bayan/00000243.jpg  \n",
            "  inflating: images/bayan/00000244.jpg  \n",
            "  inflating: images/bayan/00000245.jpg  \n",
            "  inflating: images/bayan/00000246.jpg  \n",
            "  inflating: images/bayan/00000247.jpg  \n",
            "  inflating: images/bayan/00000248.jpg  \n",
            "  inflating: images/bayan/00000249.jpg  \n",
            "  inflating: images/bayan/00000250.jpg  \n",
            "  inflating: images/bayan/00000251.jpg  \n",
            "  inflating: images/bayan/00000252.jpg  \n",
            "  inflating: images/bayan/00000253.jpg  \n",
            "  inflating: images/bayan/00000254.jpg  \n",
            "  inflating: images/bayan/00000255.jpg  \n",
            "  inflating: images/bayan/00000256.jpg  \n",
            "  inflating: images/bayan/00000257.jpg  \n",
            "  inflating: images/bayan/00000258.jpg  \n",
            "  inflating: images/bayan/00000259.jpg  \n",
            "  inflating: images/bayan/00000260.jpg  \n",
            "  inflating: images/bayan/00000261.jpg  \n",
            "  inflating: images/bayan/00000262.jpg  \n",
            "  inflating: images/bayan/00000263.jpg  \n",
            "  inflating: images/bayan/00000265.jpg  \n",
            "  inflating: images/bayan/00000266.jpg  \n",
            "  inflating: images/bayan/00000267.jpg  \n",
            "  inflating: images/bayan/00000268.jpg  \n",
            "  inflating: images/bayan/00000269.jpg  \n",
            "  inflating: images/bayan/00000270.jpg  \n",
            "  inflating: images/bayan/00000271.jpg  \n",
            "  inflating: images/bayan/00000272.jpg  \n",
            "  inflating: images/bayan/00000273.jpg  \n",
            "  inflating: images/bayan/00000274.jpg  \n",
            "  inflating: images/bayan/00000275.jpg  \n",
            "  inflating: images/bayan/00000276.jpg  \n",
            "  inflating: images/bayan/00000277.jpg  \n",
            "  inflating: images/bayan/00000278.jpg  \n",
            "  inflating: images/bayan/00000279.jpg  \n",
            "  inflating: images/bayan/00000280.jpg  \n",
            "  inflating: images/bayan/00000281.jpg  \n",
            "  inflating: images/bayan/00000282.jpg  \n",
            "  inflating: images/bayan/00000283.jpg  \n",
            "  inflating: images/bayan/00000284.jpg  \n",
            "  inflating: images/bayan/00000286.jpg  \n",
            "  inflating: images/bayan/00000287.jpg  \n",
            "  inflating: images/bayan/00000288.jpg  \n",
            "  inflating: images/bayan/00000289.jpg  \n",
            "  inflating: images/bayan/00000290.jpg  \n",
            "  inflating: images/bayan/00000291.jpg  \n",
            "  inflating: images/bayan/00000292.jpg  \n",
            "  inflating: images/bayan/00000293.jpg  \n",
            "  inflating: images/bayan/00000294.jpg  \n",
            "  inflating: images/bayan/00000295.jpg  \n",
            "  inflating: images/bayan/00000296.jpg  \n",
            "  inflating: images/bayan/00000297.jpg  \n",
            "  inflating: images/bayan/00000298.jpg  \n",
            "  inflating: images/bayan/00000299.jpg  \n",
            "  inflating: images/bayan/00000300.jpg  \n",
            "  inflating: images/bayan/00000301.jpg  \n",
            "  inflating: images/bayan/00000302.jpg  \n",
            "  inflating: images/bayan/00000303.jpg  \n",
            "  inflating: images/bayan/00000304.jpg  \n",
            "  inflating: images/bayan/00000305.jpg  \n",
            "  inflating: images/bayan/00000306.jpg  \n",
            "  inflating: images/bayan/00000307.jpg  \n",
            "  inflating: images/bayan/00000308.jpg  \n",
            "  inflating: images/bayan/00000309.jpg  \n",
            "  inflating: images/bayan/00000310.jpg  \n",
            "  inflating: images/bayan/00000311.jpg  \n",
            "  inflating: images/bayan/00000312.jpg  \n",
            "  inflating: images/bayan/00000313.jpg  \n",
            "  inflating: images/bayan/00000314.jpg  \n",
            "  inflating: images/bayan/00000316.jpg  \n",
            "  inflating: images/bayan/00000317.jpg  \n",
            "  inflating: images/bayan/00000318.jpg  \n",
            "  inflating: images/bayan/00000319.jpg  \n",
            "  inflating: images/bayan/00000320.jpg  \n",
            "  inflating: images/bayan/00000321.jpg  \n",
            "  inflating: images/bayan/00000322.jpg  \n",
            "  inflating: images/bayan/00000323.jpg  \n",
            "  inflating: images/bayan/00000324.jpg  \n",
            "  inflating: images/bayan/00000325.jpg  \n",
            "  inflating: images/bayan/00000326.jpg  \n",
            "  inflating: images/bayan/00000327.jpg  \n",
            "  inflating: images/bayan/00000328.jpg  \n",
            "  inflating: images/bayan/00000329.jpg  \n",
            "  inflating: images/bayan/00000330.jpg  \n",
            "  inflating: images/bayan/00000331.jpg  \n",
            "  inflating: images/bayan/00000332.jpg  \n",
            "  inflating: images/bayan/00000333.jpg  \n",
            "  inflating: images/bayan/00000334.jpg  \n",
            "  inflating: images/bayan/00000335.jpg  \n",
            "  inflating: images/bayan/00000336.jpg  \n",
            "  inflating: images/bayan/00000337.jpg  \n",
            "  inflating: images/bayan/00000338.jpg  \n",
            "  inflating: images/bayan/00000339.jpg  \n",
            "  inflating: images/bayan/00000340.jpg  \n",
            "  inflating: images/bayan/00000341.jpg  \n",
            "  inflating: images/bayan/00000342.jpg  \n",
            "  inflating: images/bayan/00000343.jpg  \n",
            "  inflating: images/bayan/00000344.jpg  \n",
            "  inflating: images/bayan/00000345.jpg  \n",
            "  inflating: images/bayan/00000346.jpg  \n",
            "  inflating: images/bayan/00000347.jpg  \n",
            "  inflating: images/bayan/00000348.jpg  \n",
            "  inflating: images/bayan/00000349.jpg  \n",
            "  inflating: images/bayan/00000350.jpg  \n",
            "  inflating: images/bayan/00000351.jpg  \n",
            "  inflating: images/bayan/00000352.jpg  \n",
            "  inflating: images/bayan/00000353.jpg  \n",
            "  inflating: images/bayan/00000354.jpg  \n",
            "  inflating: images/bayan/00000355.jpg  \n",
            "  inflating: images/bayan/00000356.jpg  \n",
            "  inflating: images/bayan/00000357.jpg  \n",
            "  inflating: images/bayan/00000358.jpg  \n",
            "  inflating: images/bayan/00000359.jpg  \n",
            "  inflating: images/bayan/00000360.jpg  \n",
            "  inflating: images/bayan/00000361.jpg  \n",
            "  inflating: images/bayan/00000362.jpg  \n",
            "  inflating: images/bayan/00000363.jpg  \n",
            "  inflating: images/bayan/00000365.jpg  \n",
            "  inflating: images/bayan/00000366.jpg  \n",
            "  inflating: images/bayan/00000367.jpg  \n",
            "  inflating: images/bayan/00000368.jpg  \n",
            "  inflating: images/bayan/00000369.jpg  \n",
            "  inflating: images/bayan/00000370.jpg  \n",
            "  inflating: images/bayan/00000371.jpg  \n",
            "  inflating: images/bayan/00000372.jpg  \n",
            "  inflating: images/bayan/00000373.jpg  \n",
            "  inflating: images/bayan/00000374.jpg  \n",
            "  inflating: images/bayan/00000375.jpg  \n",
            "  inflating: images/bayan/00000376.jpg  \n",
            "  inflating: images/bayan/00000377.jpg  \n",
            "  inflating: images/bayan/00000378.jpg  \n",
            "  inflating: images/bayan/00000379.jpg  \n",
            "  inflating: images/bayan/00000380.jpg  \n",
            "  inflating: images/bayan/00000381.jpg  \n",
            "  inflating: images/bayan/00000382.jpg  \n",
            "  inflating: images/bayan/00000383.jpg  \n",
            "  inflating: images/bayan/00000384.jpg  \n",
            "  inflating: images/bayan/00000385.jpg  \n",
            "  inflating: images/bayan/00000386.jpg  \n",
            "  inflating: images/bayan/00000387.jpg  \n",
            "  inflating: images/bayan/00000388.jpg  \n",
            "  inflating: images/bayan/00000389.jpg  \n",
            "  inflating: images/bayan/00000390.jpg  \n",
            "  inflating: images/bayan/00000391.jpg  \n",
            "  inflating: images/bayan/00000392.jpg  \n",
            "  inflating: images/bayan/00000393.jpg  \n",
            "  inflating: images/bayan/00000394.jpg  \n",
            "  inflating: images/bayan/00000395.jpg  \n",
            "  inflating: images/bayan/00000396.jpg  \n",
            "  inflating: images/bayan/00000397.jpg  \n",
            "  inflating: images/bayan/00000398.jpg  \n",
            "  inflating: images/bayan/00000399.jpg  \n",
            "  inflating: images/bayan/00000400.jpg  \n",
            "  inflating: images/bayan/00000401.jpg  \n",
            "  inflating: images/bayan/00000402.jpg  \n",
            "  inflating: images/bayan/00000403.jpg  \n",
            "  inflating: images/bayan/00000404.jpg  \n",
            "  inflating: images/bayan/00000405.jpg  \n",
            "  inflating: images/bayan/00000406.jpg  \n",
            "  inflating: images/bayan/00000407.jpg  \n",
            "  inflating: images/bayan/00000408.jpg  \n",
            "  inflating: images/bayan/00000409.jpg  \n",
            "  inflating: images/bayan/00000410.jpg  \n",
            "  inflating: images/bayan/00000411.jpg  \n",
            "  inflating: images/bayan/00000412.jpg  \n",
            "  inflating: images/bayan/00000413.jpg  \n",
            "  inflating: images/bayan/00000414.jpg  \n",
            "  inflating: images/bayan/00000415.jpg  \n",
            "  inflating: images/bayan/00000416.jpg  \n",
            "  inflating: images/bayan/00000417.jpg  \n",
            "  inflating: images/bayan/00000418.jpg  \n",
            "  inflating: images/bayan/00000419.jpg  \n",
            "  inflating: images/bayan/00000420.jpg  \n",
            "  inflating: images/bayan/00000421.jpg  \n",
            "  inflating: images/bayan/00000422.jpg  \n",
            "  inflating: images/bayan/00000423.jpg  \n",
            "  inflating: images/bayan/00000424.jpg  \n",
            "  inflating: images/bayan/00000425.jpg  \n",
            "  inflating: images/bayan/00000426.jpg  \n",
            "  inflating: images/bayan/00000427.jpg  \n",
            "  inflating: images/bayan/00000428.jpg  \n",
            "  inflating: images/bayan/00000429.jpg  \n",
            "  inflating: images/bayan/00000431.jpg  \n",
            "  inflating: images/bayan/00000432.jpg  \n",
            "  inflating: images/bayan/00000433.jpg  \n",
            "  inflating: images/bayan/00000434.jpg  \n",
            "  inflating: images/bayan/00000435.jpg  \n",
            "  inflating: images/bayan/00000436.jpg  \n",
            "  inflating: images/bayan/00000437.jpg  \n",
            "  inflating: images/bayan/00000438.jpg  \n",
            "  inflating: images/bayan/00000439.jpg  \n",
            "  inflating: images/bayan/00000440.jpg  \n",
            "  inflating: images/bayan/00000441.jpg  \n",
            "  inflating: images/bayan/00000442.jpg  \n",
            "  inflating: images/bayan/00000443.jpg  \n",
            "  inflating: images/bayan/00000444.jpg  \n",
            "  inflating: images/bayan/00000445.jpg  \n",
            "  inflating: images/bayan/00000446.jpg  \n",
            "  inflating: images/bayan/00000447.jpg  \n",
            "  inflating: images/bayan/00000448.jpg  \n",
            "  inflating: images/bayan/00000449.jpg  \n",
            "  inflating: images/bayan/00000451.jpg  \n",
            "  inflating: images/bayan/00000452.jpg  \n",
            "  inflating: images/bayan/00000453.jpg  \n",
            "  inflating: images/bayan/00000454.jpg  \n",
            "  inflating: images/bayan/00000455.jpg  \n",
            "  inflating: images/bayan/00000456.jpg  \n",
            "  inflating: images/bayan/00000457.jpg  \n",
            "  inflating: images/bayan/00000458.jpg  \n",
            "  inflating: images/bayan/00000459.jpg  \n",
            "  inflating: images/bayan/00000460.jpg  \n",
            "  inflating: images/bayan/00000461.jpg  \n",
            "  inflating: images/bayan/00000462.jpg  \n",
            "  inflating: images/bayan/00000464.jpg  \n",
            "  inflating: images/bayan/00000465.jpg  \n",
            "  inflating: images/bayan/00000466.jpg  \n",
            "  inflating: images/bayan/00000467.jpg  \n",
            "  inflating: images/bayan/00000468.jpg  \n",
            "  inflating: images/bayan/00000469.jpg  \n",
            "  inflating: images/bayan/00000470.jpg  \n",
            "  inflating: images/bayan/00000471.jpg  \n",
            "  inflating: images/accordeons/00000304.jpg  \n",
            "  inflating: images/accordeons/00000305.jpg  \n",
            "  inflating: images/accordeons/00000306.jpg  \n",
            "  inflating: images/accordeons/00000307.jpg  \n",
            "  inflating: images/accordeons/00000308.jpg  \n",
            "  inflating: images/accordeons/00000000.jpg  \n",
            "  inflating: images/accordeons/00000001.jpg  \n",
            "  inflating: images/accordeons/00000002.jpg  \n",
            "  inflating: images/accordeons/00000003.jpg  \n",
            "  inflating: images/accordeons/00000004.jpg  \n",
            "  inflating: images/accordeons/00000005.jpg  \n",
            "  inflating: images/accordeons/00000006.jpg  \n",
            "  inflating: images/accordeons/00000007.jpg  \n",
            "  inflating: images/accordeons/00000008.jpg  \n",
            "  inflating: images/accordeons/00000009.jpg  \n",
            "  inflating: images/accordeons/00000309.jpg  \n",
            "  inflating: images/accordeons/00000010.jpg  \n",
            "  inflating: images/accordeons/00000011.jpg  \n",
            "  inflating: images/accordeons/00000012.jpg  \n",
            "  inflating: images/accordeons/00000013.jpg  \n",
            "  inflating: images/accordeons/00000014.jpg  \n",
            "  inflating: images/accordeons/00000015.jpg  \n",
            "  inflating: images/accordeons/00000016.jpg  \n",
            "  inflating: images/accordeons/00000017.jpg  \n",
            "  inflating: images/accordeons/00000018.jpg  \n",
            "  inflating: images/accordeons/00000019.jpg  \n",
            "  inflating: images/accordeons/00000020.jpg  \n",
            "  inflating: images/accordeons/00000021.jpg  \n",
            "  inflating: images/accordeons/00000022.jpg  \n",
            "  inflating: images/accordeons/00000023.jpg  \n",
            "  inflating: images/accordeons/00000024.jpg  \n",
            "  inflating: images/accordeons/00000025.jpg  \n",
            "  inflating: images/accordeons/00000026.jpg  \n",
            "  inflating: images/accordeons/00000027.jpg  \n",
            "  inflating: images/accordeons/00000028.jpg  \n",
            "  inflating: images/accordeons/00000029.jpg  \n",
            "  inflating: images/accordeons/00000030.jpg  \n",
            "  inflating: images/accordeons/00000031.jpg  \n",
            "  inflating: images/accordeons/00000032.jpg  \n",
            "  inflating: images/accordeons/00000033.jpg  \n",
            "  inflating: images/accordeons/00000034.jpg  \n",
            "  inflating: images/accordeons/00000035.jpg  \n",
            "  inflating: images/accordeons/00000036.jpg  \n",
            "  inflating: images/accordeons/00000037.jpg  \n",
            "  inflating: images/accordeons/00000038.jpg  \n",
            "  inflating: images/accordeons/00000039.jpg  \n",
            "  inflating: images/accordeons/00000040.jpg  \n",
            "  inflating: images/accordeons/00000041.jpg  \n",
            "  inflating: images/accordeons/00000042.jpg  \n",
            "  inflating: images/accordeons/00000043.jpg  \n",
            "  inflating: images/accordeons/00000044.jpg  \n",
            "  inflating: images/accordeons/00000310.jpg  \n",
            "  inflating: images/accordeons/00000045.jpg  \n",
            "  inflating: images/accordeons/00000046.jpg  \n",
            "  inflating: images/accordeons/00000047.jpg  \n",
            "  inflating: images/accordeons/00000048.jpg  \n",
            "  inflating: images/accordeons/00000049.jpg  \n",
            "  inflating: images/accordeons/00000050.jpg  \n",
            "  inflating: images/accordeons/00000051.jpg  \n",
            "  inflating: images/accordeons/00000052.jpg  \n",
            "  inflating: images/accordeons/00000053.jpg  \n",
            "  inflating: images/accordeons/00000054.jpg  \n",
            "  inflating: images/accordeons/00000055.jpg  \n",
            "  inflating: images/accordeons/00000056.jpg  \n",
            "  inflating: images/accordeons/00000057.jpg  \n",
            "  inflating: images/accordeons/00000058.jpg  \n",
            "  inflating: images/accordeons/00000059.jpg  \n",
            "  inflating: images/accordeons/00000060.jpg  \n",
            "  inflating: images/accordeons/00000061.jpg  \n",
            "  inflating: images/accordeons/00000062.jpg  \n",
            "  inflating: images/accordeons/00000063.jpg  \n",
            "  inflating: images/accordeons/00000064.jpg  \n",
            "  inflating: images/accordeons/00000065.jpg  \n",
            "  inflating: images/accordeons/00000066.jpg  \n",
            "  inflating: images/accordeons/00000067.jpg  \n",
            "  inflating: images/accordeons/00000068.jpg  \n",
            "  inflating: images/accordeons/00000069.jpg  \n",
            "  inflating: images/accordeons/00000070.jpg  \n",
            "  inflating: images/accordeons/00000071.jpg  \n",
            "  inflating: images/accordeons/00000311.jpg  \n",
            "  inflating: images/accordeons/00000073.jpg  \n",
            "  inflating: images/accordeons/00000074.jpg  \n",
            "  inflating: images/accordeons/00000075.jpg  \n",
            "  inflating: images/accordeons/00000076.jpg  \n",
            "  inflating: images/accordeons/00000078.jpg  \n",
            "  inflating: images/accordeons/00000079.jpg  \n",
            "  inflating: images/accordeons/00000080.jpg  \n",
            "  inflating: images/accordeons/00000081.jpg  \n",
            "  inflating: images/accordeons/00000082.jpg  \n",
            "  inflating: images/accordeons/00000083.jpg  \n",
            "  inflating: images/accordeons/00000084.jpg  \n",
            "  inflating: images/accordeons/00000085.jpg  \n",
            "  inflating: images/accordeons/00000086.jpg  \n",
            "  inflating: images/accordeons/00000087.jpg  \n",
            "  inflating: images/accordeons/00000088.jpg  \n",
            "  inflating: images/accordeons/00000089.jpg  \n",
            "  inflating: images/accordeons/00000090.jpg  \n",
            "  inflating: images/accordeons/00000091.jpg  \n",
            "  inflating: images/accordeons/00000092.jpg  \n",
            "  inflating: images/accordeons/00000093.jpg  \n",
            "  inflating: images/accordeons/00000094.jpg  \n",
            "  inflating: images/accordeons/00000095.jpg  \n",
            "  inflating: images/accordeons/00000096.jpg  \n",
            "  inflating: images/accordeons/00000097.jpg  \n",
            "  inflating: images/accordeons/00000098.jpg  \n",
            "  inflating: images/accordeons/00000099.jpg  \n",
            "  inflating: images/accordeons/00000100.jpg  \n",
            "  inflating: images/accordeons/00000101.jpg  \n",
            "  inflating: images/accordeons/00000102.jpg  \n",
            "  inflating: images/accordeons/00000103.jpg  \n",
            "  inflating: images/accordeons/00000104.jpg  \n",
            "  inflating: images/accordeons/00000105.jpg  \n",
            "  inflating: images/accordeons/00000106.jpg  \n",
            "  inflating: images/accordeons/00000107.jpg  \n",
            "  inflating: images/accordeons/00000108.jpg  \n",
            "  inflating: images/accordeons/00000109.jpg  \n",
            "  inflating: images/accordeons/00000110.jpg  \n",
            "  inflating: images/accordeons/00000111.jpg  \n",
            "  inflating: images/accordeons/00000112.jpg  \n",
            "  inflating: images/accordeons/00000113.jpg  \n",
            "  inflating: images/accordeons/00000114.jpg  \n",
            "  inflating: images/accordeons/00000115.jpg  \n",
            "  inflating: images/accordeons/00000116.jpg  \n",
            "  inflating: images/accordeons/00000117.jpg  \n",
            "  inflating: images/accordeons/00000118.jpg  \n",
            "  inflating: images/accordeons/00000119.jpg  \n",
            "  inflating: images/accordeons/00000120.jpg  \n",
            "  inflating: images/accordeons/00000121.jpg  \n",
            "  inflating: images/accordeons/00000122.jpg  \n",
            "  inflating: images/accordeons/00000123.jpg  \n",
            "  inflating: images/accordeons/00000124.jpg  \n",
            "  inflating: images/accordeons/00000125.jpg  \n",
            "  inflating: images/accordeons/00000126.jpg  \n",
            "  inflating: images/accordeons/00000127.jpg  \n",
            "  inflating: images/accordeons/00000128.jpg  \n",
            "  inflating: images/accordeons/00000130.jpg  \n",
            "  inflating: images/accordeons/00000131.jpg  \n",
            "  inflating: images/accordeons/00000132.jpg  \n",
            "  inflating: images/accordeons/00000133.jpg  \n",
            "  inflating: images/accordeons/00000134.jpg  \n",
            "  inflating: images/accordeons/00000135.jpg  \n",
            "  inflating: images/accordeons/00000136.jpg  \n",
            "  inflating: images/accordeons/00000137.jpg  \n",
            "  inflating: images/accordeons/00000138.jpg  \n",
            "  inflating: images/accordeons/00000139.jpg  \n",
            "  inflating: images/accordeons/00000140.jpg  \n",
            "  inflating: images/accordeons/00000141.jpg  \n",
            "  inflating: images/accordeons/00000142.jpg  \n",
            "  inflating: images/accordeons/00000143.jpg  \n",
            "  inflating: images/accordeons/00000144.jpg  \n",
            "  inflating: images/accordeons/00000145.jpg  \n",
            "  inflating: images/accordeons/00000146.jpg  \n",
            "  inflating: images/accordeons/00000147.jpg  \n",
            "  inflating: images/accordeons/00000148.jpg  \n",
            "  inflating: images/accordeons/00000149.jpg  \n",
            "  inflating: images/accordeons/00000150.jpg  \n",
            "  inflating: images/accordeons/00000151.jpg  \n",
            "  inflating: images/accordeons/00000152.jpg  \n",
            "  inflating: images/accordeons/00000153.jpg  \n",
            "  inflating: images/accordeons/00000154.jpg  \n",
            "  inflating: images/accordeons/00000155.jpg  \n",
            "  inflating: images/accordeons/00000156.jpg  \n",
            "  inflating: images/accordeons/00000157.jpg  \n",
            "  inflating: images/accordeons/00000158.jpg  \n",
            "  inflating: images/accordeons/00000159.jpg  \n",
            "  inflating: images/accordeons/00000160.jpg  \n",
            "  inflating: images/accordeons/00000161.jpg  \n",
            "  inflating: images/accordeons/00000162.jpg  \n",
            "  inflating: images/accordeons/00000163.jpg  \n",
            "  inflating: images/accordeons/00000164.jpg  \n",
            "  inflating: images/accordeons/00000165.jpg  \n",
            "  inflating: images/accordeons/00000312.jpg  \n",
            "  inflating: images/accordeons/00000166.jpg  \n",
            "  inflating: images/accordeons/00000167.jpg  \n",
            "  inflating: images/accordeons/00000168.jpg  \n",
            "  inflating: images/accordeons/00000169.jpg  \n",
            "  inflating: images/accordeons/00000170.jpg  \n",
            "  inflating: images/accordeons/00000171.jpg  \n",
            "  inflating: images/accordeons/00000172.jpg  \n",
            "  inflating: images/accordeons/00000173.jpg  \n",
            "  inflating: images/accordeons/00000174.jpg  \n",
            "  inflating: images/accordeons/00000175.jpg  \n",
            "  inflating: images/accordeons/00000176.jpg  \n",
            "  inflating: images/accordeons/00000177.jpg  \n",
            "  inflating: images/accordeons/00000178.jpg  \n",
            "  inflating: images/accordeons/00000179.jpg  \n",
            "  inflating: images/accordeons/00000180.jpg  \n",
            "  inflating: images/accordeons/00000181.jpg  \n",
            "  inflating: images/accordeons/00000182.jpg  \n",
            "  inflating: images/accordeons/00000183.jpg  \n",
            "  inflating: images/accordeons/00000184.jpg  \n",
            "  inflating: images/accordeons/00000185.jpg  \n",
            "  inflating: images/accordeons/00000186.jpg  \n",
            "  inflating: images/accordeons/00000187.jpg  \n",
            "  inflating: images/accordeons/00000188.jpg  \n",
            "  inflating: images/accordeons/00000189.jpg  \n",
            "  inflating: images/accordeons/00000190.jpg  \n",
            "  inflating: images/accordeons/00000191.jpg  \n",
            "  inflating: images/accordeons/00000192.jpg  \n",
            "  inflating: images/accordeons/00000193.jpg  \n",
            "  inflating: images/accordeons/00000194.jpg  \n",
            "  inflating: images/accordeons/00000195.jpg  \n",
            "  inflating: images/accordeons/00000196.jpg  \n",
            "  inflating: images/accordeons/00000197.jpg  \n",
            "  inflating: images/accordeons/00000198.jpg  \n",
            "  inflating: images/accordeons/00000199.jpg  \n",
            "  inflating: images/accordeons/00000200.jpg  \n",
            "  inflating: images/accordeons/00000201.jpg  \n",
            "  inflating: images/accordeons/00000202.jpg  \n",
            "  inflating: images/accordeons/00000203.jpg  \n",
            "  inflating: images/accordeons/00000204.jpg  \n",
            "  inflating: images/accordeons/00000205.jpg  \n",
            "  inflating: images/accordeons/00000206.jpg  \n",
            "  inflating: images/accordeons/00000207.jpg  \n",
            "  inflating: images/accordeons/00000313.jpg  \n",
            "  inflating: images/accordeons/00000208.jpg  \n",
            "  inflating: images/accordeons/00000209.jpg  \n",
            "  inflating: images/accordeons/00000210.jpg  \n",
            "  inflating: images/accordeons/00000211.jpg  \n",
            "  inflating: images/accordeons/00000212.jpg  \n",
            "  inflating: images/accordeons/00000213.jpg  \n",
            "  inflating: images/accordeons/00000214.jpg  \n",
            "  inflating: images/accordeons/00000215.jpg  \n",
            "  inflating: images/accordeons/00000216.jpg  \n",
            "  inflating: images/accordeons/00000217.jpg  \n",
            "  inflating: images/accordeons/00000218.jpg  \n",
            "  inflating: images/accordeons/00000219.jpg  \n",
            "  inflating: images/accordeons/00000220.jpg  \n",
            "  inflating: images/accordeons/00000221.jpg  \n",
            "  inflating: images/accordeons/00000222.jpg  \n",
            "  inflating: images/accordeons/00000223.jpg  \n",
            "  inflating: images/accordeons/00000225.jpg  \n",
            "  inflating: images/accordeons/00000226.jpg  \n",
            "  inflating: images/accordeons/00000227.jpg  \n",
            "  inflating: images/accordeons/00000228.jpg  \n",
            "  inflating: images/accordeons/00000229.jpg  \n",
            "  inflating: images/accordeons/00000230.jpg  \n",
            "  inflating: images/accordeons/00000231.jpg  \n",
            "  inflating: images/accordeons/00000232.jpg  \n",
            "  inflating: images/accordeons/00000233.jpg  \n",
            "  inflating: images/accordeons/00000234.jpg  \n",
            "  inflating: images/accordeons/00000235.jpg  \n",
            "  inflating: images/accordeons/00000236.jpg  \n",
            "  inflating: images/accordeons/00000237.jpg  \n",
            "  inflating: images/accordeons/00000238.jpg  \n",
            "  inflating: images/accordeons/00000239.jpg  \n",
            "  inflating: images/accordeons/00000240.jpg  \n",
            "  inflating: images/accordeons/00000241.jpg  \n",
            "  inflating: images/accordeons/00000242.jpg  \n",
            "  inflating: images/accordeons/00000243.jpg  \n",
            "  inflating: images/accordeons/00000314.jpg  \n",
            "  inflating: images/accordeons/00000244.jpg  \n",
            "  inflating: images/accordeons/00000245.jpg  \n",
            "  inflating: images/accordeons/00000246.jpg  \n",
            "  inflating: images/accordeons/00000247.jpg  \n",
            "  inflating: images/accordeons/00000248.jpg  \n",
            "  inflating: images/accordeons/00000249.jpg  \n",
            "  inflating: images/accordeons/00000250.jpg  \n",
            "  inflating: images/accordeons/00000251.jpg  \n",
            "  inflating: images/accordeons/00000252.jpg  \n",
            "  inflating: images/accordeons/00000253.jpg  \n",
            "  inflating: images/accordeons/00000254.jpg  \n",
            "  inflating: images/accordeons/00000255.jpg  \n",
            "  inflating: images/accordeons/00000256.jpg  \n",
            "  inflating: images/accordeons/00000257.jpg  \n",
            "  inflating: images/accordeons/00000258.jpg  \n",
            "  inflating: images/accordeons/00000315.jpg  \n",
            "  inflating: images/accordeons/00000259.jpg  \n",
            "  inflating: images/accordeons/00000260.jpg  \n",
            "  inflating: images/accordeons/00000261.jpg  \n",
            "  inflating: images/accordeons/00000262.jpg  \n",
            "  inflating: images/accordeons/00000263.jpg  \n",
            "  inflating: images/accordeons/00000264.jpg  \n",
            "  inflating: images/accordeons/00000265.jpg  \n",
            "  inflating: images/accordeons/00000266.jpg  \n",
            "  inflating: images/accordeons/00000267.jpg  \n",
            "  inflating: images/accordeons/00000268.jpg  \n",
            "  inflating: images/accordeons/00000269.jpg  \n",
            "  inflating: images/accordeons/00000270.jpg  \n",
            "  inflating: images/accordeons/00000271.jpg  \n",
            "  inflating: images/accordeons/00000272.jpg  \n",
            "  inflating: images/accordeons/00000273.jpg  \n",
            "  inflating: images/accordeons/00000274.jpg  \n",
            "  inflating: images/accordeons/00000275.jpg  \n",
            "  inflating: images/accordeons/00000276.jpg  \n",
            "  inflating: images/accordeons/00000277.jpg  \n",
            "  inflating: images/accordeons/00000316.jpg  \n",
            "  inflating: images/accordeons/00000278.jpg  \n",
            "  inflating: images/accordeons/00000279.jpg  \n",
            "  inflating: images/accordeons/00000280.jpg  \n",
            "  inflating: images/accordeons/00000281.jpg  \n",
            "  inflating: images/accordeons/00000282.jpg  \n",
            "  inflating: images/accordeons/00000283.jpg  \n",
            "  inflating: images/accordeons/00000284.jpg  \n",
            "  inflating: images/accordeons/00000285.jpg  \n",
            "  inflating: images/accordeons/00000286.jpg  \n",
            "  inflating: images/accordeons/00000287.jpg  \n",
            "  inflating: images/accordeons/00000288.jpg  \n",
            "  inflating: images/accordeons/00000289.jpg  \n",
            "  inflating: images/accordeons/00000290.jpg  \n",
            "  inflating: images/accordeons/00000291.jpg  \n",
            "  inflating: images/accordeons/00000292.jpg  \n",
            "  inflating: images/accordeons/00000293.jpg  \n",
            "  inflating: images/accordeons/00000294.jpg  \n",
            "  inflating: images/accordeons/00000296.jpg  \n",
            "  inflating: images/accordeons/00000297.jpg  \n",
            "  inflating: images/accordeons/00000298.jpg  \n",
            "  inflating: images/accordeons/00000299.jpg  \n",
            "  inflating: images/accordeons/00000300.jpg  \n",
            "  inflating: images/accordeons/00000301.jpg  \n",
            "  inflating: images/accordeons/00000302.jpg  \n",
            "  inflating: images/accordeons/00000303.jpg  \n",
            "  inflating: images/accordeons/00000317.jpg  \n",
            "  inflating: images/accordeons/00000318.jpg  \n",
            "  inflating: images/accordeons/00000319.jpg  \n",
            "  inflating: images/accordeons/00000320.jpg  \n",
            "  inflating: images/accordeons/00000321.jpg  \n",
            "  inflating: images/accordeons/00000322.jpg  \n",
            "  inflating: images/accordeons/00000323.jpg  \n",
            "  inflating: images/accordeons/00000324.jpg  \n",
            "  inflating: images/accordeons/00000325.jpg  \n",
            "  inflating: images/accordeons/00000326.jpg  \n",
            "  inflating: images/accordeons/00000327.jpg  \n",
            "  inflating: images/accordeons/00000328.jpg  \n",
            "  inflating: images/accordeons/00000329.jpg  \n",
            "  inflating: images/accordeons/00000330.jpg  \n",
            "  inflating: images/accordeons/00000331.jpg  \n",
            "  inflating: images/accordeons/00000332.jpg  \n",
            "  inflating: images/accordeons/00000333.jpg  \n",
            "  inflating: images/accordeons/00000334.jpg  \n",
            "  inflating: images/accordeons/00000335.jpg  \n",
            "  inflating: images/accordeons/00000336.jpg  \n",
            "  inflating: images/accordeons/00000337.jpg  \n",
            "  inflating: images/accordeons/00000338.jpg  \n",
            "  inflating: images/accordeons/00000339.jpg  \n",
            "  inflating: images/accordeons/00000340.jpg  \n",
            "  inflating: images/accordeons/00000341.jpg  \n",
            "  inflating: images/accordeons/00000342.jpg  \n",
            "  inflating: images/accordeons/00000343.jpg  \n",
            "  inflating: images/accordeons/00000344.jpg  \n",
            "  inflating: images/accordeons/00000345.jpg  \n",
            "  inflating: images/accordeons/00000346.jpg  \n",
            "  inflating: images/accordeons/00000347.jpg  \n",
            "  inflating: images/accordeons/00000348.jpg  \n",
            "  inflating: images/accordeons/00000349.jpg  \n",
            "  inflating: images/accordeons/00000350.jpg  \n",
            "  inflating: images/accordeons/00000351.jpg  \n",
            "  inflating: images/accordeons/00000352.jpg  \n",
            "  inflating: images/accordeons/00000353.jpg  \n",
            "  inflating: images/accordeons/00000354.jpg  \n",
            "  inflating: images/accordeons/00000355.jpg  \n",
            "  inflating: images/accordeons/00000356.jpg  \n",
            "  inflating: images/accordeons/00000357.jpg  \n",
            "  inflating: images/accordeons/00000358.jpg  \n",
            "  inflating: images/accordeons/00000359.jpg  \n",
            "  inflating: images/accordeons/00000360.jpg  \n",
            "  inflating: images/accordeons/00000361.jpg  \n",
            "  inflating: images/accordeons/00000362.jpg  \n",
            "  inflating: images/accordeons/00000363.jpg  \n",
            "  inflating: images/accordeons/00000364.jpg  \n",
            "  inflating: images/accordeons/00000365.jpg  \n",
            "  inflating: images/accordeons/00000366.jpg  \n",
            "  inflating: images/accordeons/00000367.jpg  \n",
            "  inflating: images/accordeons/00000368.jpg  \n",
            "  inflating: images/accordeons/00000369.jpg  \n",
            "  inflating: images/accordeons/00000370.jpg  \n",
            "  inflating: images/accordeons/00000371.jpg  \n",
            "  inflating: images/accordeons/00000372.jpg  \n",
            "  inflating: images/accordeons/00000373.jpg  \n",
            "  inflating: images/accordeons/00000374.jpg  \n",
            "  inflating: images/accordeons/00000375.jpg  \n",
            "  inflating: images/accordeons/00000376.jpg  \n",
            "  inflating: images/accordeons/00000377.jpg  \n",
            "  inflating: images/accordeons/00000378.jpg  \n",
            "  inflating: images/accordeons/00000379.jpg  \n",
            "  inflating: images/accordeons/00000380.jpg  \n",
            "  inflating: images/accordeons/00000381.jpg  \n",
            "  inflating: images/accordeons/00000382.jpg  \n",
            "  inflating: images/accordeons/00000383.jpg  \n",
            "  inflating: images/accordeons/00000384.jpg  \n",
            "  inflating: images/accordeons/00000385.jpg  \n",
            "  inflating: images/accordeons/00000386.jpg  \n",
            "  inflating: images/accordeons/00000387.jpg  \n",
            "  inflating: images/accordeons/00000388.jpg  \n",
            "  inflating: images/accordeons/00000389.jpg  \n",
            "  inflating: images/accordeons/00000390.jpg  \n",
            "  inflating: images/accordeons/00000391.jpg  \n",
            "  inflating: images/accordeons/00000392.jpg  \n",
            "  inflating: images/accordeons/00000393.jpg  \n",
            "  inflating: images/accordeons/00000394.jpg  \n",
            "  inflating: images/accordeons/00000395.jpg  \n",
            "  inflating: images/accordeons/00000396.jpg  \n",
            "  inflating: images/accordeons/00000397.jpg  \n",
            "  inflating: images/accordeons/00000398.jpg  \n",
            "  inflating: images/accordeons/00000399.jpg  \n",
            "  inflating: images/accordeons/00000400.jpg  \n",
            "  inflating: images/accordeons/00000401.jpg  \n",
            "  inflating: images/accordeons/00000402.jpg  \n",
            "  inflating: images/accordeons/00000403.jpg  \n",
            "  inflating: images/accordeons/00000404.jpg  \n",
            "  inflating: images/accordeons/00000405.jpg  \n",
            "  inflating: images/accordeons/00000406.jpg  \n",
            "  inflating: images/accordeons/00000407.jpg  \n",
            "  inflating: images/accordeons/00000408.jpg  \n",
            "  inflating: images/accordeons/00000409.jpg  \n",
            "  inflating: images/accordeons/00000410.jpg  \n",
            "  inflating: images/accordeons/00000411.jpg  \n",
            "  inflating: images/accordeons/00000412.jpg  \n",
            "  inflating: images/accordeons/00000413.jpg  \n",
            "  inflating: images/accordeons/00000414.jpg  \n",
            "  inflating: images/accordeons/00000415.jpg  \n",
            "  inflating: images/accordeons/00000416.jpg  \n",
            "  inflating: images/accordeons/00000417.jpg  \n",
            "  inflating: images/accordeons/00000418.jpg  \n",
            "  inflating: images/accordeons/00000419.jpg  \n",
            "  inflating: images/accordeons/00000420.jpg  \n",
            "  inflating: images/accordeons/00000421.jpg  \n",
            "  inflating: images/accordeons/00000422.jpg  \n",
            "  inflating: images/accordeons/00000423.jpg  \n",
            "  inflating: images/accordeons/00000424.jpg  \n",
            "  inflating: images/accordeons/00000425.jpg  \n",
            "  inflating: images/accordeons/00000426.jpg  \n",
            "  inflating: images/accordeons/00000427.jpg  \n",
            "  inflating: images/accordeons/00000428.jpg  \n",
            "  inflating: images/accordeons/00000429.jpg  \n",
            "  inflating: images/accordeons/00000430.jpg  \n",
            "  inflating: images/accordeons/00000431.jpg  \n",
            "  inflating: images/accordeons/00000432.jpg  \n",
            "  inflating: images/accordeons/00000433.jpg  \n",
            "  inflating: images/accordeons/00000434.jpg  \n",
            "  inflating: images/accordeons/00000435.jpg  \n",
            "  inflating: images/accordeons/00000436.jpg  \n",
            "  inflating: images/accordeons/00000437.jpg  \n",
            "  inflating: images/accordeons/00000438.jpg  \n",
            "  inflating: images/accordeons/00000439.jpg  \n",
            "  inflating: images/accordeons/00000440.jpg  \n",
            "  inflating: images/accordeons/00000441.jpg  \n",
            "  inflating: images/accordeons/00000442.jpg  \n",
            "  inflating: images/accordeons/00000443.jpg  \n",
            "  inflating: images/accordeons/00000444.jpg  \n",
            "  inflating: images/accordeons/00000445.jpg  \n",
            "  inflating: images/accordeons/00000446.jpg  \n",
            "  inflating: images/accordeons/00000447.jpg  \n",
            "  inflating: images/accordeons/00000448.jpg  \n",
            "  inflating: images/accordeons/00000449.jpg  \n",
            "  inflating: images/accordeons/00000450.jpg  \n",
            "  inflating: images/accordeons/00000451.jpg  \n",
            "  inflating: images/accordeons/00000452.jpg  \n",
            "  inflating: images/accordeons/00000453.jpg  \n",
            "  inflating: images/accordeons/00000454.jpg  \n",
            "  inflating: images/accordeons/00000455.jpg  \n",
            "  inflating: images/accordeons/00000456.jpg  \n",
            "  inflating: images/accordeons/00000457.jpg  \n",
            "  inflating: images/accordeons/00000459.jpg  \n",
            "  inflating: images/accordeons/00000460.jpg  \n",
            "  inflating: images/accordeons/00000461.jpg  \n",
            "  inflating: images/accordeons/00000462.jpg  \n",
            "  inflating: images/accordeons/00000463.jpg  \n",
            "  inflating: images/accordeons/00000464.jpg  \n",
            "  inflating: images/accordeons/00000465.jpg  \n",
            "  inflating: images/accordeons/00000466.jpg  \n",
            "  inflating: images/accordeons/00000467.jpg  \n",
            "  inflating: images/accordeons/00000468.jpg  \n",
            "  inflating: images/accordeons/00000470.jpg  \n",
            "  inflating: images/accordeons/00000471.jpg  \n",
            "  inflating: images/accordeons/00000472.jpg  \n",
            "  inflating: images/accordeons/00000473.jpg  \n",
            "  inflating: images/accordeons/00000474.jpg  \n",
            "  inflating: images/accordeons/00000475.jpg  \n",
            "  inflating: images/accordeons/00000476.jpg  \n",
            "  inflating: images/accordeons/00000477.jpg  \n",
            "  inflating: images/accordeons/00000478.jpg  \n",
            "  inflating: images/accordeons/00000479.jpg  \n",
            "  inflating: images/accordeons/00000480.jpg  \n",
            "  inflating: images/accordeons/00000481.jpg  \n",
            "  inflating: images/accordeons/00000482.jpg  \n",
            "  inflating: images/accordeons/00000483.jpg  \n",
            "  inflating: images/accordeons/00000484.jpg  \n",
            "  inflating: images/accordeons/00000486.jpg  \n",
            "  inflating: images/accordeons/00000487.jpg  \n",
            "  inflating: images/accordeons/00000488.jpg  \n",
            "  inflating: images/accordeons/00000489.jpg  \n",
            "  inflating: images/accordeons/00000490.jpg  \n",
            "  inflating: images/accordeons/00000491.jpg  \n",
            "  inflating: images/accordeons/00000492.jpg  \n",
            "  inflating: images/accordeons/00000493.jpg  \n",
            "  inflating: images/accordeons/00000494.jpg  \n",
            "  inflating: images/accordeons/00000495.jpg  \n",
            "  inflating: images/accordeons/00000496.jpg  \n",
            "  inflating: images/accordeons/00000497.jpg  \n",
            "  inflating: images/accordeons/00000498.jpg  \n",
            "  inflating: images/accordeons/00000499.jpg  \n",
            "  inflating: images/accordeons/00000500.jpg  \n",
            "  inflating: images/accordeons/00000501.jpg  \n",
            "  inflating: images/accordeons/00000502.jpg  \n",
            "  inflating: images/accordeons/00000503.jpg  \n",
            "  inflating: images/accordeons/00000504.jpg  \n",
            "  inflating: images/accordeons/00000505.jpg  \n",
            "  inflating: images/accordeons/00000506.jpg  \n",
            "  inflating: images/accordeons/00000507.jpg  \n",
            "  inflating: images/accordeons/00000508.jpg  \n",
            "  inflating: images/accordeons/00000509.jpg  \n",
            "  inflating: images/accordeons/00000510.jpg  \n",
            "  inflating: images/accordeons/00000511.jpg  \n",
            "  inflating: images/accordeons/00000512.jpg  \n",
            "  inflating: images/accordeons/00000513.jpg  \n",
            "  inflating: images/accordeons/00000514.jpg  \n",
            "  inflating: images/accordeons/00000515.jpg  \n",
            "  inflating: images/accordeons/00000516.jpg  \n",
            "  inflating: images/accordeons/00000517.jpg  \n",
            "  inflating: images/accordeons/00000518.jpg  \n",
            "  inflating: images/accordeons/00000519.jpg  \n",
            "  inflating: images/accordeons/00000520.jpg  \n",
            "  inflating: images/accordeons/00000521.jpg  \n",
            "  inflating: images/accordeons/00000522.jpg  \n",
            "  inflating: images/accordeons/00000523.jpg  \n",
            "  inflating: images/accordeons/00000524.jpg  \n",
            "  inflating: images/accordeons/00000526.jpg  \n"
          ],
          "name": "stdout"
        }
      ]
    },
    {
      "cell_type": "markdown",
      "metadata": {
        "id": "o8imt3Xxxy08",
        "colab_type": "text"
      },
      "source": [
        "## Task 5 (1 point)\n",
        "\n",
        "Prepare your dataset to be put through your model\n",
        "\n",
        "* Resize and normalize images\n",
        "* Split data in train and validation sets\n",
        "* Prepare data generator with image augmentation for training set"
      ]
    },
    {
      "cell_type": "code",
      "metadata": {
        "id": "RHFP65O2xy09",
        "colab_type": "code",
        "colab": {}
      },
      "source": [
        "img_width, img_height = 256, 256\n",
        "batch_size = 64\n",
        "epochs = 5\n",
        "num_classes = 2"
      ],
      "execution_count": 0,
      "outputs": []
    },
    {
      "cell_type": "code",
      "metadata": {
        "id": "chhQ0uwdwPmm",
        "colab_type": "code",
        "colab": {}
      },
      "source": [
        "bayans = []\n",
        "for image_path in glob.glob('./images/bayan/*.jpg'):\n",
        "    try:\n",
        "        bayan = cv2.imread(image_path)\n",
        "        bayan = cv2.resize(bayan, (img_width, img_height))\n",
        "        bayans.append(bayan)\n",
        "    except Exception as e:\n",
        "        print(e)"
      ],
      "execution_count": 0,
      "outputs": []
    },
    {
      "cell_type": "code",
      "metadata": {
        "id": "BGa06OxtyAVr",
        "colab_type": "code",
        "colab": {}
      },
      "source": [
        "accordeons = []\n",
        "for image_path in glob.glob('./images/accordeons/*.jpg'):\n",
        "    try:\n",
        "        accordeon = cv2.imread(image_path)\n",
        "        accordeon = cv2.resize(accordeon, (img_width, img_height))\n",
        "        accordeons.append(accordeon)\n",
        "    except Exception as e:\n",
        "        print(e)"
      ],
      "execution_count": 0,
      "outputs": []
    },
    {
      "cell_type": "code",
      "metadata": {
        "id": "6o177XXhyVc2",
        "colab_type": "code",
        "colab": {}
      },
      "source": [
        "images = bayans + accordeons\n",
        "labels = [0] * len(bayans) + [1] * len(accordeons)\n",
        "\n",
        "images = np.array(images).astype(np.float32)\n",
        "labels = np.array(labels).astype(np.float32)"
      ],
      "execution_count": 0,
      "outputs": []
    },
    {
      "cell_type": "code",
      "metadata": {
        "id": "2mkbHd2Jy1WQ",
        "colab_type": "code",
        "colab": {}
      },
      "source": [
        "from sklearn.model_selection import train_test_split\n",
        "from tensorflow.keras.preprocessing.image import ImageDataGenerator\n",
        "from tensorflow.keras.utils import to_categorical\n",
        "\n",
        "X_train, X_test, y_train, y_test = train_test_split(images, labels, test_size=0.3, random_state=42)\n",
        "y_train = to_categorical(y_train, num_classes)\n",
        "y_test = to_categorical(y_test, num_classes)"
      ],
      "execution_count": 0,
      "outputs": []
    },
    {
      "cell_type": "code",
      "metadata": {
        "id": "233kmSwizMza",
        "colab_type": "code",
        "colab": {}
      },
      "source": [
        "datagen = ImageDataGenerator(\n",
        "    horizontal_flip = True,\n",
        "    fill_mode = \"nearest\",\n",
        "    zoom_range = 0.3,\n",
        "    width_shift_range = 0.3,\n",
        "    height_shift_range=0.3,\n",
        "    rotation_range=30\n",
        ")"
      ],
      "execution_count": 0,
      "outputs": []
    },
    {
      "cell_type": "markdown",
      "metadata": {
        "id": "vFay_3P9xy1B",
        "colab_type": "text"
      },
      "source": [
        "## Task 6 (1 point)\n",
        "\n",
        "* Use any pretrained model and replace dence layers\n",
        "* Freeze (make untrainable) all weight except for dence layers weights and train your model\n",
        "* Report train and validation losses\n",
        "* Unfreeze other weights, report train validation losses"
      ]
    },
    {
      "cell_type": "code",
      "metadata": {
        "id": "JdSey1Ssxy1C",
        "colab_type": "code",
        "colab": {}
      },
      "source": [
        "from tensorflow.keras import applications"
      ],
      "execution_count": 0,
      "outputs": []
    },
    {
      "cell_type": "code",
      "metadata": {
        "id": "RRtxWrwx4iC7",
        "colab_type": "code",
        "colab": {}
      },
      "source": [
        "model = applications.VGG19(weights = \"imagenet\", include_top=False, input_shape = (img_width, img_height, 3))"
      ],
      "execution_count": 0,
      "outputs": []
    },
    {
      "cell_type": "code",
      "metadata": {
        "id": "vK038FPsETsk",
        "colab_type": "code",
        "colab": {}
      },
      "source": [
        "for layer in model.layers[:5]:\n",
        "    layer.trainable = False"
      ],
      "execution_count": 0,
      "outputs": []
    },
    {
      "cell_type": "code",
      "metadata": {
        "id": "WWOIRq5u4ldG",
        "colab_type": "code",
        "colab": {}
      },
      "source": [
        "x = model.output\n",
        "x = Flatten()(x)\n",
        "x = Dense(1024, activation=\"relu\")(x)\n",
        "x = Dropout(0.5)(x)\n",
        "x = Dense(1024, activation=\"relu\")(x)\n",
        "predictions = Dense(2, activation=\"softmax\")(x)"
      ],
      "execution_count": 0,
      "outputs": []
    },
    {
      "cell_type": "code",
      "metadata": {
        "id": "MaYnQsLQ4sSw",
        "colab_type": "code",
        "colab": {}
      },
      "source": [
        "from tensorflow.keras.models import Model\n",
        "from tensorflow.keras import optimizers"
      ],
      "execution_count": 0,
      "outputs": []
    },
    {
      "cell_type": "code",
      "metadata": {
        "id": "LgxHj5tp4tkh",
        "colab_type": "code",
        "colab": {}
      },
      "source": [
        "model_final = Model(inputs = model.input, outputs = predictions)\n",
        "\n",
        "model_final.compile(loss = \"categorical_crossentropy\", \n",
        "                    optimizer = optimizers.SGD(lr=0.001, momentum=0.9), \n",
        "                    metrics=[\"accuracy\"])"
      ],
      "execution_count": 0,
      "outputs": []
    },
    {
      "cell_type": "code",
      "metadata": {
        "id": "TxnAl74L4vZI",
        "colab_type": "code",
        "colab": {}
      },
      "source": [
        "from tensorflow.keras.callbacks import ModelCheckpoint, LearningRateScheduler, TensorBoard, EarlyStopping"
      ],
      "execution_count": 0,
      "outputs": []
    },
    {
      "cell_type": "code",
      "metadata": {
        "id": "ASqgMBcP4z33",
        "colab_type": "code",
        "colab": {}
      },
      "source": [
        "checkpoint = ModelCheckpoint(\"vgg19_1.h5\", monitor='val_acc', verbose=1, save_best_only=True, save_weights_only=False, mode='auto', save_freq=1)\n",
        "early = EarlyStopping(monitor='val_acc', min_delta=0, patience=10, verbose=1, mode='auto')"
      ],
      "execution_count": 0,
      "outputs": []
    },
    {
      "cell_type": "code",
      "metadata": {
        "id": "QHdMFpFu43PG",
        "colab_type": "code",
        "outputId": "87a318be-dd8d-4aeb-9bd5-9540c5d15524",
        "colab": {
          "base_uri": "https://localhost:8080/",
          "height": 1000
        }
      },
      "source": [
        "model_final.fit(datagen.flow(X_train, y_train,\n",
        "                            batch_size=batch_size),\n",
        "                    epochs=10,\n",
        "                    steps_per_epoch=32,\n",
        "                    validation_data=(X_test, y_test),\n",
        "                    workers=4,\n",
        "                    callbacks=[checkpoint, early])"
      ],
      "execution_count": 0,
      "outputs": [
        {
          "output_type": "stream",
          "text": [
            "Epoch 1/10\n",
            "WARNING:tensorflow:Can save best model only with val_acc available, skipping.\n",
            " 1/32 [..............................] - ETA: 0s - loss: 5.2626 - accuracy: 0.5625WARNING:tensorflow:Can save best model only with val_acc available, skipping.\n",
            " 2/32 [>.............................] - ETA: 27:06 - loss: 6.2376 - accuracy: 0.5625WARNING:tensorflow:Can save best model only with val_acc available, skipping.\n",
            " 3/32 [=>............................] - ETA: 34:52 - loss: 6.8952 - accuracy: 0.5573WARNING:tensorflow:Can save best model only with val_acc available, skipping.\n",
            " 4/32 [==>...........................] - ETA: 37:55 - loss: 5.3690 - accuracy: 0.5469WARNING:tensorflow:Can save best model only with val_acc available, skipping.\n",
            " 5/32 [===>..........................] - ETA: 39:02 - loss: 4.4463 - accuracy: 0.5312WARNING:tensorflow:Can save best model only with val_acc available, skipping.\n",
            " 6/32 [====>.........................] - ETA: 39:19 - loss: 3.8215 - accuracy: 0.5234WARNING:tensorflow:Can save best model only with val_acc available, skipping.\n",
            " 7/32 [=====>........................] - ETA: 38:54 - loss: 3.3781 - accuracy: 0.5179WARNING:tensorflow:Can save best model only with val_acc available, skipping.\n",
            " 8/32 [======>.......................] - ETA: 36:18 - loss: 3.1476 - accuracy: 0.5132WARNING:tensorflow:Can save best model only with val_acc available, skipping.\n",
            " 9/32 [=======>......................] - ETA: 35:33 - loss: 2.8741 - accuracy: 0.5117WARNING:tensorflow:Can save best model only with val_acc available, skipping.\n",
            "10/32 [========>.....................] - ETA: 34:36 - loss: 2.6539 - accuracy: 0.5105WARNING:tensorflow:Can save best model only with val_acc available, skipping.\n",
            "11/32 [=========>....................] - ETA: 33:50 - loss: 2.4701 - accuracy: 0.5095WARNING:tensorflow:Can save best model only with val_acc available, skipping.\n",
            "12/32 [==========>...................] - ETA: 32:38 - loss: 2.3179 - accuracy: 0.5127WARNING:tensorflow:Can save best model only with val_acc available, skipping.\n",
            "13/32 [===========>..................] - ETA: 31:15 - loss: 2.1894 - accuracy: 0.5166WARNING:tensorflow:Can save best model only with val_acc available, skipping.\n",
            "14/32 [============>.................] - ETA: 29:49 - loss: 2.0844 - accuracy: 0.5166WARNING:tensorflow:Can save best model only with val_acc available, skipping.\n",
            "15/32 [=============>................] - ETA: 28:19 - loss: 1.9895 - accuracy: 0.5176WARNING:tensorflow:Can save best model only with val_acc available, skipping.\n",
            "16/32 [==============>...............] - ETA: 26:48 - loss: 1.9070 - accuracy: 0.5204WARNING:tensorflow:Can save best model only with val_acc available, skipping.\n",
            "17/32 [==============>...............] - ETA: 25:16 - loss: 1.8341 - accuracy: 0.5192WARNING:tensorflow:Can save best model only with val_acc available, skipping.\n",
            "18/32 [===============>..............] - ETA: 23:41 - loss: 1.7694 - accuracy: 0.5208WARNING:tensorflow:Can save best model only with val_acc available, skipping.\n",
            "19/32 [================>.............] - ETA: 22:05 - loss: 1.7117 - accuracy: 0.5238WARNING:tensorflow:Can save best model only with val_acc available, skipping.\n",
            "20/32 [=================>............] - ETA: 20:05 - loss: 1.6762 - accuracy: 0.5234WARNING:tensorflow:Can save best model only with val_acc available, skipping.\n",
            "21/32 [==================>...........] - ETA: 18:29 - loss: 1.6279 - accuracy: 0.5207WARNING:tensorflow:Can save best model only with val_acc available, skipping.\n",
            "22/32 [===================>..........] - ETA: 16:56 - loss: 1.5842 - accuracy: 0.5190WARNING:tensorflow:Can save best model only with val_acc available, skipping.\n",
            "23/32 [====================>.........] - ETA: 15:04 - loss: 1.5569 - accuracy: 0.5209WARNING:tensorflow:Can save best model only with val_acc available, skipping.\n",
            "24/32 [=====================>........] - ETA: 13:27 - loss: 1.5194 - accuracy: 0.5193WARNING:tensorflow:Can save best model only with val_acc available, skipping.\n",
            "25/32 [======================>.......] - ETA: 11:48 - loss: 1.4849 - accuracy: 0.5211WARNING:tensorflow:Can save best model only with val_acc available, skipping.\n",
            "26/32 [=======================>......] - ETA: 10:08 - loss: 1.4533 - accuracy: 0.5191WARNING:tensorflow:Can save best model only with val_acc available, skipping.\n",
            "27/32 [========================>.....] - ETA: 8:28 - loss: 1.4240 - accuracy: 0.5195 WARNING:tensorflow:Can save best model only with val_acc available, skipping.\n",
            "28/32 [=========================>....] - ETA: 6:48 - loss: 1.3970 - accuracy: 0.5188WARNING:tensorflow:Can save best model only with val_acc available, skipping.\n",
            "29/32 [==========================>...] - ETA: 5:07 - loss: 1.3718 - accuracy: 0.5192WARNING:tensorflow:Can save best model only with val_acc available, skipping.\n",
            "30/32 [===========================>..] - ETA: 3:25 - loss: 1.3483 - accuracy: 0.5213WARNING:tensorflow:Can save best model only with val_acc available, skipping.\n",
            "31/32 [============================>.] - ETA: 1:42 - loss: 1.3264 - accuracy: 0.5216WARNING:tensorflow:Can save best model only with val_acc available, skipping.\n",
            "32/32 [==============================] - ETA: 0s - loss: 1.3060 - accuracy: 0.5214  WARNING:tensorflow:Early stopping conditioned on metric `val_acc` which is not available. Available metrics are: loss,accuracy,val_loss,val_accuracy\n",
            "32/32 [==============================] - 3449s 108s/step - loss: 1.3060 - accuracy: 0.5214 - val_loss: 0.6925 - val_accuracy: 0.5340\n",
            "Epoch 2/10\n",
            "WARNING:tensorflow:Can save best model only with val_acc available, skipping.\n",
            " 1/32 [..............................] - ETA: 0s - loss: 0.6908 - accuracy: 0.6250WARNING:tensorflow:Can save best model only with val_acc available, skipping.\n",
            " 2/32 [>.............................] - ETA: 18:26 - loss: 0.6914 - accuracy: 0.5888WARNING:tensorflow:Can save best model only with val_acc available, skipping.\n",
            " 3/32 [=>............................] - ETA: 29:28 - loss: 0.6926 - accuracy: 0.5322WARNING:tensorflow:Can save best model only with val_acc available, skipping.\n",
            " 4/32 [==>...........................] - ETA: 34:00 - loss: 0.6931 - accuracy: 0.5277WARNING:tensorflow:Can save best model only with val_acc available, skipping.\n",
            " 5/32 [===>..........................] - ETA: 36:00 - loss: 0.6926 - accuracy: 0.5284WARNING:tensorflow:Can save best model only with val_acc available, skipping.\n",
            " 6/32 [====>.........................] - ETA: 36:45 - loss: 0.6925 - accuracy: 0.5262WARNING:tensorflow:Can save best model only with val_acc available, skipping.\n",
            " 7/32 [=====>........................] - ETA: 36:51 - loss: 0.6923 - accuracy: 0.5363WARNING:tensorflow:Can save best model only with val_acc available, skipping.\n",
            " 8/32 [======>.......................] - ETA: 36:23 - loss: 0.6925 - accuracy: 0.5316WARNING:tensorflow:Can save best model only with val_acc available, skipping.\n",
            " 9/32 [=======>......................] - ETA: 35:37 - loss: 0.6924 - accuracy: 0.5333WARNING:tensorflow:Can save best model only with val_acc available, skipping.\n",
            "10/32 [========>.....................] - ETA: 34:41 - loss: 0.6924 - accuracy: 0.5299WARNING:tensorflow:Can save best model only with val_acc available, skipping.\n",
            "11/32 [=========>....................] - ETA: 33:54 - loss: 0.6925 - accuracy: 0.5286WARNING:tensorflow:Can save best model only with val_acc available, skipping.\n",
            "12/32 [==========>...................] - ETA: 32:41 - loss: 0.6923 - accuracy: 0.5341WARNING:tensorflow:Can save best model only with val_acc available, skipping.\n",
            "13/32 [===========>..................] - ETA: 31:20 - loss: 0.6925 - accuracy: 0.5216WARNING:tensorflow:Can save best model only with val_acc available, skipping.\n",
            "14/32 [============>.................] - ETA: 29:54 - loss: 0.6925 - accuracy: 0.5234WARNING:tensorflow:Can save best model only with val_acc available, skipping.\n",
            "15/32 [=============>................] - ETA: 28:24 - loss: 0.6923 - accuracy: 0.5240WARNING:tensorflow:Can save best model only with val_acc available, skipping.\n",
            "16/32 [==============>...............] - ETA: 26:52 - loss: 0.6925 - accuracy: 0.5194WARNING:tensorflow:Can save best model only with val_acc available, skipping.\n",
            "17/32 [==============>...............] - ETA: 25:18 - loss: 0.6923 - accuracy: 0.5201WARNING:tensorflow:Can save best model only with val_acc available, skipping.\n",
            "18/32 [===============>..............] - ETA: 23:43 - loss: 0.6919 - accuracy: 0.5279WARNING:tensorflow:Can save best model only with val_acc available, skipping.\n",
            "19/32 [================>.............] - ETA: 22:05 - loss: 0.6923 - accuracy: 0.5297WARNING:tensorflow:Can save best model only with val_acc available, skipping.\n",
            "20/32 [=================>............] - ETA: 20:28 - loss: 0.6923 - accuracy: 0.5298WARNING:tensorflow:Can save best model only with val_acc available, skipping.\n",
            "21/32 [==================>...........] - ETA: 18:30 - loss: 0.6923 - accuracy: 0.5300WARNING:tensorflow:Can save best model only with val_acc available, skipping.\n",
            "22/32 [===================>..........] - ETA: 16:57 - loss: 0.6923 - accuracy: 0.5286WARNING:tensorflow:Can save best model only with val_acc available, skipping.\n",
            "23/32 [====================>.........] - ETA: 15:17 - loss: 0.6925 - accuracy: 0.5238WARNING:tensorflow:Can save best model only with val_acc available, skipping.\n",
            "24/32 [=====================>........] - ETA: 13:38 - loss: 0.6925 - accuracy: 0.5234"
          ],
          "name": "stdout"
        }
      ]
    },
    {
      "cell_type": "code",
      "metadata": {
        "id": "sm90ytTb49V7",
        "colab_type": "code",
        "colab": {}
      },
      "source": [
        "y_pred = model_final.predict(X_test)\n",
        "y_pred_labels = np.argmax(y_pred, axis=1)\n",
        "accuracy_score(y_pred=y_pred_labels, y_true=y_test[:,1])"
      ],
      "execution_count": 0,
      "outputs": []
    },
    {
      "cell_type": "code",
      "metadata": {
        "id": "i-O27mKwHtiK",
        "colab_type": "code",
        "colab": {}
      },
      "source": [
        ""
      ],
      "execution_count": 0,
      "outputs": []
    }
  ]
}