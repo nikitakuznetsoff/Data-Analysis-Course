{
 "cells": [
  {
   "cell_type": "code",
   "execution_count": 1,
   "metadata": {},
   "outputs": [],
   "source": [
    "%matplotlib inline\n",
    "import numpy as np\n",
    "import pandas as pd\n",
    "import matplotlib.pyplot as plt"
   ]
  },
  {
   "cell_type": "markdown",
   "metadata": {},
   "source": [
    "# 1. Python"
   ]
  },
  {
   "cell_type": "markdown",
   "metadata": {},
   "source": [
    "**Task 1** (0.5 points)<br/> \n",
    "Enter numbers `a`,  `d` и `N`. Find sum of the first `N` members of arithmetic progression with the first member `a` and difference `d`, without using formula for the sum."
   ]
  },
  {
   "cell_type": "code",
   "execution_count": 7,
   "metadata": {},
   "outputs": [
    {
     "name": "stdout",
     "output_type": "stream",
     "text": [
      "1\n",
      "2\n",
      "3\n",
      "9\n"
     ]
    }
   ],
   "source": [
    "## Your code here\n",
    "a = int(input())\n",
    "d = int(input())\n",
    "N = int(input())\n",
    "\n",
    "sum = a\n",
    "elem = a\n",
    "for i in range(N - 1):\n",
    "    elem += d\n",
    "    sum += elem\n",
    "print(sum)\n"
   ]
  },
  {
   "cell_type": "markdown",
   "metadata": {},
   "source": [
    "**Task 2** (0.5 points) <br/> \n",
    "Enter a number `N`. Find sum of the first `N` memebers of harmonic series."
   ]
  },
  {
   "cell_type": "code",
   "execution_count": 9,
   "metadata": {},
   "outputs": [
    {
     "name": "stdout",
     "output_type": "stream",
     "text": [
      "2\n",
      "1.5\n"
     ]
    }
   ],
   "source": [
    "## Your code here\n",
    "N = int(input())\n",
    "sum = 0\n",
    "for i in range(1, N + 1):\n",
    "    sum += 1.0 / i\n",
    "print(sum)"
   ]
  },
  {
   "cell_type": "markdown",
   "metadata": {},
   "source": [
    "**Task 3** (0.5 points) <br/> \n",
    "Enter an integer number `N`. Check if it is a prime number."
   ]
  },
  {
   "cell_type": "code",
   "execution_count": 10,
   "metadata": {},
   "outputs": [
    {
     "name": "stdout",
     "output_type": "stream",
     "text": [
      "17\n",
      "True\n"
     ]
    }
   ],
   "source": [
    "## Your code here\n",
    "import math\n",
    "N = int(input())\n",
    "cond = True\n",
    "\n",
    "for i in range(2, int(math.sqrt(N)) + 1):\n",
    "    if N % i == 0:\n",
    "        cond = False \n",
    "print(cond)"
   ]
  },
  {
   "cell_type": "markdown",
   "metadata": {},
   "source": [
    "**Task 4** (0.5 points) <br/> \n",
    "Enter the first `N` prime numbers."
   ]
  },
  {
   "cell_type": "code",
   "execution_count": 16,
   "metadata": {},
   "outputs": [
    {
     "name": "stdout",
     "output_type": "stream",
     "text": [
      "10\n",
      "1\n",
      "2\n",
      "3\n",
      "5\n",
      "7\n",
      "11\n",
      "13\n",
      "17\n",
      "19\n",
      "23\n"
     ]
    }
   ],
   "source": [
    "##### Your code here\n",
    "import math\n",
    "def isPrime(num):\n",
    "    for i in range(2, int(math.sqrt(num)) + 1):\n",
    "        if num % i == 0:\n",
    "            return False\n",
    "    return True\n",
    "\n",
    "N = int(input())\n",
    "\n",
    "number = 1\n",
    "counter = 1\n",
    "while counter <= N:\n",
    "    if isPrime(number):\n",
    "        print(number)\n",
    "        counter += 1\n",
    "    number += 1"
   ]
  },
  {
   "cell_type": "markdown",
   "metadata": {},
   "source": [
    "**Task 5** (0.5 points) <br/> \n",
    "There are numbers: `a`, `b`, `c`. Without using functions `min`, `max` and other functions, find the maximum number."
   ]
  },
  {
   "cell_type": "code",
   "execution_count": 17,
   "metadata": {},
   "outputs": [
    {
     "name": "stdout",
     "output_type": "stream",
     "text": [
      "1\n",
      "2\n",
      "3\n",
      "3\n"
     ]
    }
   ],
   "source": [
    "# Your code here\n",
    "a = int(input())\n",
    "b = int(input())\n",
    "c = int(input())\n",
    "\n",
    "if a < b:\n",
    "    a = b\n",
    "if a < c:\n",
    "    a = c\n",
    "print(a)\n"
   ]
  },
  {
   "cell_type": "markdown",
   "metadata": {},
   "source": [
    "# 2. Numpy"
   ]
  },
  {
   "cell_type": "markdown",
   "metadata": {},
   "source": [
    "**Task 1** (0.5 points) <br/>\n",
    "Create two random arrays $a$ and $b$ with the same length. \n",
    "\n",
    "Calculate the following distances between the arrays:\n",
    "\n",
    "* Euclidean Distance\n",
    "$$ d(a, b) = \\sqrt{\\sum_i (a_i - b_i)^2} $$\n",
    "* Manhattan Distance\n",
    "$$ d(a, b) = \\sum_i |a_i - b_i| $$\n",
    "* Cosine Distance\n",
    "$$ d(a, b) = 1 - \\frac{a^\\top b}{||a||_2\\cdot||b||_2}$$\n"
   ]
  },
  {
   "cell_type": "code",
   "execution_count": 20,
   "metadata": {},
   "outputs": [
    {
     "name": "stdout",
     "output_type": "stream",
     "text": [
      "1.237144162433143\n",
      "3.4703849924654997\n",
      "0.16002156824089597\n"
     ]
    }
   ],
   "source": [
    "## Your code here\n",
    "def euclidean_dist(a, b):\n",
    "    sum = 0\n",
    "    for i in range(len(a)):\n",
    "        sum += (a[i] - b[i]) ** 2\n",
    "    return np.sqrt(sum)\n",
    "\n",
    "def manhattan_dist(a, b):\n",
    "    sum = 0\n",
    "    for i in range(len(a)): \n",
    "        sum += np.abs(a[i] - b[i])\n",
    "    return sum\n",
    "\n",
    "def cosine_dist(a, b):\n",
    "    a_sum, b_sum = 0, 0\n",
    "    for i in range(len(a)):\n",
    "        a_sum += a[i] ** 2\n",
    "        b_sum += b[i] ** 2\n",
    "    a_sum = np.sqrt(a_sum)\n",
    "    b_sum = np.sqrt(b_sum)\n",
    "    return 1 - ((a.T).dot(b)) / (a_sum * b_sum)\n",
    "\n",
    "\n",
    "first_arr, second_arr = np.random.rand(2, 15)\n",
    "print(euclidean_dist(first_arr, second_arr))\n",
    "print(manhattan_dist(first_arr, second_arr))\n",
    "print(cosine_dist(first_arr, second_arr))"
   ]
  },
  {
   "cell_type": "markdown",
   "metadata": {},
   "source": [
    "**Task 2** (0.5 points) <br/>\n",
    "Create a random array (`np.random.rand()`) with length of 10 and with sum of its elements equals to 2."
   ]
  },
  {
   "cell_type": "code",
   "execution_count": 21,
   "metadata": {},
   "outputs": [
    {
     "name": "stdout",
     "output_type": "stream",
     "text": [
      "2.0\n"
     ]
    }
   ],
   "source": [
    "## Your code here\n",
    "arr = np.random.rand(10)\n",
    "arr = 2 * arr / np.sum(arr)\n",
    "print(np.sum(arr))"
   ]
  },
  {
   "cell_type": "markdown",
   "metadata": {},
   "source": [
    "**Task 3** (0.5 points) <br/>\n",
    "Create a random array (`np.random.rand()`) with length of 100. Transform the array so, that \n",
    "* Maximum element(s) value is 1\n",
    "* Minimum element(s) value is 0\n",
    "* Other values are in interval 0-1 with keeping the order"
   ]
  },
  {
   "cell_type": "code",
   "execution_count": 22,
   "metadata": {},
   "outputs": [
    {
     "name": "stdout",
     "output_type": "stream",
     "text": [
      "1.0\n",
      "0.0\n"
     ]
    }
   ],
   "source": [
    "## Your code here\n",
    "arr = np.random.rand(100)\n",
    "\n",
    "min_value = np.min(arr)\n",
    "arr -= min_value\n",
    "\n",
    "max_value = np.max(arr)\n",
    "mult = 1 / max_value\n",
    "\n",
    "arr *= mult\n",
    "\n",
    "print(np.max(arr))\n",
    "print(np.min(arr))"
   ]
  },
  {
   "cell_type": "markdown",
   "metadata": {},
   "source": [
    "**Task 4** (0.5 points) <br/>\n",
    "Create a random array with length of 20 with integers from [0,50]. Select elements that are smaller than 5th percentile and larger than 95th percentile"
   ]
  },
  {
   "cell_type": "code",
   "execution_count": 30,
   "metadata": {},
   "outputs": [
    {
     "name": "stdout",
     "output_type": "stream",
     "text": [
      "[ 0  2  2  5  5  6 10 12 15 17 17 17 20 25 29 35 42 44 47 48]\n",
      "[0]\n",
      "[48]\n"
     ]
    }
   ],
   "source": [
    "## Your code here\n",
    "arr = np.random.randint(0, 50, 20)\n",
    "print(np.sort(arr))\n",
    "first_percentile = np.percentile(arr, 5)\n",
    "second_percentile = np.percentile(arr, 95)\n",
    "\n",
    "print(arr[arr < first_percentile])\n",
    "print(arr[arr > second_percentile])"
   ]
  },
  {
   "cell_type": "markdown",
   "metadata": {},
   "source": [
    "**Task 5** (0.5 points) <br/>\n",
    "Create an array with shape of $5 \\times 6$ with integer from [0,50]. Print a column that contains the maximum element of the array."
   ]
  },
  {
   "cell_type": "code",
   "execution_count": 47,
   "metadata": {},
   "outputs": [
    {
     "name": "stdout",
     "output_type": "stream",
     "text": [
      "[[44 11  5 30 16 42]\n",
      " [32 33  9 16 23 30]\n",
      " [20 48 39 19 34 43]\n",
      " [44  0  0  6 30 26]\n",
      " [45 45 21 19 25 34]]\n",
      "[11 33 48  0 45]\n"
     ]
    }
   ],
   "source": [
    "## Your code here\n",
    "arr = np.random.randint(0, 50, (5, 6))\n",
    "print(arr)\n",
    "col = np.unravel_index(np.argmax(arr), arr.shape)[1]\n",
    "print(arr[:,col])"
   ]
  },
  {
   "cell_type": "markdown",
   "metadata": {},
   "source": [
    "**Task 6** (0.5 points) <br/>\n",
    "\n",
    "Replace all missing values in the following array with mean."
   ]
  },
  {
   "cell_type": "code",
   "execution_count": 64,
   "metadata": {},
   "outputs": [
    {
     "data": {
      "text/plain": [
       "array([       nan,        nan, 0.31487435,        nan, 0.32783952,\n",
       "       0.56622322, 0.45865049, 0.57344881, 0.00396973,        nan])"
      ]
     },
     "execution_count": 64,
     "metadata": {},
     "output_type": "execute_result"
    }
   ],
   "source": [
    "arr = np.random.rand(10)\n",
    "idx = np.random.randint(0, 10, 4)\n",
    "arr[idx] = np.nan\n",
    "arr"
   ]
  },
  {
   "cell_type": "code",
   "execution_count": 65,
   "metadata": {},
   "outputs": [
    {
     "name": "stdout",
     "output_type": "stream",
     "text": [
      "[0.22450061 0.22450061 0.31487435 0.22450061 0.32783952 0.56622322\n",
      " 0.45865049 0.57344881 0.00396973 0.22450061]\n"
     ]
    }
   ],
   "source": [
    "## Your code here\n",
    "indexes = []\n",
    "for i in range(len(arr)):\n",
    "    if np.isnan(arr[i]):\n",
    "        indexes.append(i)\n",
    "        arr[i] = 0\n",
    "        \n",
    "mean = np.mean(arr)\n",
    "\n",
    "arr[indexes] = mean\n",
    "print(arr)"
   ]
  },
  {
   "cell_type": "markdown",
   "metadata": {},
   "source": [
    "### Linear Regression"
   ]
  },
  {
   "cell_type": "markdown",
   "metadata": {},
   "source": [
    "Download [file 1](https://www.dropbox.com/s/kg9px9v3xfysak9/tutorial_dataset.csv?dl=0) and [file 2](https://www.dropbox.com/s/f87gm612o144emx/tutorial_dataset_2.csv?dl=0) into a directory with this notebook. Using function `loadtxt` in `numpy` load data from the first file. Assign y = D[:,0] аnd X = D[:, 1:].\n",
    "\n",
    "\n",
    "We will use one magic formula to find linear regression coefficients. You will prove this formula on your next lectures of the course.\n",
    "\n",
    "Linear regression model in matrix form looks like: $\\hat{y} = X\\hat{\\beta}$, where\n",
    "\n",
    "$$ \\hat{\\beta} = (X^\\top X)^{-1} X^\\top y $$\n",
    "Model residuals are calculated as\n",
    "$$ \\text{res} = y - \\hat{y} $$\n",
    "\n",
    "\n",
    "**Task 7** (2.5 points)<br/>\n",
    "1. Load the data\n",
    "2. Find parameters $\\hat{\\beta}$ using the formula above\n",
    "3. Make a plot with the model residuals on Y axis and $\\hat{y}$ on X axis"
   ]
  },
  {
   "cell_type": "code",
   "execution_count": 66,
   "metadata": {},
   "outputs": [
    {
     "data": {
      "image/png": "[encoded data removed]",
      "text/plain": [
       "<Figure size 432x432 with 1 Axes>"
      ]
     },
     "metadata": {
      "needs_background": "light"
     },
     "output_type": "display_data"
    },
    {
     "name": "stdout",
     "output_type": "stream",
     "text": [
      "[-0.44246892 -0.44247308 -0.44247707 ...  0.48672088  0.48672698\n",
      "  0.48671933]\n"
     ]
    }
   ],
   "source": [
    "## load data\n",
    "D = np.loadtxt('tutorial_dataset.csv', \n",
    "               skiprows=1, \n",
    "               delimiter=',')\n",
    "\n",
    "## Your code here\n",
    "y = D[:, 0]\n",
    "X = D[:, 1:]\n",
    "\n",
    "b_hat = np.linalg.inv(X.T @ X) @ X.T @ y\n",
    "y_hat = X @ b_hat\n",
    "res = y - y_hat\n",
    "\n",
    "plt.figure(figsize=(6, 6))\n",
    "plt.scatter(y_hat, res, s=0.5)\n",
    "plt.show()\n",
    "\n",
    "print(y_hat)\n"
   ]
  },
  {
   "cell_type": "markdown",
   "metadata": {},
   "source": [
    "# 3. Pandas"
   ]
  },
  {
   "cell_type": "markdown",
   "metadata": {},
   "source": [
    "### Wine Quality"
   ]
  },
  {
   "cell_type": "markdown",
   "metadata": {},
   "source": [
    "Download [sample](https://archive.ics.uci.edu/ml/machine-learning-databases/wine-quality/winequality-red.csv) with information about wine characteristics and its quality."
   ]
  },
  {
   "cell_type": "code",
   "execution_count": 67,
   "metadata": {},
   "outputs": [],
   "source": [
    "## Your code here\n",
    "df = pd.read_csv('winequality-red.csv', sep=';')"
   ]
  },
  {
   "cell_type": "markdown",
   "metadata": {},
   "source": [
    "**Task 1 ** (1 point) <br/>\n",
    "* How much objects are in the sample?\n",
    "* What features describe the objects? How much these features?\n",
    "* What is feature a target variable?\n",
    "* What are their ranges?\n",
    "* Are there any missing values?"
   ]
  },
  {
   "cell_type": "code",
   "execution_count": 68,
   "metadata": {},
   "outputs": [
    {
     "name": "stdout",
     "output_type": "stream",
     "text": [
      "Number of objects:  1600 \n",
      "\n",
      "Features:\n",
      "Index(['fixed acidity', 'volatile acidity', 'citric acid', 'residual sugar',\n",
      "       'chlorides', 'free sulfur dioxide', 'total sulfur dioxide', 'density',\n",
      "       'pH', 'sulphates', 'alcohol', 'quality'],\n",
      "      dtype='object') \n",
      "\n",
      "Number of features:  13 \n",
      "\n",
      "Target feature: \n",
      " 0       5\n",
      "1       5\n",
      "2       5\n",
      "3       6\n",
      "4       5\n",
      "       ..\n",
      "1594    5\n",
      "1595    6\n",
      "1596    6\n",
      "1597    5\n",
      "1598    6\n",
      "Name: quality, Length: 1599, dtype: int64 \n",
      "\n",
      "Ranges:\n",
      "4.6  -  15.9\n",
      "0.12  -  1.58\n",
      "0.0  -  1.0\n",
      "0.9  -  15.5\n",
      "0.012  -  0.611\n",
      "1.0  -  72.0\n",
      "6.0  -  289.0\n",
      "0.9900700000000001  -  1.00369\n",
      "2.74  -  4.01\n",
      "0.33  -  2.0\n",
      "8.4  -  14.9\n",
      "3  -  8\n",
      "\n",
      "Number of missing values:  0\n"
     ]
    }
   ],
   "source": [
    "## Your code and answers here\n",
    "\n",
    "print(\"Number of objects: \", df.shape[0] + 1, \"\\n\")\n",
    "\n",
    "print(\"Features:\")\n",
    "print(df.columns, \"\\n\")\n",
    "\n",
    "print(\"Number of features: \", df.shape[1] + 1, \"\\n\")\n",
    "\n",
    "print(\"Target feature: \\n\", df['quality'], \"\\n\")\n",
    "\n",
    "print(\"Ranges:\")\n",
    "for feature in df.columns:\n",
    "    print(np.min(df[feature]), \" - \", np.max(df[feature]))\n",
    " \n",
    "counter = 0\n",
    "for index, row in df.iterrows():\n",
    "    for value in row:\n",
    "        if pd.isna(value):\n",
    "            counter += 1\n",
    "print(\"\\nNumber of missing values: \", counter)"
   ]
  },
  {
   "cell_type": "markdown",
   "metadata": {},
   "source": [
    "**Task 2** (1 point)<br/>\n",
    "What features affect the target variable the most?"
   ]
  },
  {
   "cell_type": "code",
   "execution_count": 69,
   "metadata": {},
   "outputs": [
    {
     "data": {
      "text/plain": [
       "'alcohol'"
      ]
     },
     "execution_count": 69,
     "metadata": {},
     "output_type": "execute_result"
    }
   ],
   "source": [
    "## Your code here\n",
    "df.corr(method='pearson')['quality'][:'alcohol'].idxmax()"
   ]
  }
 ],
 "metadata": {
  "kernelspec": {
   "display_name": "Python 3",
   "language": "python",
   "name": "python3"
  },
  "language_info": {
   "codemirror_mode": {
    "name": "ipython",
    "version": 3
   },
   "file_extension": ".py",
   "mimetype": "text/x-python",
   "name": "python",
   "nbconvert_exporter": "python",
   "pygments_lexer": "ipython3",
   "version": "3.6.8"
  }
 },
 "nbformat": 4,
 "nbformat_minor": 2
}
