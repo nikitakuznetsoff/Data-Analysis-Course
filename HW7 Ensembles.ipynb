{
  "nbformat": 4,
  "nbformat_minor": 0,
  "metadata": {
    "kernelspec": {
      "display_name": "Python 3",
      "language": "python",
      "name": "python3"
    },
    "language_info": {
      "codemirror_mode": {
        "name": "ipython",
        "version": 3
      },
      "file_extension": ".py",
      "mimetype": "text/x-python",
      "name": "python",
      "nbconvert_exporter": "python",
      "pygments_lexer": "ipython3",
      "version": "3.7.4"
    },
    "colab": {
      "name": "seminar10-homework.ipynb",
      "provenance": [],
      "collapsed_sections": [],
      "toc_visible": true
    }
  },
  "cells": [
    {
      "cell_type": "markdown",
      "metadata": {
        "id": "LFiR9XnT6dXL",
        "colab_type": "text"
      },
      "source": [
        "<center><img src=\"img/logo_hse_black.jpg\"></center>\n",
        "\n",
        "<h1><center>Data Analysis</center></h1>\n",
        "<h2><center>Seminar: Ensemble Learning. </center></h2>"
      ]
    },
    {
      "cell_type": "code",
      "metadata": {
        "id": "3KYNQrdl6dXN",
        "colab_type": "code",
        "colab": {}
      },
      "source": [
        "%matplotlib inline\n",
        "\n",
        "import numpy as np\n",
        "import pandas as pd\n",
        "import matplotlib.pyplot as plt"
      ],
      "execution_count": 0,
      "outputs": []
    },
    {
      "cell_type": "markdown",
      "metadata": {
        "id": "X9nt5Nok6dXa",
        "colab_type": "text"
      },
      "source": [
        "# Read Data"
      ]
    },
    {
      "cell_type": "code",
      "metadata": {
        "id": "RWTaww_k6dXc",
        "colab_type": "code",
        "colab": {}
      },
      "source": [
        "df_X = pd.read_csv('./data/x_train.csv', sep=';')\n",
        "df_y = pd.read_csv('./data/y_train.csv', sep=';', header=None, names=['target'])"
      ],
      "execution_count": 0,
      "outputs": []
    },
    {
      "cell_type": "code",
      "metadata": {
        "id": "wWixZXeG6dXs",
        "colab_type": "code",
        "colab": {}
      },
      "source": [
        "X = df_X.values\n",
        "y = df_y['target'].values"
      ],
      "execution_count": 0,
      "outputs": []
    },
    {
      "cell_type": "code",
      "metadata": {
        "id": "ugfyc8ml6dX4",
        "colab_type": "code",
        "outputId": "d5b45810-f5f9-417f-bb70-dc7f4dd06917",
        "colab": {
          "base_uri": "https://localhost:8080/",
          "height": 300
        }
      },
      "source": [
        "print(\"X shape: \", X.shape)\n",
        "X[:5]"
      ],
      "execution_count": 9,
      "outputs": [
        {
          "output_type": "stream",
          "text": [
            "X shape:  (25289, 12)\n"
          ],
          "name": "stdout"
        },
        {
          "output_type": "execute_result",
          "data": {
            "text/plain": [
              "array([[3.90000000e+01, 1.00000000e+01, 3.00000000e+00, 1.70000000e+01,\n",
              "        2.44444444e+01, 1.00000000e+00, 5.00000000e+00, 4.00000000e-01,\n",
              "        2.65000000e+06, 1.37500000e+03, 2.10000000e+01, 2.00000000e+00],\n",
              "       [2.10000000e+01, 2.20000000e+01, 1.90000000e+01, 5.50000000e+01,\n",
              "        1.70454545e+01, 1.00000000e+00, 6.00000000e+00, 3.33333333e-01,\n",
              "        5.61400000e+06, 3.82500000e+03, 5.10000000e+01, 4.00000000e+00],\n",
              "       [5.00000000e+00, 6.00000000e+00, 1.00000000e+00, 6.00000000e+00,\n",
              "        8.40000000e+00, 0.00000000e+00, 1.00000000e+00, 1.00000000e+00,\n",
              "        8.57000000e+05, 1.15000000e+03, 1.40000000e+01, 1.00000000e+00],\n",
              "       [2.10000000e+01, 2.00000000e+00, 5.00000000e+00, 6.00000000e+00,\n",
              "        1.90000000e+01, 0.00000000e+00, 1.00000000e+00, 0.00000000e+00,\n",
              "        1.20000000e+05, 0.00000000e+00, 1.00000000e+00, 1.00000000e+00],\n",
              "       [4.00000000e+00, 5.00000000e+00, 1.00000000e+00, 5.00000000e+00,\n",
              "        9.60000000e+00, 0.00000000e+00, 1.00000000e+00, 1.00000000e+00,\n",
              "        8.57000000e+05, 1.07500000e+03, 1.20000000e+01, 1.00000000e+00]])"
            ]
          },
          "metadata": {
            "tags": []
          },
          "execution_count": 9
        }
      ]
    },
    {
      "cell_type": "code",
      "metadata": {
        "id": "DyJ8LsT36dYB",
        "colab_type": "code",
        "outputId": "3a9a32d4-db28-40d3-e55b-9afb2c21fc7b",
        "colab": {
          "base_uri": "https://localhost:8080/",
          "height": 52
        }
      },
      "source": [
        "print(\"y shape: \", y.shape)\n",
        "y[:5]"
      ],
      "execution_count": 10,
      "outputs": [
        {
          "output_type": "stream",
          "text": [
            "y shape:  (25289,)\n"
          ],
          "name": "stdout"
        },
        {
          "output_type": "execute_result",
          "data": {
            "text/plain": [
              "array([0, 1, 1, 1, 0])"
            ]
          },
          "metadata": {
            "tags": []
          },
          "execution_count": 10
        }
      ]
    },
    {
      "cell_type": "markdown",
      "metadata": {
        "id": "9-WoC3D56dYJ",
        "colab_type": "text"
      },
      "source": [
        "# Train / Test Split"
      ]
    },
    {
      "cell_type": "code",
      "metadata": {
        "id": "3fX9UW736dYK",
        "colab_type": "code",
        "colab": {}
      },
      "source": [
        "# import train_test_split function to split the sample\n",
        "from sklearn.model_selection import train_test_split\n",
        "\n",
        "X_train, X_test, y_train, y_test = train_test_split(X, y, \n",
        "                                                    test_size=0.5,    \n",
        "                                                    random_state=123) "
      ],
      "execution_count": 0,
      "outputs": []
    },
    {
      "cell_type": "markdown",
      "metadata": {
        "id": "J5NxoEmn6dYR",
        "colab_type": "text"
      },
      "source": [
        "# Task 1 (5 points)\n",
        "\n",
        "Implement Random Forest classifier as it was described in your lectures:\n",
        "\n",
        "**Input**: \n",
        "* training dataset $TDS=\\{(x_{i},y_{i}),\\,1=1,2,...N\\}$; \n",
        "* the number of trees $B$ and the size of feature subsets $m$.\n",
        "\n",
        "for $b=1,2,...B$:\n",
        "\n",
        "1. generate random training dataset $TDS^{b}$ of size $N$ by sampling $(x_{i},y_{i})$ pairs from $TDS$ with replacement (bootstrap)\n",
        "2. build a tree using $TDS^{b}$ training dataset with feature selection for each node from random subset of features of size $m$ (generated **individually for each node**).\n",
        "\n",
        "\n",
        "**Output**: $B$ trees. Classification is done using majority vote and regression using averaging of $B$ outputs"
      ]
    },
    {
      "cell_type": "markdown",
      "metadata": {
        "id": "XmhrG0z16dYT",
        "colab_type": "text"
      },
      "source": [
        "**Hints:**\n",
        "- Use decision tree classifier from sklean library. You can import it with the command: `from sklearn.tree import DecisionTreeClassifier` with `max_features` option. \n",
        "- You can use `numpy.random.choice()` function to generate random subsamples to train decition tree classifiers."
      ]
    },
    {
      "cell_type": "markdown",
      "metadata": {
        "id": "fepBRmMd6dYW",
        "colab_type": "text"
      },
      "source": [
        "### Let' s start with small steps"
      ]
    },
    {
      "cell_type": "markdown",
      "metadata": {
        "id": "umTUO01W6dYX",
        "colab_type": "text"
      },
      "source": [
        "#### First step\n",
        "\n",
        "Implement auxiliary function, which generate K random subsamples (with replacement) of X, y of size N"
      ]
    },
    {
      "cell_type": "code",
      "metadata": {
        "id": "Go-ibXG76dYY",
        "colab_type": "code",
        "colab": {}
      },
      "source": [
        "def gen_subsamples(X, y, K, N):\n",
        "    indexes = range(X.shape[0])\n",
        "    subsamples = []\n",
        "\n",
        "    for i in range(K):\n",
        "        sub_ind = np.random.choice(indexes, size=N, replace=True)\n",
        "        X_subsamples = X[sub_ind]\n",
        "        y_subsamples = y[sub_ind]\n",
        "        subsamples.append((X_subsamples, y_subsamples))\n",
        "        \n",
        "    return subsamples"
      ],
      "execution_count": 0,
      "outputs": []
    },
    {
      "cell_type": "markdown",
      "metadata": {
        "id": "syWEwPc-6dYc",
        "colab_type": "text"
      },
      "source": [
        "#### Second step\n",
        "\n",
        "Implement auxiliary function which get list of (X,y) with lengh K and fit K base_estimators. Each estimator fit from the corresponding sample. "
      ]
    },
    {
      "cell_type": "code",
      "metadata": {
        "id": "ea07f1va6dYd",
        "colab_type": "code",
        "colab": {}
      },
      "source": [
        "def fit_subsamples(subsamples, base_estimator):\n",
        "    fitted_estimates = []\n",
        "    \n",
        "    for i in range(len(subsamples)):\n",
        "        est = base_estimator()\n",
        "        est.fit(subsamples[i][0], subsamples[i][1])\n",
        "        fitted_estimates.append(est)\n",
        "        \n",
        "    return fitted_estimates"
      ],
      "execution_count": 0,
      "outputs": []
    },
    {
      "cell_type": "markdown",
      "metadata": {
        "id": "uDSdpdFI6dYl",
        "colab_type": "text"
      },
      "source": [
        "#### Example with multiprocessing"
      ]
    },
    {
      "cell_type": "code",
      "metadata": {
        "id": "yGmCz2bi6dYm",
        "colab_type": "code",
        "colab": {}
      },
      "source": [
        "def fit(params):    \n",
        "    from sklearn.tree import DecisionTreeClassifier\n",
        "    X, y, size = params\n",
        "    subsamples = gen_subsamples(X, y, size, X.shape[0])\n",
        "    return fit_subsamples(subsamples, DecisionTreeClassifier)"
      ],
      "execution_count": 0,
      "outputs": []
    },
    {
      "cell_type": "code",
      "metadata": {
        "id": "hmsHy2eT6dYq",
        "colab_type": "code",
        "colab": {}
      },
      "source": [
        "import multiprocessing\n",
        "\n",
        "process_count = 4\n",
        "parts = [\n",
        "   (X, y, 1000 // process_count) for i in range(process_count)\n",
        "]"
      ],
      "execution_count": 0,
      "outputs": []
    },
    {
      "cell_type": "code",
      "metadata": {
        "id": "Mo8rzOqC6dYt",
        "colab_type": "code",
        "colab": {}
      },
      "source": [
        "with multiprocessing.Pool(process_count) as p:\n",
        "    # every part is sent to separate processes\n",
        "    clfs = p.map(fit, parts)"
      ],
      "execution_count": 0,
      "outputs": []
    },
    {
      "cell_type": "markdown",
      "metadata": {
        "id": "do2uOPFd6dYx",
        "colab_type": "text"
      },
      "source": [
        "### And now combine it all together in one class"
      ]
    },
    {
      "cell_type": "code",
      "metadata": {
        "id": "iDsi_BYV7z3J",
        "colab_type": "code",
        "colab": {}
      },
      "source": [
        "from sklearn.tree import DecisionTreeClassifier"
      ],
      "execution_count": 0,
      "outputs": []
    },
    {
      "cell_type": "code",
      "metadata": {
        "id": "B0r0oIuo6dYz",
        "colab_type": "code",
        "colab": {}
      },
      "source": [
        "# You need to modify this class #\n",
        "\n",
        "class RandomForestClassifier(object):\n",
        "    \n",
        "    def __init__(self, n_trees=10, n_subset_features=2): # you can add more hyperparameters\n",
        "        \"\"\"\n",
        "        This is your random forest classifier.\n",
        "        \n",
        "        Parameters\n",
        "        ----------\n",
        "        n_trees : int\n",
        "            Number of decision trees to train.\n",
        "        n_subset_features : int\n",
        "            Number of random features to used to train a decision tree.\n",
        "        \"\"\"\n",
        "        \n",
        "        self.n_trees = n_trees\n",
        "        self.n_subset_features = n_subset_features\n",
        "        self.estimators = []\n",
        "       \n",
        "    def fit_subsample(self, params):\n",
        "        X, y = params\n",
        "        clf = DecisionTreeClassifier(max_features=self.n_subset_features)\n",
        "        clf.fit(X, y)\n",
        "        return clf\n",
        "        \n",
        "        \n",
        "    def fit(self, X, y):\n",
        "        \"\"\"\n",
        "        Fit the classifier.\n",
        "        \n",
        "        Parameters\n",
        "        ----------\n",
        "        X : numpy.array, shape = (n_objects, n_features)\n",
        "            Matrix of objects that are described by their input features.\n",
        "        y : numpy.array, shape = (n_objects)\n",
        "            1D array with the object labels. \n",
        "            For the classification labels are integers in {0, 1, 2, ...}.\n",
        "        \"\"\"\n",
        "        subsamples = gen_subsamples(X, y, self.n_trees, X.shape[0])\n",
        "        \n",
        "        with multiprocessing.Pool(self.n_trees) as p:\n",
        "            self.estimators = p.map(self.fit_subsample, subsamples)\n",
        "        \n",
        "    \n",
        "    def predict_proba(self, X):\n",
        "        \"\"\"\n",
        "        This methods performs probabilities prediction for new objects.\n",
        "        \n",
        "        Parameters\n",
        "        ----------\n",
        "        X : numpy.array, shape = (n_objects, n_features)\n",
        "            Matrix of objects that are described by their input features.\n",
        "            \n",
        "        Returns\n",
        "        -------\n",
        "        proba : numpy.array, shape = (n_objects, n_classes)\n",
        "            Array with predicted probabilities. \n",
        "        \"\"\"\n",
        "        probas = []\n",
        "        \n",
        "        for i in range(self.n_trees):\n",
        "            probas.append(self.estimators[i].predict_proba(X))\n",
        "        \n",
        "        probas = np.array(probas)\n",
        "        return probas.mean(axis=0)\n",
        "    \n",
        "    \n",
        "    def predict(self, X):\n",
        "        \"\"\"\n",
        "        This methods performs labels prediction for new objects.\n",
        "        \n",
        "        Parameters\n",
        "        ----------\n",
        "        X : numpy.array, shape = (n_objects, n_features)\n",
        "            Matrix of objects that are described by their input features.\n",
        "            \n",
        "        Returns\n",
        "        -------\n",
        "        labels : numpy.array, shape = (n_objects)\n",
        "            1D array with predicted labels. \n",
        "            For the classification labels are integers in {0, 1, 2, ...}.\n",
        "        \"\"\"\n",
        "        \n",
        "        predicts = []\n",
        "        \n",
        "        for i in range(self.n_trees):\n",
        "            predicts.append(self.estimators[i].predict(X))\n",
        "        \n",
        "        predicts = np.array(predicts)\n",
        "        prediction = 1. * (predicts.mean(axis=0) >= 0.5)\n",
        "        \n",
        "        return prediction"
      ],
      "execution_count": 0,
      "outputs": []
    },
    {
      "cell_type": "code",
      "metadata": {
        "id": "ygBWJK2-6dY9",
        "colab_type": "code",
        "colab": {}
      },
      "source": [
        "clf = RandomForestClassifier(n_trees=10, n_subset_features=2)\n",
        "clf.fit(X_train, y_train)"
      ],
      "execution_count": 0,
      "outputs": []
    },
    {
      "cell_type": "code",
      "metadata": {
        "id": "-45oNjk56dZA",
        "colab_type": "code",
        "outputId": "424328ba-e7da-4bf9-acb8-6b773a0a8105",
        "colab": {
          "base_uri": "https://localhost:8080/",
          "height": 35
        }
      },
      "source": [
        "y_test_predict = clf.predict(X_test)\n",
        "\n",
        "y_test_predict[:10]"
      ],
      "execution_count": 101,
      "outputs": [
        {
          "output_type": "execute_result",
          "data": {
            "text/plain": [
              "array([0., 0., 1., 0., 0., 0., 0., 0., 0., 0.])"
            ]
          },
          "metadata": {
            "tags": []
          },
          "execution_count": 101
        }
      ]
    },
    {
      "cell_type": "code",
      "metadata": {
        "id": "uslcqvjT7-NU",
        "colab_type": "code",
        "colab": {}
      },
      "source": [
        " from sklearn.metrics import accuracy_score"
      ],
      "execution_count": 0,
      "outputs": []
    },
    {
      "cell_type": "code",
      "metadata": {
        "id": "Wbe3HBU18LX0",
        "colab_type": "code",
        "outputId": "ac1d3dc4-6c45-43d8-b8fa-f386bb10f293",
        "colab": {
          "base_uri": "https://localhost:8080/",
          "height": 35
        }
      },
      "source": [
        "accuracy_score(y_test_predict, y_test)"
      ],
      "execution_count": 87,
      "outputs": [
        {
          "output_type": "execute_result",
          "data": {
            "text/plain": [
              "0.8040332147093713"
            ]
          },
          "metadata": {
            "tags": []
          },
          "execution_count": 87
        }
      ]
    },
    {
      "cell_type": "markdown",
      "metadata": {
        "id": "0pPyPrJo6dZF",
        "colab_type": "text"
      },
      "source": [
        "# Task 2 (1 point)\n",
        "\n",
        "Plot ROC curve on the test sample for your random forest classifier. Also, claculate ROC AUC value. Use `RandomForestClassifier.predict_proba()` method.\n",
        "\n",
        "Hints:\n",
        "- You can use `sklearn.metrics.roc_curve` frunction to calculate ROC curve.\n",
        "- `sklearn.metrics.roc_auc_score` function helps you to calculate ROC AUC value."
      ]
    },
    {
      "cell_type": "code",
      "metadata": {
        "id": "YGF1Sbla6dZG",
        "colab_type": "code",
        "colab": {}
      },
      "source": [
        "from sklearn.metrics import roc_curve, roc_auc_score"
      ],
      "execution_count": 0,
      "outputs": []
    },
    {
      "cell_type": "code",
      "metadata": {
        "id": "c9pHIuXFjvOR",
        "colab_type": "code",
        "colab": {
          "base_uri": "https://localhost:8080/",
          "height": 35
        },
        "outputId": "226d2c6f-5c44-4155-9baf-f0c536a80a92"
      },
      "source": [
        "y_test_probas_true = clf.predict_proba(X_test)[:, 1]\n",
        "fpr, tpr, _ = roc_curve(y_test, y_test_probas_true)\n",
        "\n",
        "score = roc_auc_score(y_test, y_test_probas_true)\n",
        "print(\"ROC-AUC Score: \", score)"
      ],
      "execution_count": 129,
      "outputs": [
        {
          "output_type": "stream",
          "text": [
            "ROC-AUC Score:  0.8439106166585144\n"
          ],
          "name": "stdout"
        }
      ]
    },
    {
      "cell_type": "code",
      "metadata": {
        "id": "_X1ANPIGsFsC",
        "colab_type": "code",
        "colab": {
          "base_uri": "https://localhost:8080/",
          "height": 396
        },
        "outputId": "f8a25e60-e1bc-4941-9493-5a53c91b0a84"
      },
      "source": [
        "x, y = [0, 1], [0, 1]\n",
        "\n",
        "plt.figure(figsize=(9, 6))\n",
        "plt.plot(fpr, tpr, linewidth=3)\n",
        "plt.plot(x, y, linewidth=1, linestyle='--')\n",
        "\n",
        "plt.xlabel('FPR', size=18)\n",
        "plt.ylabel('TPR', size=18)\n",
        "plt.grid(b=1)\n",
        "plt.show()"
      ],
      "execution_count": 130,
      "outputs": [
        {
          "output_type": "display_data",
          "data": {
            "image/png": "[encoded data removed]",
            "text/plain": [
              "<Figure size 648x432 with 1 Axes>"
            ]
          },
          "metadata": {
            "tags": [],
            "needs_background": "light"
          }
        }
      ]
    },
    {
      "cell_type": "markdown",
      "metadata": {
        "id": "RdI3_2dK6dZJ",
        "colab_type": "text"
      },
      "source": [
        "# Task 3 (2 points)\n",
        "\n",
        "Plot dependecy of ROC AUC value from number of trees (`n_trees`) in your random forest classifier."
      ]
    },
    {
      "cell_type": "code",
      "metadata": {
        "id": "DFnH2xav6dZK",
        "colab_type": "code",
        "colab": {}
      },
      "source": [
        "trees = range(1, 101)\n",
        "scores = []\n",
        "\n",
        "for v in trees:\n",
        "  clf = RandomForestClassifier(n_trees=v, n_subset_features=2)\n",
        "  clf.fit(X_train, y_train)\n",
        "  probas = clf.predict_proba(X_test)[:, 1]\n",
        "  scores.append(roc_auc_score(y_test, probas))"
      ],
      "execution_count": 0,
      "outputs": []
    },
    {
      "cell_type": "code",
      "metadata": {
        "id": "GJ-qx0koueb2",
        "colab_type": "code",
        "colab": {
          "base_uri": "https://localhost:8080/",
          "height": 396
        },
        "outputId": "f1fbc67e-5209-403f-f898-64ddb7091871"
      },
      "source": [
        "plt.figure(figsize=(9, 6))\n",
        "plt.plot(trees, scores, linewidth=3)\n",
        "\n",
        "plt.xlabel('Number of trees', size=18)\n",
        "plt.ylabel('ROC-AUC Score', size=18)\n",
        "plt.grid(b=1)\n",
        "plt.show()"
      ],
      "execution_count": 138,
      "outputs": [
        {
          "output_type": "display_data",
          "data": {
            "image/png": "[encoded data removed]",
            "text/plain": [
              "<Figure size 648x432 with 1 Axes>"
            ]
          },
          "metadata": {
            "tags": [],
            "needs_background": "light"
          }
        }
      ]
    },
    {
      "cell_type": "markdown",
      "metadata": {
        "id": "2UZkVb3x6dZN",
        "colab_type": "text"
      },
      "source": [
        "# Task 4 (2 points)\n",
        "\n",
        "Plot dependecy of ROC AUC value from `n_subset_features` of your random forest classifier. Use `n_trees=100`."
      ]
    },
    {
      "cell_type": "code",
      "metadata": {
        "id": "KNyAcxsC6dZO",
        "colab_type": "code",
        "colab": {}
      },
      "source": [
        "subsets = range(1, X.shape[1])\n",
        "scores = []\n",
        "\n",
        "for v in subsets:\n",
        "  clf = RandomForestClassifier(n_trees=100, n_subset_features=v)\n",
        "  clf.fit(X_train, y_train)\n",
        "  probas = clf.predict_proba(X_test)[:, 1]\n",
        "  scores.append(roc_auc_score(y_test, probas))"
      ],
      "execution_count": 0,
      "outputs": []
    },
    {
      "cell_type": "code",
      "metadata": {
        "id": "O68NE5T_6dZR",
        "colab_type": "code",
        "colab": {
          "base_uri": "https://localhost:8080/",
          "height": 396
        },
        "outputId": "659358d6-79df-4de6-b5f0-4906af86618c"
      },
      "source": [
        "plt.figure(figsize=(9, 6))\n",
        "plt.plot(subsets, scores, linewidth=3)\n",
        "\n",
        "plt.xlabel('Number of subset features', size=18)\n",
        "plt.ylabel('ROC-AUC Score', size=18)\n",
        "plt.grid(b=1)\n",
        "plt.show()"
      ],
      "execution_count": 144,
      "outputs": [
        {
          "output_type": "display_data",
          "data": {
            "image/png": "[encoded data removed]",
            "text/plain": [
              "<Figure size 648x432 with 1 Axes>"
            ]
          },
          "metadata": {
            "tags": [],
            "needs_background": "light"
          }
        }
      ]
    }
  ]
}