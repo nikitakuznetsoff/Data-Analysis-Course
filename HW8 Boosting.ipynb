{
  "nbformat": 4,
  "nbformat_minor": 0,
  "metadata": {
    "kernelspec": {
      "display_name": "Python 3",
      "language": "python",
      "name": "python3"
    },
    "language_info": {
      "codemirror_mode": {
        "name": "ipython",
        "version": 3
      },
      "file_extension": ".py",
      "mimetype": "text/x-python",
      "name": "python",
      "nbconvert_exporter": "python",
      "pygments_lexer": "ipython3",
      "version": "3.6.10"
    },
    "colab": {
      "name": "homework.ipynb",
      "provenance": [],
      "collapsed_sections": []
    },
    "widgets": {
      "application/vnd.jupyter.widget-state+json": {
        "d973a06327394ff78cc1e934cec4e2d0": {
          "model_module": "@jupyter-widgets/controls",
          "model_name": "HBoxModel",
          "state": {
            "_view_name": "HBoxView",
            "_dom_classes": [],
            "_model_name": "HBoxModel",
            "_view_module": "@jupyter-widgets/controls",
            "_model_module_version": "1.5.0",
            "_view_count": null,
            "_view_module_version": "1.5.0",
            "box_style": "",
            "layout": "IPY_MODEL_f44622da7b094317a4c4dcae65a0782c",
            "_model_module": "@jupyter-widgets/controls",
            "children": [
              "IPY_MODEL_8cecaf510c17497283a801dd9525d195",
              "IPY_MODEL_53f3165e48c84b2790b84bcc9dbe4d79"
            ]
          }
        },
        "f44622da7b094317a4c4dcae65a0782c": {
          "model_module": "@jupyter-widgets/base",
          "model_name": "LayoutModel",
          "state": {
            "_view_name": "LayoutView",
            "grid_template_rows": null,
            "right": null,
            "justify_content": null,
            "_view_module": "@jupyter-widgets/base",
            "overflow": null,
            "_model_module_version": "1.2.0",
            "_view_count": null,
            "flex_flow": null,
            "width": null,
            "min_width": null,
            "border": null,
            "align_items": null,
            "bottom": null,
            "_model_module": "@jupyter-widgets/base",
            "top": null,
            "grid_column": null,
            "overflow_y": null,
            "overflow_x": null,
            "grid_auto_flow": null,
            "grid_area": null,
            "grid_template_columns": null,
            "flex": null,
            "_model_name": "LayoutModel",
            "justify_items": null,
            "grid_row": null,
            "max_height": null,
            "align_content": null,
            "visibility": null,
            "align_self": null,
            "height": null,
            "min_height": null,
            "padding": null,
            "grid_auto_rows": null,
            "grid_gap": null,
            "max_width": null,
            "order": null,
            "_view_module_version": "1.2.0",
            "grid_template_areas": null,
            "object_position": null,
            "object_fit": null,
            "grid_auto_columns": null,
            "margin": null,
            "display": null,
            "left": null
          }
        },
        "8cecaf510c17497283a801dd9525d195": {
          "model_module": "@jupyter-widgets/controls",
          "model_name": "FloatProgressModel",
          "state": {
            "_view_name": "ProgressView",
            "style": "IPY_MODEL_301985f57fef4790887c7191cec1ec61",
            "_dom_classes": [],
            "description": "100%",
            "_model_name": "FloatProgressModel",
            "bar_style": "success",
            "max": 300,
            "_view_module": "@jupyter-widgets/controls",
            "_model_module_version": "1.5.0",
            "value": 300,
            "_view_count": null,
            "_view_module_version": "1.5.0",
            "orientation": "horizontal",
            "min": 0,
            "description_tooltip": null,
            "_model_module": "@jupyter-widgets/controls",
            "layout": "IPY_MODEL_bb37d462e10843f0854f9334f5e415cb"
          }
        },
        "53f3165e48c84b2790b84bcc9dbe4d79": {
          "model_module": "@jupyter-widgets/controls",
          "model_name": "HTMLModel",
          "state": {
            "_view_name": "HTMLView",
            "style": "IPY_MODEL_022e7e14cd30402db8c1ba06575500f0",
            "_dom_classes": [],
            "description": "",
            "_model_name": "HTMLModel",
            "placeholder": "​",
            "_view_module": "@jupyter-widgets/controls",
            "_model_module_version": "1.5.0",
            "value": " 300/300 [1:50:38&lt;00:00, 22.13s/it]",
            "_view_count": null,
            "_view_module_version": "1.5.0",
            "description_tooltip": null,
            "_model_module": "@jupyter-widgets/controls",
            "layout": "IPY_MODEL_df99fa9dc22d4937befab1c88f7d534e"
          }
        },
        "301985f57fef4790887c7191cec1ec61": {
          "model_module": "@jupyter-widgets/controls",
          "model_name": "ProgressStyleModel",
          "state": {
            "_view_name": "StyleView",
            "_model_name": "ProgressStyleModel",
            "description_width": "initial",
            "_view_module": "@jupyter-widgets/base",
            "_model_module_version": "1.5.0",
            "_view_count": null,
            "_view_module_version": "1.2.0",
            "bar_color": null,
            "_model_module": "@jupyter-widgets/controls"
          }
        },
        "bb37d462e10843f0854f9334f5e415cb": {
          "model_module": "@jupyter-widgets/base",
          "model_name": "LayoutModel",
          "state": {
            "_view_name": "LayoutView",
            "grid_template_rows": null,
            "right": null,
            "justify_content": null,
            "_view_module": "@jupyter-widgets/base",
            "overflow": null,
            "_model_module_version": "1.2.0",
            "_view_count": null,
            "flex_flow": null,
            "width": null,
            "min_width": null,
            "border": null,
            "align_items": null,
            "bottom": null,
            "_model_module": "@jupyter-widgets/base",
            "top": null,
            "grid_column": null,
            "overflow_y": null,
            "overflow_x": null,
            "grid_auto_flow": null,
            "grid_area": null,
            "grid_template_columns": null,
            "flex": null,
            "_model_name": "LayoutModel",
            "justify_items": null,
            "grid_row": null,
            "max_height": null,
            "align_content": null,
            "visibility": null,
            "align_self": null,
            "height": null,
            "min_height": null,
            "padding": null,
            "grid_auto_rows": null,
            "grid_gap": null,
            "max_width": null,
            "order": null,
            "_view_module_version": "1.2.0",
            "grid_template_areas": null,
            "object_position": null,
            "object_fit": null,
            "grid_auto_columns": null,
            "margin": null,
            "display": null,
            "left": null
          }
        },
        "022e7e14cd30402db8c1ba06575500f0": {
          "model_module": "@jupyter-widgets/controls",
          "model_name": "DescriptionStyleModel",
          "state": {
            "_view_name": "StyleView",
            "_model_name": "DescriptionStyleModel",
            "description_width": "",
            "_view_module": "@jupyter-widgets/base",
            "_model_module_version": "1.5.0",
            "_view_count": null,
            "_view_module_version": "1.2.0",
            "_model_module": "@jupyter-widgets/controls"
          }
        },
        "df99fa9dc22d4937befab1c88f7d534e": {
          "model_module": "@jupyter-widgets/base",
          "model_name": "LayoutModel",
          "state": {
            "_view_name": "LayoutView",
            "grid_template_rows": null,
            "right": null,
            "justify_content": null,
            "_view_module": "@jupyter-widgets/base",
            "overflow": null,
            "_model_module_version": "1.2.0",
            "_view_count": null,
            "flex_flow": null,
            "width": null,
            "min_width": null,
            "border": null,
            "align_items": null,
            "bottom": null,
            "_model_module": "@jupyter-widgets/base",
            "top": null,
            "grid_column": null,
            "overflow_y": null,
            "overflow_x": null,
            "grid_auto_flow": null,
            "grid_area": null,
            "grid_template_columns": null,
            "flex": null,
            "_model_name": "LayoutModel",
            "justify_items": null,
            "grid_row": null,
            "max_height": null,
            "align_content": null,
            "visibility": null,
            "align_self": null,
            "height": null,
            "min_height": null,
            "padding": null,
            "grid_auto_rows": null,
            "grid_gap": null,
            "max_width": null,
            "order": null,
            "_view_module_version": "1.2.0",
            "grid_template_areas": null,
            "object_position": null,
            "object_fit": null,
            "grid_auto_columns": null,
            "margin": null,
            "display": null,
            "left": null
          }
        },
        "4d810e530a3d432dac0a0a7388ab8311": {
          "model_module": "@jupyter-widgets/controls",
          "model_name": "HBoxModel",
          "state": {
            "_view_name": "HBoxView",
            "_dom_classes": [],
            "_model_name": "HBoxModel",
            "_view_module": "@jupyter-widgets/controls",
            "_model_module_version": "1.5.0",
            "_view_count": null,
            "_view_module_version": "1.5.0",
            "box_style": "",
            "layout": "IPY_MODEL_66de7d44f3d54d8882869bc92b1f269a",
            "_model_module": "@jupyter-widgets/controls",
            "children": [
              "IPY_MODEL_c6f5785a3d51428ebc812bb229f8e02f",
              "IPY_MODEL_3266817bf3f9490a9c1959ef7e9abb1b"
            ]
          }
        },
        "66de7d44f3d54d8882869bc92b1f269a": {
          "model_module": "@jupyter-widgets/base",
          "model_name": "LayoutModel",
          "state": {
            "_view_name": "LayoutView",
            "grid_template_rows": null,
            "right": null,
            "justify_content": null,
            "_view_module": "@jupyter-widgets/base",
            "overflow": null,
            "_model_module_version": "1.2.0",
            "_view_count": null,
            "flex_flow": null,
            "width": null,
            "min_width": null,
            "border": null,
            "align_items": null,
            "bottom": null,
            "_model_module": "@jupyter-widgets/base",
            "top": null,
            "grid_column": null,
            "overflow_y": null,
            "overflow_x": null,
            "grid_auto_flow": null,
            "grid_area": null,
            "grid_template_columns": null,
            "flex": null,
            "_model_name": "LayoutModel",
            "justify_items": null,
            "grid_row": null,
            "max_height": null,
            "align_content": null,
            "visibility": null,
            "align_self": null,
            "height": null,
            "min_height": null,
            "padding": null,
            "grid_auto_rows": null,
            "grid_gap": null,
            "max_width": null,
            "order": null,
            "_view_module_version": "1.2.0",
            "grid_template_areas": null,
            "object_position": null,
            "object_fit": null,
            "grid_auto_columns": null,
            "margin": null,
            "display": null,
            "left": null
          }
        },
        "c6f5785a3d51428ebc812bb229f8e02f": {
          "model_module": "@jupyter-widgets/controls",
          "model_name": "FloatProgressModel",
          "state": {
            "_view_name": "ProgressView",
            "style": "IPY_MODEL_face309d3e574524bde8604f6c876486",
            "_dom_classes": [],
            "description": "100%",
            "_model_name": "FloatProgressModel",
            "bar_style": "success",
            "max": 200,
            "_view_module": "@jupyter-widgets/controls",
            "_model_module_version": "1.5.0",
            "value": 200,
            "_view_count": null,
            "_view_module_version": "1.5.0",
            "orientation": "horizontal",
            "min": 0,
            "description_tooltip": null,
            "_model_module": "@jupyter-widgets/controls",
            "layout": "IPY_MODEL_13ce4de7b8d649cd909424c03d2c72a5"
          }
        },
        "3266817bf3f9490a9c1959ef7e9abb1b": {
          "model_module": "@jupyter-widgets/controls",
          "model_name": "HTMLModel",
          "state": {
            "_view_name": "HTMLView",
            "style": "IPY_MODEL_31f465dbbf2e443cbbdbd4944bc7eef6",
            "_dom_classes": [],
            "description": "",
            "_model_name": "HTMLModel",
            "placeholder": "​",
            "_view_module": "@jupyter-widgets/controls",
            "_model_module_version": "1.5.0",
            "value": " 200/200 [1:17:12&lt;00:00, 23.16s/it]",
            "_view_count": null,
            "_view_module_version": "1.5.0",
            "description_tooltip": null,
            "_model_module": "@jupyter-widgets/controls",
            "layout": "IPY_MODEL_adc092a9f40f41a58b5ce933fae63aac"
          }
        },
        "face309d3e574524bde8604f6c876486": {
          "model_module": "@jupyter-widgets/controls",
          "model_name": "ProgressStyleModel",
          "state": {
            "_view_name": "StyleView",
            "_model_name": "ProgressStyleModel",
            "description_width": "initial",
            "_view_module": "@jupyter-widgets/base",
            "_model_module_version": "1.5.0",
            "_view_count": null,
            "_view_module_version": "1.2.0",
            "bar_color": null,
            "_model_module": "@jupyter-widgets/controls"
          }
        },
        "13ce4de7b8d649cd909424c03d2c72a5": {
          "model_module": "@jupyter-widgets/base",
          "model_name": "LayoutModel",
          "state": {
            "_view_name": "LayoutView",
            "grid_template_rows": null,
            "right": null,
            "justify_content": null,
            "_view_module": "@jupyter-widgets/base",
            "overflow": null,
            "_model_module_version": "1.2.0",
            "_view_count": null,
            "flex_flow": null,
            "width": null,
            "min_width": null,
            "border": null,
            "align_items": null,
            "bottom": null,
            "_model_module": "@jupyter-widgets/base",
            "top": null,
            "grid_column": null,
            "overflow_y": null,
            "overflow_x": null,
            "grid_auto_flow": null,
            "grid_area": null,
            "grid_template_columns": null,
            "flex": null,
            "_model_name": "LayoutModel",
            "justify_items": null,
            "grid_row": null,
            "max_height": null,
            "align_content": null,
            "visibility": null,
            "align_self": null,
            "height": null,
            "min_height": null,
            "padding": null,
            "grid_auto_rows": null,
            "grid_gap": null,
            "max_width": null,
            "order": null,
            "_view_module_version": "1.2.0",
            "grid_template_areas": null,
            "object_position": null,
            "object_fit": null,
            "grid_auto_columns": null,
            "margin": null,
            "display": null,
            "left": null
          }
        },
        "31f465dbbf2e443cbbdbd4944bc7eef6": {
          "model_module": "@jupyter-widgets/controls",
          "model_name": "DescriptionStyleModel",
          "state": {
            "_view_name": "StyleView",
            "_model_name": "DescriptionStyleModel",
            "description_width": "",
            "_view_module": "@jupyter-widgets/base",
            "_model_module_version": "1.5.0",
            "_view_count": null,
            "_view_module_version": "1.2.0",
            "_model_module": "@jupyter-widgets/controls"
          }
        },
        "adc092a9f40f41a58b5ce933fae63aac": {
          "model_module": "@jupyter-widgets/base",
          "model_name": "LayoutModel",
          "state": {
            "_view_name": "LayoutView",
            "grid_template_rows": null,
            "right": null,
            "justify_content": null,
            "_view_module": "@jupyter-widgets/base",
            "overflow": null,
            "_model_module_version": "1.2.0",
            "_view_count": null,
            "flex_flow": null,
            "width": null,
            "min_width": null,
            "border": null,
            "align_items": null,
            "bottom": null,
            "_model_module": "@jupyter-widgets/base",
            "top": null,
            "grid_column": null,
            "overflow_y": null,
            "overflow_x": null,
            "grid_auto_flow": null,
            "grid_area": null,
            "grid_template_columns": null,
            "flex": null,
            "_model_name": "LayoutModel",
            "justify_items": null,
            "grid_row": null,
            "max_height": null,
            "align_content": null,
            "visibility": null,
            "align_self": null,
            "height": null,
            "min_height": null,
            "padding": null,
            "grid_auto_rows": null,
            "grid_gap": null,
            "max_width": null,
            "order": null,
            "_view_module_version": "1.2.0",
            "grid_template_areas": null,
            "object_position": null,
            "object_fit": null,
            "grid_auto_columns": null,
            "margin": null,
            "display": null,
            "left": null
          }
        },
        "28931be5ba754719954a51358c6fec2b": {
          "model_module": "@jupyter-widgets/controls",
          "model_name": "HBoxModel",
          "state": {
            "_view_name": "HBoxView",
            "_dom_classes": [],
            "_model_name": "HBoxModel",
            "_view_module": "@jupyter-widgets/controls",
            "_model_module_version": "1.5.0",
            "_view_count": null,
            "_view_module_version": "1.5.0",
            "box_style": "",
            "layout": "IPY_MODEL_6d966c0c68504a27879efc1eb533c6cf",
            "_model_module": "@jupyter-widgets/controls",
            "children": [
              "IPY_MODEL_1b842d86099e43e0ad4ae37eeda6ded5",
              "IPY_MODEL_cc3b8052a77d4df695483b52c794f42e"
            ]
          }
        },
        "6d966c0c68504a27879efc1eb533c6cf": {
          "model_module": "@jupyter-widgets/base",
          "model_name": "LayoutModel",
          "state": {
            "_view_name": "LayoutView",
            "grid_template_rows": null,
            "right": null,
            "justify_content": null,
            "_view_module": "@jupyter-widgets/base",
            "overflow": null,
            "_model_module_version": "1.2.0",
            "_view_count": null,
            "flex_flow": null,
            "width": null,
            "min_width": null,
            "border": null,
            "align_items": null,
            "bottom": null,
            "_model_module": "@jupyter-widgets/base",
            "top": null,
            "grid_column": null,
            "overflow_y": null,
            "overflow_x": null,
            "grid_auto_flow": null,
            "grid_area": null,
            "grid_template_columns": null,
            "flex": null,
            "_model_name": "LayoutModel",
            "justify_items": null,
            "grid_row": null,
            "max_height": null,
            "align_content": null,
            "visibility": null,
            "align_self": null,
            "height": null,
            "min_height": null,
            "padding": null,
            "grid_auto_rows": null,
            "grid_gap": null,
            "max_width": null,
            "order": null,
            "_view_module_version": "1.2.0",
            "grid_template_areas": null,
            "object_position": null,
            "object_fit": null,
            "grid_auto_columns": null,
            "margin": null,
            "display": null,
            "left": null
          }
        },
        "1b842d86099e43e0ad4ae37eeda6ded5": {
          "model_module": "@jupyter-widgets/controls",
          "model_name": "FloatProgressModel",
          "state": {
            "_view_name": "ProgressView",
            "style": "IPY_MODEL_de47a9e23f1244b38bd5743ef6a83945",
            "_dom_classes": [],
            "description": "100%",
            "_model_name": "FloatProgressModel",
            "bar_style": "success",
            "max": 100,
            "_view_module": "@jupyter-widgets/controls",
            "_model_module_version": "1.5.0",
            "value": 100,
            "_view_count": null,
            "_view_module_version": "1.5.0",
            "orientation": "horizontal",
            "min": 0,
            "description_tooltip": null,
            "_model_module": "@jupyter-widgets/controls",
            "layout": "IPY_MODEL_5f2dff504af14906bc64c5c21b4aacd1"
          }
        },
        "cc3b8052a77d4df695483b52c794f42e": {
          "model_module": "@jupyter-widgets/controls",
          "model_name": "HTMLModel",
          "state": {
            "_view_name": "HTMLView",
            "style": "IPY_MODEL_8f2ca1cbd4874b45bba5914a937668f8",
            "_dom_classes": [],
            "description": "",
            "_model_name": "HTMLModel",
            "placeholder": "​",
            "_view_module": "@jupyter-widgets/controls",
            "_model_module_version": "1.5.0",
            "value": " 100/100 [20:18&lt;00:00, 12.18s/it]",
            "_view_count": null,
            "_view_module_version": "1.5.0",
            "description_tooltip": null,
            "_model_module": "@jupyter-widgets/controls",
            "layout": "IPY_MODEL_434f56103dc4452eb6d60db83d428ba3"
          }
        },
        "de47a9e23f1244b38bd5743ef6a83945": {
          "model_module": "@jupyter-widgets/controls",
          "model_name": "ProgressStyleModel",
          "state": {
            "_view_name": "StyleView",
            "_model_name": "ProgressStyleModel",
            "description_width": "initial",
            "_view_module": "@jupyter-widgets/base",
            "_model_module_version": "1.5.0",
            "_view_count": null,
            "_view_module_version": "1.2.0",
            "bar_color": null,
            "_model_module": "@jupyter-widgets/controls"
          }
        },
        "5f2dff504af14906bc64c5c21b4aacd1": {
          "model_module": "@jupyter-widgets/base",
          "model_name": "LayoutModel",
          "state": {
            "_view_name": "LayoutView",
            "grid_template_rows": null,
            "right": null,
            "justify_content": null,
            "_view_module": "@jupyter-widgets/base",
            "overflow": null,
            "_model_module_version": "1.2.0",
            "_view_count": null,
            "flex_flow": null,
            "width": null,
            "min_width": null,
            "border": null,
            "align_items": null,
            "bottom": null,
            "_model_module": "@jupyter-widgets/base",
            "top": null,
            "grid_column": null,
            "overflow_y": null,
            "overflow_x": null,
            "grid_auto_flow": null,
            "grid_area": null,
            "grid_template_columns": null,
            "flex": null,
            "_model_name": "LayoutModel",
            "justify_items": null,
            "grid_row": null,
            "max_height": null,
            "align_content": null,
            "visibility": null,
            "align_self": null,
            "height": null,
            "min_height": null,
            "padding": null,
            "grid_auto_rows": null,
            "grid_gap": null,
            "max_width": null,
            "order": null,
            "_view_module_version": "1.2.0",
            "grid_template_areas": null,
            "object_position": null,
            "object_fit": null,
            "grid_auto_columns": null,
            "margin": null,
            "display": null,
            "left": null
          }
        },
        "8f2ca1cbd4874b45bba5914a937668f8": {
          "model_module": "@jupyter-widgets/controls",
          "model_name": "DescriptionStyleModel",
          "state": {
            "_view_name": "StyleView",
            "_model_name": "DescriptionStyleModel",
            "description_width": "",
            "_view_module": "@jupyter-widgets/base",
            "_model_module_version": "1.5.0",
            "_view_count": null,
            "_view_module_version": "1.2.0",
            "_model_module": "@jupyter-widgets/controls"
          }
        },
        "434f56103dc4452eb6d60db83d428ba3": {
          "model_module": "@jupyter-widgets/base",
          "model_name": "LayoutModel",
          "state": {
            "_view_name": "LayoutView",
            "grid_template_rows": null,
            "right": null,
            "justify_content": null,
            "_view_module": "@jupyter-widgets/base",
            "overflow": null,
            "_model_module_version": "1.2.0",
            "_view_count": null,
            "flex_flow": null,
            "width": null,
            "min_width": null,
            "border": null,
            "align_items": null,
            "bottom": null,
            "_model_module": "@jupyter-widgets/base",
            "top": null,
            "grid_column": null,
            "overflow_y": null,
            "overflow_x": null,
            "grid_auto_flow": null,
            "grid_area": null,
            "grid_template_columns": null,
            "flex": null,
            "_model_name": "LayoutModel",
            "justify_items": null,
            "grid_row": null,
            "max_height": null,
            "align_content": null,
            "visibility": null,
            "align_self": null,
            "height": null,
            "min_height": null,
            "padding": null,
            "grid_auto_rows": null,
            "grid_gap": null,
            "max_width": null,
            "order": null,
            "_view_module_version": "1.2.0",
            "grid_template_areas": null,
            "object_position": null,
            "object_fit": null,
            "grid_auto_columns": null,
            "margin": null,
            "display": null,
            "left": null
          }
        },
        "dcb55de9573440f1bbe854b8584f28bf": {
          "model_module": "@jupyter-widgets/controls",
          "model_name": "HBoxModel",
          "state": {
            "_view_name": "HBoxView",
            "_dom_classes": [],
            "_model_name": "HBoxModel",
            "_view_module": "@jupyter-widgets/controls",
            "_model_module_version": "1.5.0",
            "_view_count": null,
            "_view_module_version": "1.5.0",
            "box_style": "",
            "layout": "IPY_MODEL_561bee93215b496f8034f65700596434",
            "_model_module": "@jupyter-widgets/controls",
            "children": [
              "IPY_MODEL_5673fd07f66b451cb1a2998a045ad2f4",
              "IPY_MODEL_58b03e532cfb433297d4d23c941244a9"
            ]
          }
        },
        "561bee93215b496f8034f65700596434": {
          "model_module": "@jupyter-widgets/base",
          "model_name": "LayoutModel",
          "state": {
            "_view_name": "LayoutView",
            "grid_template_rows": null,
            "right": null,
            "justify_content": null,
            "_view_module": "@jupyter-widgets/base",
            "overflow": null,
            "_model_module_version": "1.2.0",
            "_view_count": null,
            "flex_flow": null,
            "width": null,
            "min_width": null,
            "border": null,
            "align_items": null,
            "bottom": null,
            "_model_module": "@jupyter-widgets/base",
            "top": null,
            "grid_column": null,
            "overflow_y": null,
            "overflow_x": null,
            "grid_auto_flow": null,
            "grid_area": null,
            "grid_template_columns": null,
            "flex": null,
            "_model_name": "LayoutModel",
            "justify_items": null,
            "grid_row": null,
            "max_height": null,
            "align_content": null,
            "visibility": null,
            "align_self": null,
            "height": null,
            "min_height": null,
            "padding": null,
            "grid_auto_rows": null,
            "grid_gap": null,
            "max_width": null,
            "order": null,
            "_view_module_version": "1.2.0",
            "grid_template_areas": null,
            "object_position": null,
            "object_fit": null,
            "grid_auto_columns": null,
            "margin": null,
            "display": null,
            "left": null
          }
        },
        "5673fd07f66b451cb1a2998a045ad2f4": {
          "model_module": "@jupyter-widgets/controls",
          "model_name": "FloatProgressModel",
          "state": {
            "_view_name": "ProgressView",
            "style": "IPY_MODEL_92ee4b4255f34f66abd5c79955e5b52a",
            "_dom_classes": [],
            "description": "100%",
            "_model_name": "FloatProgressModel",
            "bar_style": "success",
            "max": 100,
            "_view_module": "@jupyter-widgets/controls",
            "_model_module_version": "1.5.0",
            "value": 100,
            "_view_count": null,
            "_view_module_version": "1.5.0",
            "orientation": "horizontal",
            "min": 0,
            "description_tooltip": null,
            "_model_module": "@jupyter-widgets/controls",
            "layout": "IPY_MODEL_e11470eabd3544eaa4dbc1ae387bed77"
          }
        },
        "58b03e532cfb433297d4d23c941244a9": {
          "model_module": "@jupyter-widgets/controls",
          "model_name": "HTMLModel",
          "state": {
            "_view_name": "HTMLView",
            "style": "IPY_MODEL_e62332afcd3e400e828e8c334f45edff",
            "_dom_classes": [],
            "description": "",
            "_model_name": "HTMLModel",
            "placeholder": "​",
            "_view_module": "@jupyter-widgets/controls",
            "_model_module_version": "1.5.0",
            "value": " 100/100 [19:22&lt;00:00, 11.62s/it]",
            "_view_count": null,
            "_view_module_version": "1.5.0",
            "description_tooltip": null,
            "_model_module": "@jupyter-widgets/controls",
            "layout": "IPY_MODEL_6d11c7a1fd6a4234aca447c092908394"
          }
        },
        "92ee4b4255f34f66abd5c79955e5b52a": {
          "model_module": "@jupyter-widgets/controls",
          "model_name": "ProgressStyleModel",
          "state": {
            "_view_name": "StyleView",
            "_model_name": "ProgressStyleModel",
            "description_width": "initial",
            "_view_module": "@jupyter-widgets/base",
            "_model_module_version": "1.5.0",
            "_view_count": null,
            "_view_module_version": "1.2.0",
            "bar_color": null,
            "_model_module": "@jupyter-widgets/controls"
          }
        },
        "e11470eabd3544eaa4dbc1ae387bed77": {
          "model_module": "@jupyter-widgets/base",
          "model_name": "LayoutModel",
          "state": {
            "_view_name": "LayoutView",
            "grid_template_rows": null,
            "right": null,
            "justify_content": null,
            "_view_module": "@jupyter-widgets/base",
            "overflow": null,
            "_model_module_version": "1.2.0",
            "_view_count": null,
            "flex_flow": null,
            "width": null,
            "min_width": null,
            "border": null,
            "align_items": null,
            "bottom": null,
            "_model_module": "@jupyter-widgets/base",
            "top": null,
            "grid_column": null,
            "overflow_y": null,
            "overflow_x": null,
            "grid_auto_flow": null,
            "grid_area": null,
            "grid_template_columns": null,
            "flex": null,
            "_model_name": "LayoutModel",
            "justify_items": null,
            "grid_row": null,
            "max_height": null,
            "align_content": null,
            "visibility": null,
            "align_self": null,
            "height": null,
            "min_height": null,
            "padding": null,
            "grid_auto_rows": null,
            "grid_gap": null,
            "max_width": null,
            "order": null,
            "_view_module_version": "1.2.0",
            "grid_template_areas": null,
            "object_position": null,
            "object_fit": null,
            "grid_auto_columns": null,
            "margin": null,
            "display": null,
            "left": null
          }
        },
        "e62332afcd3e400e828e8c334f45edff": {
          "model_module": "@jupyter-widgets/controls",
          "model_name": "DescriptionStyleModel",
          "state": {
            "_view_name": "StyleView",
            "_model_name": "DescriptionStyleModel",
            "description_width": "",
            "_view_module": "@jupyter-widgets/base",
            "_model_module_version": "1.5.0",
            "_view_count": null,
            "_view_module_version": "1.2.0",
            "_model_module": "@jupyter-widgets/controls"
          }
        },
        "6d11c7a1fd6a4234aca447c092908394": {
          "model_module": "@jupyter-widgets/base",
          "model_name": "LayoutModel",
          "state": {
            "_view_name": "LayoutView",
            "grid_template_rows": null,
            "right": null,
            "justify_content": null,
            "_view_module": "@jupyter-widgets/base",
            "overflow": null,
            "_model_module_version": "1.2.0",
            "_view_count": null,
            "flex_flow": null,
            "width": null,
            "min_width": null,
            "border": null,
            "align_items": null,
            "bottom": null,
            "_model_module": "@jupyter-widgets/base",
            "top": null,
            "grid_column": null,
            "overflow_y": null,
            "overflow_x": null,
            "grid_auto_flow": null,
            "grid_area": null,
            "grid_template_columns": null,
            "flex": null,
            "_model_name": "LayoutModel",
            "justify_items": null,
            "grid_row": null,
            "max_height": null,
            "align_content": null,
            "visibility": null,
            "align_self": null,
            "height": null,
            "min_height": null,
            "padding": null,
            "grid_auto_rows": null,
            "grid_gap": null,
            "max_width": null,
            "order": null,
            "_view_module_version": "1.2.0",
            "grid_template_areas": null,
            "object_position": null,
            "object_fit": null,
            "grid_auto_columns": null,
            "margin": null,
            "display": null,
            "left": null
          }
        },
        "f416578a57b8496c95c6ddf1ac40de71": {
          "model_module": "@jupyter-widgets/controls",
          "model_name": "HBoxModel",
          "state": {
            "_view_name": "HBoxView",
            "_dom_classes": [],
            "_model_name": "HBoxModel",
            "_view_module": "@jupyter-widgets/controls",
            "_model_module_version": "1.5.0",
            "_view_count": null,
            "_view_module_version": "1.5.0",
            "box_style": "",
            "layout": "IPY_MODEL_74b2e0b3bdc04294ae1d056a41a639f1",
            "_model_module": "@jupyter-widgets/controls",
            "children": [
              "IPY_MODEL_0725fde7211a4940b71c01efd9465747",
              "IPY_MODEL_a5099e9ac4da4516a73c232d08ba83d5"
            ]
          }
        },
        "74b2e0b3bdc04294ae1d056a41a639f1": {
          "model_module": "@jupyter-widgets/base",
          "model_name": "LayoutModel",
          "state": {
            "_view_name": "LayoutView",
            "grid_template_rows": null,
            "right": null,
            "justify_content": null,
            "_view_module": "@jupyter-widgets/base",
            "overflow": null,
            "_model_module_version": "1.2.0",
            "_view_count": null,
            "flex_flow": null,
            "width": null,
            "min_width": null,
            "border": null,
            "align_items": null,
            "bottom": null,
            "_model_module": "@jupyter-widgets/base",
            "top": null,
            "grid_column": null,
            "overflow_y": null,
            "overflow_x": null,
            "grid_auto_flow": null,
            "grid_area": null,
            "grid_template_columns": null,
            "flex": null,
            "_model_name": "LayoutModel",
            "justify_items": null,
            "grid_row": null,
            "max_height": null,
            "align_content": null,
            "visibility": null,
            "align_self": null,
            "height": null,
            "min_height": null,
            "padding": null,
            "grid_auto_rows": null,
            "grid_gap": null,
            "max_width": null,
            "order": null,
            "_view_module_version": "1.2.0",
            "grid_template_areas": null,
            "object_position": null,
            "object_fit": null,
            "grid_auto_columns": null,
            "margin": null,
            "display": null,
            "left": null
          }
        },
        "0725fde7211a4940b71c01efd9465747": {
          "model_module": "@jupyter-widgets/controls",
          "model_name": "FloatProgressModel",
          "state": {
            "_view_name": "ProgressView",
            "style": "IPY_MODEL_5b814cea8388412ab760886f03bbc8ca",
            "_dom_classes": [],
            "description": "100%",
            "_model_name": "FloatProgressModel",
            "bar_style": "success",
            "max": 100,
            "_view_module": "@jupyter-widgets/controls",
            "_model_module_version": "1.5.0",
            "value": 100,
            "_view_count": null,
            "_view_module_version": "1.5.0",
            "orientation": "horizontal",
            "min": 0,
            "description_tooltip": null,
            "_model_module": "@jupyter-widgets/controls",
            "layout": "IPY_MODEL_671181f6aa5e4e3d8d82ea6f9d6db48f"
          }
        },
        "a5099e9ac4da4516a73c232d08ba83d5": {
          "model_module": "@jupyter-widgets/controls",
          "model_name": "HTMLModel",
          "state": {
            "_view_name": "HTMLView",
            "style": "IPY_MODEL_e3d6d0cecc28415f9294a90441f395a8",
            "_dom_classes": [],
            "description": "",
            "_model_name": "HTMLModel",
            "placeholder": "​",
            "_view_module": "@jupyter-widgets/controls",
            "_model_module_version": "1.5.0",
            "value": " 100/100 [18:47&lt;00:00, 11.28s/it]",
            "_view_count": null,
            "_view_module_version": "1.5.0",
            "description_tooltip": null,
            "_model_module": "@jupyter-widgets/controls",
            "layout": "IPY_MODEL_4e6941ff4aac44e6aebbb96817ecf527"
          }
        },
        "5b814cea8388412ab760886f03bbc8ca": {
          "model_module": "@jupyter-widgets/controls",
          "model_name": "ProgressStyleModel",
          "state": {
            "_view_name": "StyleView",
            "_model_name": "ProgressStyleModel",
            "description_width": "initial",
            "_view_module": "@jupyter-widgets/base",
            "_model_module_version": "1.5.0",
            "_view_count": null,
            "_view_module_version": "1.2.0",
            "bar_color": null,
            "_model_module": "@jupyter-widgets/controls"
          }
        },
        "671181f6aa5e4e3d8d82ea6f9d6db48f": {
          "model_module": "@jupyter-widgets/base",
          "model_name": "LayoutModel",
          "state": {
            "_view_name": "LayoutView",
            "grid_template_rows": null,
            "right": null,
            "justify_content": null,
            "_view_module": "@jupyter-widgets/base",
            "overflow": null,
            "_model_module_version": "1.2.0",
            "_view_count": null,
            "flex_flow": null,
            "width": null,
            "min_width": null,
            "border": null,
            "align_items": null,
            "bottom": null,
            "_model_module": "@jupyter-widgets/base",
            "top": null,
            "grid_column": null,
            "overflow_y": null,
            "overflow_x": null,
            "grid_auto_flow": null,
            "grid_area": null,
            "grid_template_columns": null,
            "flex": null,
            "_model_name": "LayoutModel",
            "justify_items": null,
            "grid_row": null,
            "max_height": null,
            "align_content": null,
            "visibility": null,
            "align_self": null,
            "height": null,
            "min_height": null,
            "padding": null,
            "grid_auto_rows": null,
            "grid_gap": null,
            "max_width": null,
            "order": null,
            "_view_module_version": "1.2.0",
            "grid_template_areas": null,
            "object_position": null,
            "object_fit": null,
            "grid_auto_columns": null,
            "margin": null,
            "display": null,
            "left": null
          }
        },
        "e3d6d0cecc28415f9294a90441f395a8": {
          "model_module": "@jupyter-widgets/controls",
          "model_name": "DescriptionStyleModel",
          "state": {
            "_view_name": "StyleView",
            "_model_name": "DescriptionStyleModel",
            "description_width": "",
            "_view_module": "@jupyter-widgets/base",
            "_model_module_version": "1.5.0",
            "_view_count": null,
            "_view_module_version": "1.2.0",
            "_model_module": "@jupyter-widgets/controls"
          }
        },
        "4e6941ff4aac44e6aebbb96817ecf527": {
          "model_module": "@jupyter-widgets/base",
          "model_name": "LayoutModel",
          "state": {
            "_view_name": "LayoutView",
            "grid_template_rows": null,
            "right": null,
            "justify_content": null,
            "_view_module": "@jupyter-widgets/base",
            "overflow": null,
            "_model_module_version": "1.2.0",
            "_view_count": null,
            "flex_flow": null,
            "width": null,
            "min_width": null,
            "border": null,
            "align_items": null,
            "bottom": null,
            "_model_module": "@jupyter-widgets/base",
            "top": null,
            "grid_column": null,
            "overflow_y": null,
            "overflow_x": null,
            "grid_auto_flow": null,
            "grid_area": null,
            "grid_template_columns": null,
            "flex": null,
            "_model_name": "LayoutModel",
            "justify_items": null,
            "grid_row": null,
            "max_height": null,
            "align_content": null,
            "visibility": null,
            "align_self": null,
            "height": null,
            "min_height": null,
            "padding": null,
            "grid_auto_rows": null,
            "grid_gap": null,
            "max_width": null,
            "order": null,
            "_view_module_version": "1.2.0",
            "grid_template_areas": null,
            "object_position": null,
            "object_fit": null,
            "grid_auto_columns": null,
            "margin": null,
            "display": null,
            "left": null
          }
        }
      }
    }
  },
  "cells": [
    {
      "cell_type": "code",
      "metadata": {
        "id": "diPOh7V_Ktso",
        "colab_type": "code",
        "colab": {}
      },
      "source": [
        "%matplotlib inline\n",
        "\n",
        "import numpy as np\n",
        "import pandas as pd\n",
        "import matplotlib.pyplot as plt"
      ],
      "execution_count": 0,
      "outputs": []
    },
    {
      "cell_type": "markdown",
      "metadata": {
        "id": "dKJfctfVKtsw",
        "colab_type": "text"
      },
      "source": [
        "# Gradient Boosting"
      ]
    },
    {
      "cell_type": "markdown",
      "metadata": {
        "id": "WteF7N-hKtsx",
        "colab_type": "text"
      },
      "source": [
        "## Read Data"
      ]
    },
    {
      "cell_type": "code",
      "metadata": {
        "id": "1Zb-Czr3Ktsy",
        "colab_type": "code",
        "colab": {}
      },
      "source": [
        "#data from here https://www.kaggle.com/c/boston-housing/overview\n",
        "df = pd.read_csv('https://raw.githubusercontent.com/shestakoff/hse_se_ml/master/2020/s11-boosting/data/boston_train.csv').drop(columns = 'ID')"
      ],
      "execution_count": 0,
      "outputs": []
    },
    {
      "cell_type": "markdown",
      "metadata": {
        "id": "3kXy6sI-Kts2",
        "colab_type": "text"
      },
      "source": [
        " Prediction of house price in Boston.\n",
        " \n",
        " Why it's important? Because it can help people determine a fair price at home."
      ]
    },
    {
      "cell_type": "code",
      "metadata": {
        "id": "-Kyo-KP-Kts4",
        "colab_type": "code",
        "colab": {}
      },
      "source": [
        "X = df.drop(columns = 'medv').values\n",
        "y = df['medv'].values"
      ],
      "execution_count": 0,
      "outputs": []
    },
    {
      "cell_type": "code",
      "metadata": {
        "id": "xEnvAcInKttI",
        "colab_type": "code",
        "outputId": "9a3a0dde-6d5a-4cdc-81d1-d32c6c244111",
        "colab": {
          "base_uri": "https://localhost:8080/",
          "height": 35
        }
      },
      "source": [
        "X.shape"
      ],
      "execution_count": 50,
      "outputs": [
        {
          "output_type": "execute_result",
          "data": {
            "text/plain": [
              "(333, 13)"
            ]
          },
          "metadata": {
            "tags": []
          },
          "execution_count": 50
        }
      ]
    },
    {
      "cell_type": "markdown",
      "metadata": {
        "id": "KDnxLYQ0Ktty",
        "colab_type": "text"
      },
      "source": [
        "## Before doing"
      ]
    },
    {
      "cell_type": "markdown",
      "metadata": {
        "id": "P427p3QMKttz",
        "colab_type": "text"
      },
      "source": [
        "definition of huber_loss: https://en.wikipedia.org/wiki/Huber_loss"
      ]
    },
    {
      "cell_type": "markdown",
      "metadata": {
        "id": "vYeWhe9gKtt0",
        "colab_type": "text"
      },
      "source": [
        "Implement function which calculate $z_i$ from gradient boosting alogirithm (minus gradient of loss function). Implement for all possible loss function (mse, hl, logloss)\n",
        "\n",
        "In hl use $\\delta = 1$, assume that $MSE = \\frac{1}{2}(r - y)^2$ and log_loss(sigmoid(r)) use $0$ and $1$ like class label"
      ]
    },
    {
      "cell_type": "code",
      "metadata": {
        "id": "LcWR2RI2Ktt1",
        "colab_type": "code",
        "colab": {}
      },
      "source": [
        "def calc_objective(r, target, loss = 'mse'):\n",
        "    \"\"\"\n",
        "    Parameters\n",
        "        ----------\n",
        "        r : np.array\n",
        "            value of f(x)\n",
        "        target : np.array\n",
        "            target\n",
        "        loss : str\n",
        "            loss function. Possible values : mse, hl(https://en.wikipedia.org/wiki/Huber_loss, logloss(sigmoid(r))\n",
        "    \"\"\"\n",
        "    if loss == 'mse':\n",
        "      return target - r\n",
        "\n",
        "    elif loss == 'hl':\n",
        "      res = []\n",
        "\n",
        "      for i in range(len(r)):\n",
        "        if np.abs(r[i] - target[i]) < 1:\n",
        "          res.append(target[i] - r[i])\n",
        "        else:\n",
        "          res.append(np.sign(target[i] - r[i]) * int(target[i] > 0))\n",
        "\n",
        "      return res\n",
        "\n",
        "    elif loss == 'logloss':\n",
        "      res = []\n",
        "      target[target == 0] = -1\n",
        "\n",
        "      for i in range(len(r)):\n",
        "        v = 1. * target[i] * np.exp(-target[i] * r[i]) / (1 + np.exp(-target[i] * r[i]))\n",
        "        res.append(v)\n",
        "\n",
        "      return res"
      ],
      "execution_count": 0,
      "outputs": []
    },
    {
      "cell_type": "code",
      "metadata": {
        "id": "Ml9_f_7ClXFD",
        "colab_type": "code",
        "outputId": "57f2ca38-701a-42af-d127-b08b7f074baa",
        "colab": {
          "base_uri": "https://localhost:8080/",
          "height": 35
        }
      },
      "source": [
        "r = np.array([0, np.log(2), -np.log(9), np.log(4), np.log(19)])\n",
        "target = np.array([0, 1, 0, 1, 1])\n",
        "calc_objective(r, target, 'logloss')"
      ],
      "execution_count": 52,
      "outputs": [
        {
          "output_type": "execute_result",
          "data": {
            "text/plain": [
              "[-0.5, 0.3333333333333333, -0.09999999999999998, 0.2, 0.05000000000000002]"
            ]
          },
          "metadata": {
            "tags": []
          },
          "execution_count": 52
        }
      ]
    },
    {
      "cell_type": "code",
      "metadata": {
        "id": "pKuHirkkKtt8",
        "colab_type": "code",
        "colab": {}
      },
      "source": [
        "#test your code\n",
        "\n",
        "r = np.array([1, 2, 3, 4, 5])\n",
        "target = np.array([10, 9, 8, 7, 6])\n",
        "assert(np.allclose(calc_objective(r, target, 'mse'), np.array([9, 7, 5, 3, 1]), 0.00001))\n",
        "\n",
        "r = np.array([2, 4, 7, 9, 13])\n",
        "target = np.array([2.5, 6, 10, 6, 12.75])\n",
        "assert(np.allclose(calc_objective(r, target, 'hl'), np.array([0.5, 1, 1, -1, -0.25]), 0.00001))\n",
        "\n",
        "r = np.array([0, np.log(2), -np.log(9), np.log(4), np.log(19)])\n",
        "target = np.array([0, 1, 0, 1, 1])\n",
        "assert(np.allclose(calc_objective(r, target, 'logloss'), np.array([-0.5, 1. / 3, -0.1, 0.2, 0.05]), 0.00001))"
      ],
      "execution_count": 0,
      "outputs": []
    },
    {
      "cell_type": "markdown",
      "metadata": {
        "id": "6Cp7-07eKtuG",
        "colab_type": "text"
      },
      "source": [
        "Implement function which make one step of gradient boossting (fit new estimator)"
      ]
    },
    {
      "cell_type": "code",
      "metadata": {
        "id": "oDalsyP6KtuH",
        "colab_type": "code",
        "colab": {}
      },
      "source": [
        "def step(X, y, r, base_estimator, loss = 'mse'):\n",
        "    \"\"\"\n",
        "    Parameters\n",
        "        ----------\n",
        "        X : numpy.array, shape = (n_objects, n_features)\n",
        "            Matrix of objects that are described by their input features.\n",
        "        y : numpy.array, shape = (n_objects)\n",
        "            1D array with the target variables\n",
        "        r : np.array, shape = (n_ojects)\n",
        "            f_{m-1}(X) (X matrix of features) - prediction of previous m-1 base_estimators\n",
        "        base_estimator : estimator which you must fit\n",
        "            has got method fit\n",
        "        loss : str\n",
        "            loss function. Possible values : mse, hl, logloss\n",
        "            \n",
        "        Return fitted base_estimator\n",
        "    \"\"\"\n",
        "    shifts = calc_objective(r=r, target=y, loss=loss)\n",
        "    est = base_estimator.fit(X, shifts)\n",
        "    shifts_pred = base.estimator.predict(X)\n",
        "    return r + shifts_pred\n"
      ],
      "execution_count": 0,
      "outputs": []
    },
    {
      "cell_type": "markdown",
      "metadata": {
        "id": "-61xTDlQKtuM",
        "colab_type": "text"
      },
      "source": [
        "## Now use your knowledge and implement gradient boosting"
      ]
    },
    {
      "cell_type": "markdown",
      "metadata": {
        "id": "AkaLxk2bKtuM",
        "colab_type": "text"
      },
      "source": [
        "# Task 1 (6 points)\n",
        "\n",
        "Implement GradientBoostingRegressor as it was described in your lectures:\n",
        "\n",
        "**Input**: training dataset $(x_{i},y_{i}),\\,i=1,2,...N$; loss function $\\mathcal{L}(f,y)$; learning rate $\\nu$ and the number $M$ of successive additive approximations.\n",
        "\n",
        "1. Fit initial approximation $f_{0}(x)$ (might be taken $f_{0}(x)\\equiv0$)\n",
        "2. For each step $m=1,2,...M$:\n",
        "\n",
        "    1. calculate derivatives \n",
        "$$\n",
        "z_{i}=-\\frac{\\partial\\mathcal{L}(r,y_{i})}{\\partial r}|_{r=f^{m-1}(x_{i})}\n",
        "$$\n",
        "    2. fit $h_{m}$ to $\\{(x_{i},z_{i})\\}_{i=1}^{N}$, for example by solving\n",
        "$$\n",
        "\\sum_{n=1}^{N}(h_{m}(x_{n})-z_{n})^{2}\\to\\min_{h_{m}}\n",
        "$$\n",
        "    4. set $f_{m}(x)=f_{m-1}(x)+\\nu h_{m}(x)$\n",
        "\n",
        "\n",
        "**Output**: approximation function $f_{M}(x)=f_{0}(x)+\\sum_{m=1}^{M}\\nu h_{m}(x)$\n",
        "\n",
        "Implement three loss functions:\n",
        "\n",
        "    1 MSE\n",
        "    2 Huber loss(https://en.wikipedia.org/wiki/Huber_loss)\n",
        "    3 log_loss (in this case we solve classification task\n",
        "In our case $h_m$ is DecisionTreeRegressor"
      ]
    },
    {
      "cell_type": "code",
      "metadata": {
        "id": "t_8YMcudKtuN",
        "colab_type": "code",
        "colab": {}
      },
      "source": [
        "from sklearn.tree import DecisionTreeRegressor\n",
        "from sklearn.base import clone"
      ],
      "execution_count": 0,
      "outputs": []
    },
    {
      "cell_type": "code",
      "metadata": {
        "id": "eX-2GL6eKtuS",
        "colab_type": "code",
        "colab": {}
      },
      "source": [
        "# You need to modify this class #\n",
        "\n",
        "class GradientBoostingEstimator(object):\n",
        "    def __init__(self, n_estimators, max_depth = 3, max_leaf_nodes = 8, n_subset_features = 5, random_state = 42,\n",
        "                 loss = 'mse', learning_rate=0.1):\n",
        "        \"\"\"\n",
        "        This is your random forest classifier.\n",
        "        \n",
        "        Parameters\n",
        "        ----------\n",
        "        n_estimators : int\n",
        "            Number of estimators to train.\n",
        "        max_depth : int\n",
        "            max_depth of DecisionTreeRegressor\n",
        "        max_leaf_nodes:\n",
        "            max_leaf_nodes of DecisionTreeRegressor\n",
        "        n_subset_features : int\n",
        "            Number of random features to used to train a decision tree\n",
        "        random_state : int\n",
        "            random_state for decision tree\n",
        "        loss : str\n",
        "            Loss. Possible values : mse, hl, logloss\n",
        "        learning_rate : float\n",
        "            learning_rate (coef for next estimator on each step)\n",
        "        \"\"\"\n",
        "        self.n_estimators = n_estimators\n",
        "        self.learning_rate = learning_rate\n",
        "        self.loss = loss\n",
        "        self.base_estimator = DecisionTreeRegressor(max_depth=max_depth, \n",
        "                                                    max_leaf_nodes=max_leaf_nodes,\n",
        "                                                    max_features=n_subset_features,\n",
        "                                                    random_state=random_state)\n",
        "\n",
        "    def fit(self, X, y):\n",
        "        \"\"\"\n",
        "        Fit the classifier.\n",
        "        \n",
        "        Parameters\n",
        "        ----------\n",
        "        X : numpy.array, shape = (n_objects, n_features)\n",
        "            Matrix of objects that are described by their input features.\n",
        "        y : numpy.array, shape = (n_objects)\n",
        "            1D array with the object labels. \n",
        "            For the classification labels are integers in {0, 1, 2, ...}.\n",
        "        \"\"\"\n",
        "        self.estimators = []\n",
        "        shifts = np.zeros(X.shape[0], dtype=float)\n",
        "\n",
        "        for i in range(self.n_estimators):\n",
        "          curr_shifts = calc_objective(shifts, y, self.loss)\n",
        "\n",
        "          est = clone(self.base_estimator)\n",
        "          est.fit(X, curr_shifts)\n",
        "          shifts_pred = est.predict(X)\n",
        "\n",
        "          shifts += self.learning_rate * shifts_pred\n",
        "          self.estimators.append(est)\n",
        "            \n",
        "    def predict(self, X):\n",
        "      \"\"\"\n",
        "      This methods performs labels prediction for new objects.\n",
        "      \n",
        "      Parameters\n",
        "      ----------\n",
        "      X : numpy.array, shape = (n_objects, n_features)\n",
        "          Matrix of objects that are described by their input features.\n",
        "          \n",
        "      Returns\n",
        "      -------\n",
        "      labels : numpy.array, shape = (n_objects)\n",
        "          1D array with predicted labels. \n",
        "          For the classification labels are integers in {0, 1, 2, ...}.\n",
        "      \"\"\"\n",
        "      labels = np.zeros(X.shape[0], dtype=float)\n",
        "      for i in range(self.n_estimators):\n",
        "        labels += self.learning_rate * self.estimators[i].predict(X)\n",
        "      \n",
        "      if self.loss == 'logloss':\n",
        "        return labels\n",
        "      return labels\n",
        "\n",
        "\n",
        "    def predict_proba(self, X):\n",
        "      \"\"\"\n",
        "      This methods performs probabilities prediction for new objects.\n",
        "      \n",
        "      Parameters\n",
        "      ----------\n",
        "      X : numpy.array, shape = (n_objects, n_features)\n",
        "          Matrix of objects that are described by their input features.\n",
        "          \n",
        "      Returns\n",
        "      -------\n",
        "      proba : numpy.array, shape = (n_objects, n_classes)\n",
        "          Array with predicted probabilities. \n",
        "      \"\"\"\n",
        "      proba = np.zeros(X.shape[0], dtype=float)\n",
        "      for i in range(self.n_estimators):\n",
        "        proba += self.learning_rate * self.estimators[i].predict(X)\n",
        "      return 1. / (1 + np.exp(-proba))\n",
        "      \n",
        "    def _calc_objective(r, target, loss = 'mse'):\n",
        "      \"\"\"\n",
        "      Parameters\n",
        "          ----------\n",
        "          r : np.array\n",
        "              value of f(x)\n",
        "          target : np.array\n",
        "              target\n",
        "          loss : str\n",
        "              loss function. Possible values : mse, hl(https://en.wikipedia.org/wiki/Huber_loss, logloss(sigmoid(r))\n",
        "      \"\"\"\n",
        "      if loss == 'mse':\n",
        "        return target - r\n",
        "\n",
        "      elif loss == 'hl':\n",
        "        res = []\n",
        "        for i in range(len(r)):\n",
        "          if np.abs(r[i] - target[i]) < 1:\n",
        "            res.append(target[i] - r[i])\n",
        "          else:\n",
        "            res.append(np.sign(target[i] - r[i]) * int(target[i] > 0))\n",
        "        return res\n",
        "\n",
        "      elif loss == 'logloss':\n",
        "        target[target == 0] = -1\n",
        "        return 1. * target * np.exp(-target * r) / (1 + np.exp(-target * r))"
      ],
      "execution_count": 0,
      "outputs": []
    },
    {
      "cell_type": "markdown",
      "metadata": {
        "id": "n22y24EdKtuW",
        "colab_type": "text"
      },
      "source": [
        "### Important\n",
        "When you select `learning_rate` and `n_estimators`, follow the default values of the tree parameters"
      ]
    },
    {
      "cell_type": "markdown",
      "metadata": {
        "id": "CmUooMRuKtuX",
        "colab_type": "text"
      },
      "source": [
        "# Task 2 (2 points)\n",
        "\n",
        "Split your data on train, valid sample (fix random_seed). Choose the best `learning_rate` and `n_estimators` for every loss (for logloss use data from previous HW). For regression task (mse_loss, huber_loss) use MSE on valid sample as quality measure to choose optimal params, for classification task (logloss) use ROC-AUC."
      ]
    },
    {
      "cell_type": "code",
      "metadata": {
        "id": "GUthCDri1KU7",
        "colab_type": "code",
        "colab": {}
      },
      "source": [
        "from sklearn.model_selection import train_test_split\n",
        "from sklearn.metrics import mean_squared_error, roc_auc_score"
      ],
      "execution_count": 0,
      "outputs": []
    },
    {
      "cell_type": "markdown",
      "metadata": {
        "id": "SCTD_pKy63Mu",
        "colab_type": "text"
      },
      "source": [
        "## MSE"
      ]
    },
    {
      "cell_type": "code",
      "metadata": {
        "id": "JTTzzUxO1jMS",
        "colab_type": "code",
        "outputId": "2b1996f9-c493-404a-e3fb-aab60daa279b",
        "colab": {
          "base_uri": "https://localhost:8080/",
          "height": 35
        }
      },
      "source": [
        "X_train, X_test, y_train, y_test = train_test_split(X, y, test_size=0.3, random_state=42)\n",
        "est_mse = GradientBoostingEstimator(n_estimators=230, learning_rate=0.5, random_state=42)\n",
        "est_mse.fit(X_train, y_train)\n",
        "\n",
        "y_pred_mse = est_mse.predict(X_test)\n",
        "mean_squared_error(y_test, y_pred_mse)"
      ],
      "execution_count": 58,
      "outputs": [
        {
          "output_type": "execute_result",
          "data": {
            "text/plain": [
              "11.215830366206253"
            ]
          },
          "metadata": {
            "tags": []
          },
          "execution_count": 58
        }
      ]
    },
    {
      "cell_type": "markdown",
      "metadata": {
        "id": "mADBFKUz7iLK",
        "colab_type": "text"
      },
      "source": [
        "## HL"
      ]
    },
    {
      "cell_type": "code",
      "metadata": {
        "id": "Lz0vYjtp7lGn",
        "colab_type": "code",
        "outputId": "d6246114-5410-48e0-d3b5-5affcb7aa3f4",
        "colab": {
          "base_uri": "https://localhost:8080/",
          "height": 35
        }
      },
      "source": [
        "est_hl = GradientBoostingEstimator(n_estimators=200, learning_rate=0.44, loss='hl', random_state=42)\n",
        "est_hl.fit(X_train, y_train)\n",
        "\n",
        "y_pred_hl = est_hl.predict(X_test)\n",
        "mean_squared_error(y_test, y_pred_hl)"
      ],
      "execution_count": 59,
      "outputs": [
        {
          "output_type": "execute_result",
          "data": {
            "text/plain": [
              "14.539032831687198"
            ]
          },
          "metadata": {
            "tags": []
          },
          "execution_count": 59
        }
      ]
    },
    {
      "cell_type": "markdown",
      "metadata": {
        "id": "v3GZBXjh8JV9",
        "colab_type": "text"
      },
      "source": [
        "## LogLoss"
      ]
    },
    {
      "cell_type": "code",
      "metadata": {
        "id": "FVG6UgBG_GjQ",
        "colab_type": "code",
        "colab": {}
      },
      "source": [
        "d_X_log = pd.read_csv('./data/x_train.csv', sep=';')\n",
        "d_y_log = pd.read_csv('./data/y_train.csv', sep=';', header=None, names=['target'])\n",
        "X_log = d_X_log.values\n",
        "y_log = d_y_log['target'].values\n",
        "\n",
        "X_train_log, X_test_log, y_train_log, y_test_log = train_test_split(X_log, y_log, test_size=0.3, random_state=42)"
      ],
      "execution_count": 0,
      "outputs": []
    },
    {
      "cell_type": "code",
      "metadata": {
        "id": "BnRJDJid8EFz",
        "colab_type": "code",
        "outputId": "cf82c47d-c34e-42cb-a355-35894f51b7cb",
        "colab": {
          "base_uri": "https://localhost:8080/",
          "height": 35
        }
      },
      "source": [
        "est_logloss = GradientBoostingEstimator(n_estimators=100, learning_rate=0.5, loss='logloss', random_state=42)\n",
        "est_logloss.fit(X_train_log, y_train_log)\n",
        "\n",
        "y_pred_logloss = est_logloss.predict_proba(X_test_log)\n",
        "roc_auc_score(y_test_log, y_pred_logloss)"
      ],
      "execution_count": 61,
      "outputs": [
        {
          "output_type": "execute_result",
          "data": {
            "text/plain": [
              "0.8853905280761745"
            ]
          },
          "metadata": {
            "tags": []
          },
          "execution_count": 61
        }
      ]
    },
    {
      "cell_type": "markdown",
      "metadata": {
        "id": "7k5jRcdjKtuY",
        "colab_type": "text"
      },
      "source": [
        "# Task 3 (1 point)\n",
        "Plot dependecy of loss value (in classification task plot roc-auc score) from `n_estimators` of your boosting. Use `learning_rate=0.1`."
      ]
    },
    {
      "cell_type": "code",
      "metadata": {
        "id": "HHT81kf2UIfp",
        "colab_type": "code",
        "colab": {}
      },
      "source": [
        "from tqdm import tqdm_notebook"
      ],
      "execution_count": 0,
      "outputs": []
    },
    {
      "cell_type": "code",
      "metadata": {
        "id": "N7ttzZjNH5GX",
        "colab_type": "code",
        "colab": {}
      },
      "source": [
        "lv_mse_train, lv_mse_test = [], []\n",
        "lv_hl_train, lv_hl_test = [], []\n",
        "lv_log_train, lv_log_test = [], []"
      ],
      "execution_count": 0,
      "outputs": []
    },
    {
      "cell_type": "code",
      "metadata": {
        "id": "0IaNbmvRAyMJ",
        "colab_type": "code",
        "outputId": "b248621f-150c-43fa-d9e7-b245ee600772",
        "colab": {
          "base_uri": "https://localhost:8080/",
          "height": 140,
          "referenced_widgets": [
            "d973a06327394ff78cc1e934cec4e2d0",
            "f44622da7b094317a4c4dcae65a0782c",
            "8cecaf510c17497283a801dd9525d195",
            "53f3165e48c84b2790b84bcc9dbe4d79",
            "301985f57fef4790887c7191cec1ec61",
            "bb37d462e10843f0854f9334f5e415cb",
            "022e7e14cd30402db8c1ba06575500f0",
            "df99fa9dc22d4937befab1c88f7d534e"
          ]
        }
      },
      "source": [
        "for i in tqdm_notebook(range(300)):\n",
        "  est_mse = GradientBoostingEstimator(n_estimators=i, \n",
        "                                      learning_rate=0.1, \n",
        "                                      random_state=42)\n",
        "  est_hl = GradientBoostingEstimator(n_estimators=i, \n",
        "                                     learning_rate=0.1, \n",
        "                                     random_state=42, \n",
        "                                     loss=\"hl\")\n",
        "  est_mse.fit(X_train, y_train)\n",
        "  est_hl.fit(X_train, y_train)\n",
        "\n",
        "  lv_mse_train.append(mean_squared_error(y_train, est_mse.predict(X_train)))\n",
        "  lv_hl_train.append(mean_squared_error(y_train, est_hl.predict(X_train)))\n",
        "\n",
        "  lv_mse_test.append(mean_squared_error(y_test, est_mse.predict(X_test)))\n",
        "  lv_hl_test.append(mean_squared_error(y_test, est_hl.predict(X_test)))"
      ],
      "execution_count": 34,
      "outputs": [
        {
          "output_type": "stream",
          "text": [
            "/usr/local/lib/python3.6/dist-packages/ipykernel_launcher.py:1: TqdmDeprecationWarning: This function will be removed in tqdm==5.0.0\n",
            "Please use `tqdm.notebook.tqdm` instead of `tqdm.tqdm_notebook`\n",
            "  \"\"\"Entry point for launching an IPython kernel.\n"
          ],
          "name": "stderr"
        },
        {
          "output_type": "display_data",
          "data": {
            "application/vnd.jupyter.widget-view+json": {
              "model_id": "d973a06327394ff78cc1e934cec4e2d0",
              "version_minor": 0,
              "version_major": 2
            },
            "text/plain": [
              "HBox(children=(FloatProgress(value=0.0, max=300.0), HTML(value='')))"
            ]
          },
          "metadata": {
            "tags": []
          }
        },
        {
          "output_type": "stream",
          "text": [
            "\n"
          ],
          "name": "stdout"
        }
      ]
    },
    {
      "cell_type": "code",
      "metadata": {
        "id": "rH-clmYpHoZ-",
        "colab_type": "code",
        "colab": {
          "base_uri": "https://localhost:8080/",
          "height": 140,
          "referenced_widgets": [
            "4d810e530a3d432dac0a0a7388ab8311",
            "66de7d44f3d54d8882869bc92b1f269a",
            "c6f5785a3d51428ebc812bb229f8e02f",
            "3266817bf3f9490a9c1959ef7e9abb1b",
            "face309d3e574524bde8604f6c876486",
            "13ce4de7b8d649cd909424c03d2c72a5",
            "31f465dbbf2e443cbbdbd4944bc7eef6",
            "adc092a9f40f41a58b5ce933fae63aac"
          ]
        },
        "outputId": "9f528f33-8401-4f0f-c3d1-ec8f031cafef"
      },
      "source": [
        "for i in tqdm_notebook(range(200)):\n",
        "  est_log = GradientBoostingEstimator(n_estimators=i, learning_rate=0.1, random_state=42, loss=\"logloss\")\n",
        "  est_log.fit(X_train_log, y_train_log)\n",
        "  lv_log_train.append(roc_auc_score(y_train_log, est_log.predict_proba(X_train_log)))\n",
        "  lv_log_test.append(roc_auc_score(y_test_log, est_log.predict_proba(X_test_log)))"
      ],
      "execution_count": 35,
      "outputs": [
        {
          "output_type": "stream",
          "text": [
            "/usr/local/lib/python3.6/dist-packages/ipykernel_launcher.py:1: TqdmDeprecationWarning: This function will be removed in tqdm==5.0.0\n",
            "Please use `tqdm.notebook.tqdm` instead of `tqdm.tqdm_notebook`\n",
            "  \"\"\"Entry point for launching an IPython kernel.\n"
          ],
          "name": "stderr"
        },
        {
          "output_type": "display_data",
          "data": {
            "application/vnd.jupyter.widget-view+json": {
              "model_id": "4d810e530a3d432dac0a0a7388ab8311",
              "version_minor": 0,
              "version_major": 2
            },
            "text/plain": [
              "HBox(children=(FloatProgress(value=0.0, max=200.0), HTML(value='')))"
            ]
          },
          "metadata": {
            "tags": []
          }
        },
        {
          "output_type": "stream",
          "text": [
            "\n"
          ],
          "name": "stdout"
        }
      ]
    },
    {
      "cell_type": "code",
      "metadata": {
        "id": "V7dsOKc7Ou7p",
        "colab_type": "code",
        "outputId": "c329a84c-dcde-411e-cec8-c2754aa68387",
        "colab": {
          "base_uri": "https://localhost:8080/",
          "height": 381
        }
      },
      "source": [
        "plt.rcParams['figure.figsize'] = (18, 6)\n",
        "fig, ax = plt.subplots(1,2)\n",
        "\n",
        "n_est = range(300)\n",
        "\n",
        "ax[0].plot(n_est, lv_mse_train, linewidth=2, label='mse')\n",
        "ax[0].plot(n_est, lv_hl_train, linewidth=2, label='hl')\n",
        "ax[0].set_title('Train set', size = 15)\n",
        "ax[0].legend(loc = 'upper right')\n",
        "    \n",
        "ax[1].plot(n_est, lv_mse_test, linewidth=2, label='mse')\n",
        "ax[1].plot(n_est, lv_hl_test, linewidth=2, label='hl')\n",
        "ax[1].set_title('Validation set', size = 15)\n",
        "ax[1].legend(loc = 'upper right')\n",
        "\n",
        "ax[0].grid(b=1)\n",
        "ax[1].grid(b=1)"
      ],
      "execution_count": 37,
      "outputs": [
        {
          "output_type": "display_data",
          "data": {
            "image/png": "[encoded data removed]",
            "text/plain": [
              "<Figure size 1296x432 with 2 Axes>"
            ]
          },
          "metadata": {
            "tags": [],
            "needs_background": "light"
          }
        }
      ]
    },
    {
      "cell_type": "code",
      "metadata": {
        "id": "6RJrJxwWS3Vl",
        "colab_type": "code",
        "outputId": "4a4d6a77-6648-4f1f-e011-2f39202fa726",
        "colab": {
          "base_uri": "https://localhost:8080/",
          "height": 380
        }
      },
      "source": [
        "plt.rcParams['figure.figsize'] = (18, 6)\n",
        "fig, ax = plt.subplots(1,2)\n",
        "\n",
        "ax[0].plot(range(200), lv_log_train, linewidth=2, label='logloss')\n",
        "ax[0].set_title('Train set', size = 15)\n",
        "ax[0].legend(loc = 'upper right')\n",
        "\n",
        "ax[1].plot(range(200), lv_log_test, linewidth=2, label='logloss')\n",
        "ax[1].set_title('Validation set', size = 15)\n",
        "ax[1].legend(loc = 'upper right')\n",
        "\n",
        "ax[0].grid(b=1)\n",
        "ax[1].grid(b=1)"
      ],
      "execution_count": 39,
      "outputs": [
        {
          "output_type": "display_data",
          "data": {
            "image/png": "[encoded data removed]",
            "text/plain": [
              "<Figure size 1296x432 with 2 Axes>"
            ]
          },
          "metadata": {
            "tags": [],
            "needs_background": "light"
          }
        }
      ]
    },
    {
      "cell_type": "markdown",
      "metadata": {
        "id": "oeyw1yy0KtuZ",
        "colab_type": "text"
      },
      "source": [
        "# Task 4 (1 point)\n",
        "Plot dependecy of loss value (in classification task plot roc-auc score) from `learning_rate` of your boosting. Use `n_estimators=100`."
      ]
    },
    {
      "cell_type": "code",
      "metadata": {
        "id": "OlH_GGGea0kP",
        "colab_type": "code",
        "colab": {}
      },
      "source": [
        "learning_rates = np.arange(0, 1, 0.01)\n",
        "lv_mse_train, lv_mse_test = [], []\n",
        "lv_hl_train, lv_hl_test = [], []\n",
        "lv_log_train, lv_log_test = [], []"
      ],
      "execution_count": 0,
      "outputs": []
    },
    {
      "cell_type": "code",
      "metadata": {
        "id": "EtxW9UiDAy3L",
        "colab_type": "code",
        "outputId": "f45e33db-06e0-44cb-b259-279f1a4df3e8",
        "colab": {
          "base_uri": "https://localhost:8080/",
          "height": 140,
          "referenced_widgets": [
            "28931be5ba754719954a51358c6fec2b",
            "6d966c0c68504a27879efc1eb533c6cf",
            "1b842d86099e43e0ad4ae37eeda6ded5",
            "cc3b8052a77d4df695483b52c794f42e",
            "de47a9e23f1244b38bd5743ef6a83945",
            "5f2dff504af14906bc64c5c21b4aacd1",
            "8f2ca1cbd4874b45bba5914a937668f8",
            "434f56103dc4452eb6d60db83d428ba3"
          ]
        }
      },
      "source": [
        "for i in tqdm_notebook(range(len(learning_rates))):\n",
        "  est_mse = GradientBoostingEstimator(n_estimators=100, \n",
        "                                      learning_rate=learning_rates[i], \n",
        "                                      random_state=42)\n",
        "  est_mse.fit(X_train, y_train)\n",
        "  lv_mse_train.append(mean_squared_error(y_train, est_mse.predict(X_train)))\n",
        "  lv_mse_test.append(mean_squared_error(y_test, est_mse.predict(X_test)))"
      ],
      "execution_count": 41,
      "outputs": [
        {
          "output_type": "stream",
          "text": [
            "/usr/local/lib/python3.6/dist-packages/ipykernel_launcher.py:1: TqdmDeprecationWarning: This function will be removed in tqdm==5.0.0\n",
            "Please use `tqdm.notebook.tqdm` instead of `tqdm.tqdm_notebook`\n",
            "  \"\"\"Entry point for launching an IPython kernel.\n"
          ],
          "name": "stderr"
        },
        {
          "output_type": "display_data",
          "data": {
            "application/vnd.jupyter.widget-view+json": {
              "model_id": "28931be5ba754719954a51358c6fec2b",
              "version_minor": 0,
              "version_major": 2
            },
            "text/plain": [
              "HBox(children=(FloatProgress(value=0.0), HTML(value='')))"
            ]
          },
          "metadata": {
            "tags": []
          }
        },
        {
          "output_type": "stream",
          "text": [
            "\n"
          ],
          "name": "stdout"
        }
      ]
    },
    {
      "cell_type": "code",
      "metadata": {
        "id": "r7x44GBOazSG",
        "colab_type": "code",
        "colab": {
          "base_uri": "https://localhost:8080/",
          "height": 140,
          "referenced_widgets": [
            "dcb55de9573440f1bbe854b8584f28bf",
            "561bee93215b496f8034f65700596434",
            "5673fd07f66b451cb1a2998a045ad2f4",
            "58b03e532cfb433297d4d23c941244a9",
            "92ee4b4255f34f66abd5c79955e5b52a",
            "e11470eabd3544eaa4dbc1ae387bed77",
            "e62332afcd3e400e828e8c334f45edff",
            "6d11c7a1fd6a4234aca447c092908394"
          ]
        },
        "outputId": "41ff5bab-fbf0-4080-8f56-c07771f49509"
      },
      "source": [
        "for i in tqdm_notebook(range(len(learning_rates))):\n",
        "  est_hl = GradientBoostingEstimator(n_estimators=100, \n",
        "                                     learning_rate=learning_rates[i],\n",
        "                                     random_state=42, \n",
        "                                     loss=\"hl\")\n",
        "  est_hl.fit(X_train, y_train)\n",
        "  lv_hl_train.append(mean_squared_error(y_train, est_hl.predict(X_train)))\n",
        "  lv_hl_test.append(mean_squared_error(y_test, est_hl.predict(X_test)))"
      ],
      "execution_count": 42,
      "outputs": [
        {
          "output_type": "stream",
          "text": [
            "/usr/local/lib/python3.6/dist-packages/ipykernel_launcher.py:1: TqdmDeprecationWarning: This function will be removed in tqdm==5.0.0\n",
            "Please use `tqdm.notebook.tqdm` instead of `tqdm.tqdm_notebook`\n",
            "  \"\"\"Entry point for launching an IPython kernel.\n"
          ],
          "name": "stderr"
        },
        {
          "output_type": "display_data",
          "data": {
            "application/vnd.jupyter.widget-view+json": {
              "model_id": "dcb55de9573440f1bbe854b8584f28bf",
              "version_minor": 0,
              "version_major": 2
            },
            "text/plain": [
              "HBox(children=(FloatProgress(value=0.0), HTML(value='')))"
            ]
          },
          "metadata": {
            "tags": []
          }
        },
        {
          "output_type": "stream",
          "text": [
            "\n"
          ],
          "name": "stdout"
        }
      ]
    },
    {
      "cell_type": "code",
      "metadata": {
        "id": "FQEo9E8SbEcf",
        "colab_type": "code",
        "colab": {
          "base_uri": "https://localhost:8080/",
          "height": 140,
          "referenced_widgets": [
            "f416578a57b8496c95c6ddf1ac40de71",
            "74b2e0b3bdc04294ae1d056a41a639f1",
            "0725fde7211a4940b71c01efd9465747",
            "a5099e9ac4da4516a73c232d08ba83d5",
            "5b814cea8388412ab760886f03bbc8ca",
            "671181f6aa5e4e3d8d82ea6f9d6db48f",
            "e3d6d0cecc28415f9294a90441f395a8",
            "4e6941ff4aac44e6aebbb96817ecf527"
          ]
        },
        "outputId": "389d9a4a-62f9-4700-a1d0-0ad7af3ed3fe"
      },
      "source": [
        "for i in tqdm_notebook(range(len(learning_rates))):\n",
        "  est_log = GradientBoostingEstimator(n_estimators=n_estimators[i], \n",
        "                                      learning_rate=0.1, \n",
        "                                      random_state=42, \n",
        "                                      loss=\"logloss\")\n",
        "  est_log.fit(X_train_log, y_train_log)\n",
        "  lv_log_train.append(roc_auc_score(y_train_log, est_log.predict_proba(X_train_log)))\n",
        "  lv_log_test.append(roc_auc_score(y_test_log, est_log.predict_proba(X_test_log)))"
      ],
      "execution_count": 43,
      "outputs": [
        {
          "output_type": "stream",
          "text": [
            "/usr/local/lib/python3.6/dist-packages/ipykernel_launcher.py:1: TqdmDeprecationWarning: This function will be removed in tqdm==5.0.0\n",
            "Please use `tqdm.notebook.tqdm` instead of `tqdm.tqdm_notebook`\n",
            "  \"\"\"Entry point for launching an IPython kernel.\n"
          ],
          "name": "stderr"
        },
        {
          "output_type": "display_data",
          "data": {
            "application/vnd.jupyter.widget-view+json": {
              "model_id": "f416578a57b8496c95c6ddf1ac40de71",
              "version_minor": 0,
              "version_major": 2
            },
            "text/plain": [
              "HBox(children=(FloatProgress(value=0.0), HTML(value='')))"
            ]
          },
          "metadata": {
            "tags": []
          }
        },
        {
          "output_type": "stream",
          "text": [
            "\n"
          ],
          "name": "stdout"
        }
      ]
    },
    {
      "cell_type": "code",
      "metadata": {
        "id": "bOuqoNQEGa2h",
        "colab_type": "code",
        "outputId": "2024d6b1-b24e-4c1f-c05f-46b3e7b7dbed",
        "colab": {
          "base_uri": "https://localhost:8080/",
          "height": 381
        }
      },
      "source": [
        "plt.rcParams['figure.figsize'] = (18, 6)\n",
        "fig, ax = plt.subplots(1,2)\n",
        "\n",
        "ax[0].plot(learning_rates, lv_mse_train, linewidth=2, label='mse')\n",
        "ax[0].plot(learning_rates, lv_hl_train, linewidth=2, label='hl')\n",
        "ax[0].set_title('Train set', size = 15)\n",
        "ax[0].legend(loc = 'upper right')\n",
        "    \n",
        "ax[1].plot(learning_rates, lv_mse_test, linewidth=2, label='mse')\n",
        "ax[1].plot(learning_rates, lv_hl_test, linewidth=2, label='hl')\n",
        "ax[1].set_title('Validation set', size = 15)\n",
        "ax[1].legend(loc = 'upper right')\n",
        "\n",
        "ax[0].grid(b=1)\n",
        "ax[1].grid(b=1)"
      ],
      "execution_count": 45,
      "outputs": [
        {
          "output_type": "display_data",
          "data": {
            "image/png": "[encoded data removed]",
            "text/plain": [
              "<Figure size 1296x432 with 2 Axes>"
            ]
          },
          "metadata": {
            "tags": [],
            "needs_background": "light"
          }
        }
      ]
    },
    {
      "cell_type": "code",
      "metadata": {
        "id": "R8T0-jfbH7Sz",
        "colab_type": "code",
        "outputId": "bbcddb15-befd-4827-e827-59bf2ff3b572",
        "colab": {
          "base_uri": "https://localhost:8080/",
          "height": 378
        }
      },
      "source": [
        "plt.rcParams['figure.figsize'] = (18, 6)\n",
        "fig, ax = plt.subplots(1,2)\n",
        "\n",
        "ax[0].plot(learning_rates, lv_log_train, linewidth=2, label='logloss')\n",
        "ax[0].set_title('Train set', size = 15)\n",
        "ax[0].legend(loc = 'upper right')\n",
        "    \n",
        "ax[1].plot(learning_rates, lv_log_test, linewidth=2, label='logloss')\n",
        "ax[1].set_title('Validation set', size = 15)\n",
        "ax[1].legend(loc = 'upper right')\n",
        "\n",
        "ax[0].grid(b=1)\n",
        "ax[1].grid(b=1)"
      ],
      "execution_count": 46,
      "outputs": [
        {
          "output_type": "display_data",
          "data": {
            "image/png": "[encoded data removed]",
            "text/plain": [
              "<Figure size 1296x432 with 2 Axes>"
            ]
          },
          "metadata": {
            "tags": [],
            "needs_background": "light"
          }
        }
      ]
    },
    {
      "cell_type": "code",
      "metadata": {
        "id": "4in4kXZQTfEn",
        "colab_type": "code",
        "colab": {}
      },
      "source": [
        ""
      ],
      "execution_count": 0,
      "outputs": []
    }
  ]
}